{
 "cells": [
  {
   "cell_type": "code",
   "execution_count": 1,
   "metadata": {
    "pycharm": {
     "name": "#%%\n"
    }
   },
   "outputs": [
    {
     "data": {
      "text/html": [
       "<style> \n",
       "table {display: block;} \n",
       "td {\n",
       "  font-size: 18px\n",
       "}\n",
       ".rendered_html { font-size: 28px; }\n",
       "*{ line-height: 200%; }\n",
       "</style>\n"
      ],
      "text/plain": [
       "<IPython.core.display.HTML object>"
      ]
     },
     "metadata": {},
     "output_type": "display_data"
    }
   ],
   "source": [
    "%%html\n",
    "<style> \n",
    "table {display: block;} \n",
    "td {\n",
    "  font-size: 18px\n",
    "}\n",
    ".rendered_html { font-size: 28px; }\n",
    "*{ line-height: 200%; }\n",
    "</style>"
   ]
  },
  {
   "cell_type": "markdown",
   "metadata": {
    "pycharm": {
     "name": "#%% md\n"
    },
    "slideshow": {
     "slide_type": "slide"
    }
   },
   "source": [
    "## Natural Language Processing and the Web WS 2022/23 - Practice Class - <span style=\"color:blue\">Tutorial 4</span>"
   ]
  },
  {
   "cell_type": "markdown",
   "metadata": {
    "pycharm": {
     "name": "#%% md\n"
    },
    "slideshow": {
     "slide_type": "slide"
    }
   },
   "source": [
    "In this practice class, we will discuss different ways of analyzing and visualizing text corpora with different libraries. Before building models for different NLP applications, it is very important to understanding <span style=\"color:blue\">how the corpora looks like</span>.\n",
    "## Content\n",
    "* Text <span style=\"color:blue\">concordance</span> and frequency of n-grams\n",
    "* Introduction to <span style=\"color:blue\">Numpy and Pandas</span>\n",
    "* Plotting different figures with <span style=\"color:blue\">matplotlib and Seaborn</span>\n",
    "* Text to <span style=\"color:blue\">vector conversion</span>"
   ]
  },
  {
   "cell_type": "markdown",
   "metadata": {
    "pycharm": {
     "name": "#%% md\n"
    },
    "slideshow": {
     "slide_type": "slide"
    }
   },
   "source": [
    "## Text Concordance  in NLTK\n",
    "<span style=\"color:blue\">Concordance</span> finds a word in a text and displays the context in which this word is used. The <span style=\"color:blue\">Concordance</span> function in NLTK takes a word of interest as an input and returns a list of every instance where that word is mentioned in the underlying text. The output includes some snippet words surrounding the target word."
   ]
  },
  {
   "cell_type": "code",
   "execution_count": 12,
   "metadata": {
    "pycharm": {
     "name": "#%%\n"
    },
    "scrolled": true,
    "slideshow": {
     "slide_type": "slide"
    }
   },
   "outputs": [
    {
     "ename": "FileNotFoundError",
     "evalue": "[Errno 2] No such file or directory: 'data/book-excerpts.tab.txt'",
     "output_type": "error",
     "traceback": [
      "\u001b[0;31m---------------------------------------------------------------------------\u001b[0m",
      "\u001b[0;31mFileNotFoundError\u001b[0m                         Traceback (most recent call last)",
      "\u001b[0;32m/var/folders/tf/pdn5b3q52dv97xknqq0_66nm0000gn/T/ipykernel_11800/2852367183.py\u001b[0m in \u001b[0;36m<module>\u001b[0;34m\u001b[0m\n\u001b[1;32m      1\u001b[0m \u001b[0;32mimport\u001b[0m \u001b[0mnltk\u001b[0m\u001b[0;34m\u001b[0m\u001b[0;34m\u001b[0m\u001b[0m\n\u001b[0;32m----> 2\u001b[0;31m \u001b[0mcontents\u001b[0m \u001b[0;34m=\u001b[0m \u001b[0mopen\u001b[0m\u001b[0;34m(\u001b[0m\u001b[0;34m\"data/book-excerpts.tab.txt\"\u001b[0m\u001b[0;34m)\u001b[0m\u001b[0;34m.\u001b[0m\u001b[0mread\u001b[0m\u001b[0;34m(\u001b[0m\u001b[0;34m)\u001b[0m\u001b[0;34m\u001b[0m\u001b[0;34m\u001b[0m\u001b[0m\n\u001b[0m\u001b[1;32m      3\u001b[0m \u001b[0mbook_tokens\u001b[0m \u001b[0;34m=\u001b[0m \u001b[0mnltk\u001b[0m\u001b[0;34m.\u001b[0m\u001b[0mword_tokenize\u001b[0m\u001b[0;34m(\u001b[0m\u001b[0mcontents\u001b[0m\u001b[0;34m)\u001b[0m\u001b[0;34m\u001b[0m\u001b[0;34m\u001b[0m\u001b[0m\n\u001b[1;32m      4\u001b[0m \u001b[0;31m#nlt.Text performs a variety of analyses on the text's contexts (e.g., counting,\u001b[0m\u001b[0;34m\u001b[0m\u001b[0;34m\u001b[0m\u001b[0m\n\u001b[1;32m      5\u001b[0m \u001b[0;31m# concordancing, collocation discovery), and display the results.\u001b[0m\u001b[0;34m\u001b[0m\u001b[0;34m\u001b[0m\u001b[0m\n",
      "\u001b[0;31mFileNotFoundError\u001b[0m: [Errno 2] No such file or directory: 'data/book-excerpts.tab.txt'"
     ]
    }
   ],
   "source": [
    "import nltk\n",
    "contents = open(\"data/book-excerpts.tab.txt\").read()\n",
    "book_tokens = nltk.word_tokenize(contents)\n",
    "#nlt.Text performs a variety of analyses on the text's contexts (e.g., counting, \n",
    "# concordancing, collocation discovery), and display the results. \n",
    "book_text = nltk.Text(book_tokens)\n",
    "# show all the concordances for the word 'doctor'\n",
    "book_text.concordance('doctor',lines=-1)"
   ]
  },
  {
   "cell_type": "code",
   "execution_count": 3,
   "metadata": {
    "pycharm": {
     "name": "#%%\n"
    },
    "slideshow": {
     "slide_type": "slide"
    }
   },
   "outputs": [
    {
     "name": "stdout",
     "output_type": "stream",
     "text": [
      "*** Introductory Examples for the NLTK Book ***\n",
      "Loading text1, ..., text9 and sent1, ..., sent9\n",
      "Type the name of the text or sentence to view it.\n",
      "Type: 'texts()' or 'sents()' to list the materials.\n",
      "text1: Moby Dick by Herman Melville 1851\n",
      "text2: Sense and Sensibility by Jane Austen 1811\n",
      "text3: The Book of Genesis\n",
      "text4: Inaugural Address Corpus\n",
      "text5: Chat Corpus\n",
      "text6: Monty Python and the Holy Grail\n",
      "text7: Wall Street Journal\n",
      "text8: Personals Corpus\n",
      "text9: The Man Who Was Thursday by G . K . Chesterton 1908\n",
      "Displaying 6 of 6 matches:\n",
      "t , and was fast asleep . But the frightened master comes to him , and shrieks\n",
      "nd never came to good . He got so frightened about his plaguy soul , that he s\n",
      " says he . Slid ! man , but I was frightened . Such a phiz ! But , somehow , n\n",
      "aking of that buffalo robe to the frightened colt ! Though neither knows where\n",
      "ndostan coast with a deck load of frightened horses , careens , buries , rolls\n",
      "st - sou - east , sir ,\" said the frightened steersman . \" Thou liest !\" smiti\n"
     ]
    }
   ],
   "source": [
    "# using the Moby Dick text from the NLTK books \n",
    "from nltk.book import *\n",
    "text1.concordance('frightened')"
   ]
  },
  {
   "cell_type": "code",
   "execution_count": 4,
   "metadata": {
    "pycharm": {
     "name": "#%%\n"
    },
    "scrolled": true,
    "slideshow": {
     "slide_type": "slide"
    }
   },
   "outputs": [
    {
     "ename": "NameError",
     "evalue": "name 'contents' is not defined",
     "output_type": "error",
     "traceback": [
      "\u001b[0;31m---------------------------------------------------------------------------\u001b[0m",
      "\u001b[0;31mNameError\u001b[0m                                 Traceback (most recent call last)",
      "\u001b[0;32m/var/folders/tf/pdn5b3q52dv97xknqq0_66nm0000gn/T/ipykernel_11800/2334585265.py\u001b[0m in \u001b[0;36m<module>\u001b[0;34m\u001b[0m\n\u001b[1;32m      9\u001b[0m     \u001b[0;32mreturn\u001b[0m \u001b[0;34m[\u001b[0m\u001b[0;34m''\u001b[0m\u001b[0;34m.\u001b[0m\u001b[0mjoin\u001b[0m\u001b[0;34m(\u001b[0m\u001b[0;34m[\u001b[0m\u001b[0msnippet\u001b[0m\u001b[0;34m+\u001b[0m\u001b[0;34m' '\u001b[0m \u001b[0;32mfor\u001b[0m \u001b[0msnippet\u001b[0m \u001b[0;32min\u001b[0m \u001b[0mconcordances\u001b[0m\u001b[0;34m]\u001b[0m\u001b[0;34m)\u001b[0m \u001b[0;32mfor\u001b[0m \u001b[0mconcordances\u001b[0m \u001b[0;32min\u001b[0m \u001b[0mconcordance_txt\u001b[0m\u001b[0;34m]\u001b[0m\u001b[0;34m\u001b[0m\u001b[0;34m\u001b[0m\u001b[0m\n\u001b[1;32m     10\u001b[0m \u001b[0;34m\u001b[0m\u001b[0m\n\u001b[0;32m---> 11\u001b[0;31m \u001b[0mresults\u001b[0m \u001b[0;34m=\u001b[0m \u001b[0mget_concordance_text\u001b[0m\u001b[0;34m(\u001b[0m\u001b[0;34m'doctor'\u001b[0m\u001b[0;34m,\u001b[0m \u001b[0mcontents\u001b[0m\u001b[0;34m)\u001b[0m\u001b[0;34m\u001b[0m\u001b[0;34m\u001b[0m\u001b[0m\n\u001b[0m\u001b[1;32m     12\u001b[0m \u001b[0mprint\u001b[0m\u001b[0;34m(\u001b[0m\u001b[0mlen\u001b[0m\u001b[0;34m(\u001b[0m\u001b[0mresults\u001b[0m\u001b[0;34m)\u001b[0m\u001b[0;34m)\u001b[0m\u001b[0;34m\u001b[0m\u001b[0;34m\u001b[0m\u001b[0m\n\u001b[1;32m     13\u001b[0m \u001b[0;32mfor\u001b[0m \u001b[0mresult\u001b[0m \u001b[0;32min\u001b[0m \u001b[0mresults\u001b[0m\u001b[0;34m:\u001b[0m\u001b[0;34m\u001b[0m\u001b[0;34m\u001b[0m\u001b[0m\n",
      "\u001b[0;31mNameError\u001b[0m: name 'contents' is not defined"
     ]
    }
   ],
   "source": [
    "# Get the individual lines of the concordance for further processing\n",
    "def get_concordance_text(word, text, left_margin = 5, right_margin = 5):\n",
    "    tokens = nltk.word_tokenize(text)\n",
    "    text = nltk.Text(tokens)\n",
    "    # indexes of the tokens\n",
    "    indices = nltk.ConcordanceIndex(text.tokens, key = lambda s: s.lower())\n",
    "    concordance_txt = ([text.tokens[offset-left_margin:offset+right_margin] # some tokens around target\n",
    "                        for offset in indices.offsets(word)])                   \n",
    "    return [''.join([snippet+' ' for snippet in concordances]) for concordances in concordance_txt]\n",
    "\n",
    "results = get_concordance_text('doctor', contents)\n",
    "print(len(results))\n",
    "for result in results:\n",
    "    print (result)"
   ]
  },
  {
   "cell_type": "markdown",
   "metadata": {
    "pycharm": {
     "name": "#%% md\n"
    },
    "slideshow": {
     "slide_type": "slide"
    }
   },
   "source": [
    "# <span style=\"color:blue\">Frequencies distribution</span>\n",
    "Show the number of times <span style=\"color:blue\">each unique</span> word is used in a text. This helps us to understand the <span style=\"color:blue\">topic</span> in the text and how they are discussed.\n"
   ]
  },
  {
   "cell_type": "code",
   "execution_count": 5,
   "metadata": {
    "pycharm": {
     "name": "#%%\n"
    },
    "slideshow": {
     "slide_type": "subslide"
    }
   },
   "outputs": [
    {
     "ename": "NameError",
     "evalue": "name 'book_tokens' is not defined",
     "output_type": "error",
     "traceback": [
      "\u001b[0;31m---------------------------------------------------------------------------\u001b[0m",
      "\u001b[0;31mNameError\u001b[0m                                 Traceback (most recent call last)",
      "\u001b[0;32m/var/folders/tf/pdn5b3q52dv97xknqq0_66nm0000gn/T/ipykernel_11800/1949257757.py\u001b[0m in \u001b[0;36m<module>\u001b[0;34m\u001b[0m\n\u001b[0;32m----> 1\u001b[0;31m \u001b[0mfdist\u001b[0m \u001b[0;34m=\u001b[0m \u001b[0mFreqDist\u001b[0m\u001b[0;34m(\u001b[0m\u001b[0mbook_tokens\u001b[0m\u001b[0;34m)\u001b[0m\u001b[0;34m\u001b[0m\u001b[0;34m\u001b[0m\u001b[0m\n\u001b[0m\u001b[1;32m      2\u001b[0m \u001b[0;31m# count unique words\u001b[0m\u001b[0;34m\u001b[0m\u001b[0;34m\u001b[0m\u001b[0m\n\u001b[1;32m      3\u001b[0m \u001b[0mcount\u001b[0m \u001b[0;34m=\u001b[0m \u001b[0mlen\u001b[0m\u001b[0;34m(\u001b[0m\u001b[0mfdist\u001b[0m\u001b[0;34m)\u001b[0m\u001b[0;34m\u001b[0m\u001b[0;34m\u001b[0m\u001b[0m\n\u001b[1;32m      4\u001b[0m \u001b[0mcount\u001b[0m\u001b[0;34m\u001b[0m\u001b[0;34m\u001b[0m\u001b[0m\n",
      "\u001b[0;31mNameError\u001b[0m: name 'book_tokens' is not defined"
     ]
    }
   ],
   "source": [
    "fdist = FreqDist(book_tokens)\n",
    "# count unique words\n",
    "count = len(fdist)\n",
    "count"
   ]
  },
  {
   "cell_type": "code",
   "execution_count": 6,
   "metadata": {
    "pycharm": {
     "name": "#%%\n"
    },
    "scrolled": true,
    "slideshow": {
     "slide_type": "subslide"
    }
   },
   "outputs": [
    {
     "ename": "NameError",
     "evalue": "name 'fdist' is not defined",
     "output_type": "error",
     "traceback": [
      "\u001b[0;31m---------------------------------------------------------------------------\u001b[0m",
      "\u001b[0;31mNameError\u001b[0m                                 Traceback (most recent call last)",
      "\u001b[0;32m/var/folders/tf/pdn5b3q52dv97xknqq0_66nm0000gn/T/ipykernel_11800/2739909858.py\u001b[0m in \u001b[0;36m<module>\u001b[0;34m\u001b[0m\n\u001b[1;32m      1\u001b[0m \u001b[0;31m#print most common 100 words\u001b[0m\u001b[0;34m\u001b[0m\u001b[0;34m\u001b[0m\u001b[0m\n\u001b[0;32m----> 2\u001b[0;31m \u001b[0mfdist\u001b[0m\u001b[0;34m.\u001b[0m\u001b[0mmost_common\u001b[0m \u001b[0;34m(\u001b[0m\u001b[0;36m100\u001b[0m\u001b[0;34m)\u001b[0m\u001b[0;34m\u001b[0m\u001b[0;34m\u001b[0m\u001b[0m\n\u001b[0m",
      "\u001b[0;31mNameError\u001b[0m: name 'fdist' is not defined"
     ]
    }
   ],
   "source": [
    "#print most common 100 words\n",
    "fdist.most_common (100)"
   ]
  },
  {
   "cell_type": "code",
   "execution_count": 7,
   "metadata": {
    "pycharm": {
     "name": "#%%\n"
    },
    "slideshow": {
     "slide_type": "subslide"
    }
   },
   "outputs": [
    {
     "ename": "NameError",
     "evalue": "name 'fdist' is not defined",
     "output_type": "error",
     "traceback": [
      "\u001b[0;31m---------------------------------------------------------------------------\u001b[0m",
      "\u001b[0;31mNameError\u001b[0m                                 Traceback (most recent call last)",
      "\u001b[0;32m/var/folders/tf/pdn5b3q52dv97xknqq0_66nm0000gn/T/ipykernel_11800/2364124190.py\u001b[0m in \u001b[0;36m<module>\u001b[0;34m\u001b[0m\n\u001b[1;32m      1\u001b[0m \u001b[0;31m#proportions of the 50 most common words in the book_sample corpus\u001b[0m\u001b[0;34m\u001b[0m\u001b[0;34m\u001b[0m\u001b[0m\n\u001b[0;32m----> 2\u001b[0;31m \u001b[0mprint\u001b[0m \u001b[0;34m(\u001b[0m\u001b[0msum\u001b[0m\u001b[0;34m(\u001b[0m\u001b[0mcommon\u001b[0m\u001b[0;34m[\u001b[0m\u001b[0;36m1\u001b[0m\u001b[0;34m]\u001b[0m \u001b[0;32mfor\u001b[0m \u001b[0mcommon\u001b[0m \u001b[0;32min\u001b[0m \u001b[0mfdist\u001b[0m\u001b[0;34m.\u001b[0m\u001b[0mmost_common\u001b[0m \u001b[0;34m(\u001b[0m\u001b[0;36m50\u001b[0m\u001b[0;34m)\u001b[0m\u001b[0;34m)\u001b[0m\u001b[0;34m/\u001b[0m\u001b[0mlen\u001b[0m\u001b[0;34m(\u001b[0m\u001b[0mbook_tokens\u001b[0m\u001b[0;34m)\u001b[0m\u001b[0;34m*\u001b[0m\u001b[0;36m100\u001b[0m\u001b[0;34m)\u001b[0m\u001b[0;34m\u001b[0m\u001b[0;34m\u001b[0m\u001b[0m\n\u001b[0m",
      "\u001b[0;31mNameError\u001b[0m: name 'fdist' is not defined"
     ]
    }
   ],
   "source": [
    "#proportions of the 50 most common words in the book_sample corpus\n",
    "print (sum(common[1] for common in fdist.most_common (50))/len(book_tokens)*100)"
   ]
  },
  {
   "cell_type": "code",
   "execution_count": 8,
   "metadata": {
    "jupyter": {
     "outputs_hidden": true
    },
    "pycharm": {
     "name": "#%%\n"
    },
    "slideshow": {
     "slide_type": "subslide"
    },
    "tags": []
   },
   "outputs": [
    {
     "ename": "NameError",
     "evalue": "name 'fdist' is not defined",
     "output_type": "error",
     "traceback": [
      "\u001b[0;31m---------------------------------------------------------------------------\u001b[0m",
      "\u001b[0;31mNameError\u001b[0m                                 Traceback (most recent call last)",
      "\u001b[0;32m/var/folders/tf/pdn5b3q52dv97xknqq0_66nm0000gn/T/ipykernel_11800/530852862.py\u001b[0m in \u001b[0;36m<module>\u001b[0;34m\u001b[0m\n\u001b[1;32m      1\u001b[0m \u001b[0;31m# show words that occur only once (hapaxes)\u001b[0m\u001b[0;34m\u001b[0m\u001b[0;34m\u001b[0m\u001b[0m\n\u001b[0;32m----> 2\u001b[0;31m \u001b[0mfdist\u001b[0m\u001b[0;34m.\u001b[0m\u001b[0mhapaxes\u001b[0m\u001b[0;34m(\u001b[0m\u001b[0;34m)\u001b[0m\u001b[0;34m\u001b[0m\u001b[0;34m\u001b[0m\u001b[0m\n\u001b[0m",
      "\u001b[0;31mNameError\u001b[0m: name 'fdist' is not defined"
     ]
    }
   ],
   "source": [
    "# show words that occur only once (hapaxes)\n",
    "fdist.hapaxes()"
   ]
  },
  {
   "cell_type": "code",
   "execution_count": 9,
   "metadata": {
    "pycharm": {
     "name": "#%%\n"
    },
    "slideshow": {
     "slide_type": "subslide"
    }
   },
   "outputs": [
    {
     "ename": "NameError",
     "evalue": "name 'fdist' is not defined",
     "output_type": "error",
     "traceback": [
      "\u001b[0;31m---------------------------------------------------------------------------\u001b[0m",
      "\u001b[0;31mNameError\u001b[0m                                 Traceback (most recent call last)",
      "\u001b[0;32m/var/folders/tf/pdn5b3q52dv97xknqq0_66nm0000gn/T/ipykernel_11800/3461536774.py\u001b[0m in \u001b[0;36m<module>\u001b[0;34m\u001b[0m\n\u001b[1;32m      1\u001b[0m \u001b[0;31m# print the percentage of hapaxes\u001b[0m\u001b[0;34m\u001b[0m\u001b[0;34m\u001b[0m\u001b[0m\n\u001b[0;32m----> 2\u001b[0;31m \u001b[0mprint\u001b[0m\u001b[0;34m(\u001b[0m\u001b[0mlen\u001b[0m\u001b[0;34m(\u001b[0m\u001b[0mfdist\u001b[0m\u001b[0;34m.\u001b[0m\u001b[0mhapaxes\u001b[0m\u001b[0;34m(\u001b[0m\u001b[0;34m)\u001b[0m\u001b[0;34m)\u001b[0m\u001b[0;34m/\u001b[0m\u001b[0mlen\u001b[0m\u001b[0;34m(\u001b[0m\u001b[0mset\u001b[0m\u001b[0;34m(\u001b[0m\u001b[0mbook_tokens\u001b[0m\u001b[0;34m)\u001b[0m\u001b[0;34m)\u001b[0m\u001b[0;34m*\u001b[0m\u001b[0;36m100\u001b[0m\u001b[0;34m)\u001b[0m\u001b[0;34m\u001b[0m\u001b[0;34m\u001b[0m\u001b[0m\n\u001b[0m",
      "\u001b[0;31mNameError\u001b[0m: name 'fdist' is not defined"
     ]
    }
   ],
   "source": [
    "# print the percentage of hapaxes\n",
    "print(len(fdist.hapaxes())/len(set(book_tokens))*100)"
   ]
  },
  {
   "cell_type": "code",
   "execution_count": 10,
   "metadata": {
    "pycharm": {
     "name": "#%%\n"
    },
    "scrolled": true,
    "slideshow": {
     "slide_type": "subslide"
    }
   },
   "outputs": [
    {
     "name": "stderr",
     "output_type": "stream",
     "text": [
      "[nltk_data] Downloading package stopwords to\n",
      "[nltk_data]     /Users/silasueberschaer/nltk_data...\n",
      "[nltk_data]   Package stopwords is already up-to-date!\n"
     ]
    },
    {
     "ename": "NameError",
     "evalue": "name 'book_tokens' is not defined",
     "output_type": "error",
     "traceback": [
      "\u001b[0;31m---------------------------------------------------------------------------\u001b[0m",
      "\u001b[0;31mNameError\u001b[0m                                 Traceback (most recent call last)",
      "\u001b[0;32m/var/folders/tf/pdn5b3q52dv97xknqq0_66nm0000gn/T/ipykernel_11800/852999023.py\u001b[0m in \u001b[0;36m<module>\u001b[0;34m\u001b[0m\n\u001b[1;32m      4\u001b[0m \u001b[0men_stopws\u001b[0m \u001b[0;34m=\u001b[0m \u001b[0mstopwords\u001b[0m\u001b[0;34m.\u001b[0m\u001b[0mwords\u001b[0m\u001b[0;34m(\u001b[0m\u001b[0;34m'english'\u001b[0m\u001b[0;34m)\u001b[0m\u001b[0;34m\u001b[0m\u001b[0;34m\u001b[0m\u001b[0m\n\u001b[1;32m      5\u001b[0m \u001b[0;31m# remove stop words and punctuation marks\u001b[0m\u001b[0;34m\u001b[0m\u001b[0;34m\u001b[0m\u001b[0m\n\u001b[0;32m----> 6\u001b[0;31m \u001b[0mbook_tokens_filtered\u001b[0m \u001b[0;34m=\u001b[0m \u001b[0;34m[\u001b[0m\u001b[0mt\u001b[0m\u001b[0;34m.\u001b[0m\u001b[0mlower\u001b[0m\u001b[0;34m(\u001b[0m\u001b[0;34m)\u001b[0m \u001b[0;32mfor\u001b[0m \u001b[0mt\u001b[0m \u001b[0;32min\u001b[0m \u001b[0mbook_tokens\u001b[0m \u001b[0;32mif\u001b[0m \u001b[0mt\u001b[0m\u001b[0;34m.\u001b[0m\u001b[0mlower\u001b[0m\u001b[0;34m(\u001b[0m\u001b[0;34m)\u001b[0m \u001b[0;32mnot\u001b[0m \u001b[0;32min\u001b[0m \u001b[0men_stopws\u001b[0m \u001b[0;32mand\u001b[0m \u001b[0mt\u001b[0m\u001b[0;34m.\u001b[0m\u001b[0misalpha\u001b[0m\u001b[0;34m(\u001b[0m\u001b[0;34m)\u001b[0m\u001b[0;34m]\u001b[0m\u001b[0;34m\u001b[0m\u001b[0;34m\u001b[0m\u001b[0m\n\u001b[0m\u001b[1;32m      7\u001b[0m \u001b[0mfdist\u001b[0m \u001b[0;34m=\u001b[0m \u001b[0mFreqDist\u001b[0m\u001b[0;34m(\u001b[0m\u001b[0mbook_tokens_filtered\u001b[0m\u001b[0;34m)\u001b[0m\u001b[0;34m\u001b[0m\u001b[0;34m\u001b[0m\u001b[0m\n\u001b[1;32m      8\u001b[0m \u001b[0;31m#print most common 100 words\u001b[0m\u001b[0;34m\u001b[0m\u001b[0;34m\u001b[0m\u001b[0m\n",
      "\u001b[0;31mNameError\u001b[0m: name 'book_tokens' is not defined"
     ]
    }
   ],
   "source": [
    "nltk.download('stopwords')\n",
    "#remove stopwords\n",
    "from nltk.corpus import stopwords\n",
    "en_stopws = stopwords.words('english')\n",
    "# remove stop words and punctuation marks\n",
    "book_tokens_filtered = [t.lower() for t in book_tokens if t.lower() not in en_stopws and t.isalpha()]\n",
    "fdist = FreqDist(book_tokens_filtered)\n",
    "#print most common 100 words\n",
    "fdist.most_common (100)"
   ]
  },
  {
   "cell_type": "code",
   "execution_count": 11,
   "metadata": {
    "pycharm": {
     "name": "#%%\n"
    },
    "slideshow": {
     "slide_type": "subslide"
    }
   },
   "outputs": [
    {
     "ename": "NameError",
     "evalue": "name 'fdist' is not defined",
     "output_type": "error",
     "traceback": [
      "\u001b[0;31m---------------------------------------------------------------------------\u001b[0m",
      "\u001b[0;31mNameError\u001b[0m                                 Traceback (most recent call last)",
      "\u001b[0;32m/var/folders/tf/pdn5b3q52dv97xknqq0_66nm0000gn/T/ipykernel_11800/1038359409.py\u001b[0m in \u001b[0;36m<module>\u001b[0;34m\u001b[0m\n\u001b[1;32m      3\u001b[0m \u001b[0mplt\u001b[0m\u001b[0;34m.\u001b[0m\u001b[0mrcParams\u001b[0m\u001b[0;34m.\u001b[0m\u001b[0mupdate\u001b[0m\u001b[0;34m(\u001b[0m\u001b[0;34m{\u001b[0m\u001b[0;34m'font.size'\u001b[0m\u001b[0;34m:\u001b[0m \u001b[0;36m22\u001b[0m\u001b[0;34m}\u001b[0m\u001b[0;34m)\u001b[0m\u001b[0;34m\u001b[0m\u001b[0;34m\u001b[0m\u001b[0m\n\u001b[1;32m      4\u001b[0m \u001b[0;31m# show the cumulative frequencies of the top 50 common words\u001b[0m\u001b[0;34m\u001b[0m\u001b[0;34m\u001b[0m\u001b[0m\n\u001b[0;32m----> 5\u001b[0;31m \u001b[0mfdist\u001b[0m\u001b[0;34m.\u001b[0m\u001b[0mplot\u001b[0m\u001b[0;34m(\u001b[0m \u001b[0;36m50\u001b[0m\u001b[0;34m,\u001b[0m\u001b[0mtitle\u001b[0m\u001b[0;34m=\u001b[0m\u001b[0;34m\"Most frquent words\"\u001b[0m\u001b[0;34m,\u001b[0m \u001b[0mcumulative\u001b[0m\u001b[0;34m=\u001b[0m\u001b[0;32mTrue\u001b[0m\u001b[0;34m)\u001b[0m\u001b[0;34m\u001b[0m\u001b[0;34m\u001b[0m\u001b[0m\n\u001b[0m",
      "\u001b[0;31mNameError\u001b[0m: name 'fdist' is not defined"
     ]
    },
    {
     "data": {
      "text/plain": [
       "<Figure size 3000x2000 with 0 Axes>"
      ]
     },
     "metadata": {},
     "output_type": "display_data"
    }
   ],
   "source": [
    "import matplotlib.pyplot as plt\n",
    "plt.figure(figsize=(30, 20)) \n",
    "plt.rcParams.update({'font.size': 22})\n",
    "# show the cumulative frequencies of the top 50 common words\n",
    "fdist.plot( 50,title=\"Most frquent words\", cumulative=True)"
   ]
  },
  {
   "cell_type": "code",
   "execution_count": null,
   "metadata": {
    "pycharm": {
     "name": "#%%\n"
    },
    "slideshow": {
     "slide_type": "subslide"
    }
   },
   "outputs": [],
   "source": [
    "import matplotlib.pyplot as plt\n",
    "plt.figure(figsize=(35, 20)) \n",
    "plt.rcParams.update({'font.size': 22})\n",
    "# plot the zipf plot for the most 100 words \n",
    "fdist.plot(100,title=\"Zipf plot\",)"
   ]
  },
  {
   "cell_type": "markdown",
   "metadata": {
    "pycharm": {
     "name": "#%% md\n"
    }
   },
   "source": [
    "## <span style=\"color:blue\">Conditional Freq Dist</span>\n",
    "A collection of frequency distributions for a single experiment run under <span style=\"color:blue\">different conditions</span>. Conditional frequency distributions are used to record the <span style=\"color:blue\">number of times each sample occurred</span>, given the condition under which the experiment was run."
   ]
  },
  {
   "cell_type": "code",
   "execution_count": null,
   "metadata": {
    "pycharm": {
     "name": "#%%\n"
    }
   },
   "outputs": [],
   "source": [
    "# collection of inagural speech, YEAR-PRESIDENT_NAME format\n",
    "from nltk.corpus import inaugural\n",
    "for fileid in inaugural.fileids():\n",
    "    print (\"Speach name:->\", fileid)\n",
    "    print (\"The year part:->\", fileid[:4])\n",
    "    break # just show the first entry\n",
    "    "
   ]
  },
  {
   "cell_type": "code",
   "execution_count": null,
   "metadata": {
    "pycharm": {
     "name": "#%%\n"
    },
    "slideshow": {
     "slide_type": "subslide"
    }
   },
   "outputs": [],
   "source": [
    "#ploting conditional frequencies\n",
    "from nltk.corpus import inaugural\n",
    "import matplotlib.pyplot as plt\n",
    "plt.figure(figsize=(30, 20))\n",
    "cfd = nltk.ConditionalFreqDist(\n",
    "          (target, fileid[:4])\n",
    "          for fileid in inaugural.fileids()\n",
    "            for w in inaugural.words(fileid)\n",
    "          for target in ['america', 'citizen','bless']\n",
    "          if w.lower().startswith(target)) \n",
    "cfd.plot(linewidth=5)"
   ]
  },
  {
   "cell_type": "markdown",
   "metadata": {
    "pycharm": {
     "name": "#%% md\n"
    },
    "slideshow": {
     "slide_type": "slide"
    }
   },
   "source": [
    "## <span style=\"color:blue\">N-grams</span> \n",
    "Word frequencies give a hint about the corpus you are dealing with. Moreover, you can analyze the n-grams, the <span style=\"color:blue\">sequence of <span style=\"color:blue\">N</span> words</span>, that will give hints on which word often <span style=\"color:blue\">occur together</span>. This concepts are basics for a number of tasks such as computing text similarity, identifying chunks or noun phrases, disambiguating named entities and so on. N-grams are also very important build language models, which known as <span style=\"color:blue\">N-gram model</span>."
   ]
  },
  {
   "cell_type": "code",
   "execution_count": null,
   "metadata": {
    "jupyter": {
     "outputs_hidden": true
    },
    "pycharm": {
     "name": "#%%\n"
    },
    "slideshow": {
     "slide_type": "subslide"
    },
    "tags": []
   },
   "outputs": [],
   "source": [
    "# read a text from a file\n",
    "import os\n",
    "content = open(\"data/ing.txt\").read()\n",
    "#Split words using whitespace\n",
    "words = content.split()\n",
    "# Count the frequencies of each word from the list\n",
    "frequencies = [words.count(word) for word in words]\n",
    "# show the frequencies of each word (set --> removes duplicates)\n",
    "for key, val in set(zip(words,frequencies)):\n",
    "    print (key, val)"
   ]
  },
  {
   "cell_type": "code",
   "execution_count": null,
   "metadata": {
    "jupyter": {
     "outputs_hidden": true
    },
    "pycharm": {
     "name": "#%%\n"
    },
    "slideshow": {
     "slide_type": "subslide"
    },
    "tags": []
   },
   "outputs": [],
   "source": [
    "#let's create a method to build a dictionary of words to frequencies from the word lists\n",
    "def freqDict(words):\n",
    "    frequencies = [words.count(word) for word in words]\n",
    "    return dict( zip(words,frequencies))\n",
    "\n",
    "# Lets sort the dictionary based on words' frequency, the most frequent at the top\n",
    "def sortDict(freqdict):\n",
    "    sorteddict = [(freqdict[key], key) for key in freqdict]\n",
    "    sorteddict.sort()\n",
    "    sorteddict.reverse()\n",
    "    return sorteddict\n",
    "\n",
    "freqdict = freqDict(words)\n",
    "for word in sortDict(freqdict):\n",
    "    print (word[1], word[0])"
   ]
  },
  {
   "cell_type": "code",
   "execution_count": null,
   "metadata": {
    "jupyter": {
     "outputs_hidden": true
    },
    "pycharm": {
     "name": "#%%\n"
    },
    "slideshow": {
     "slide_type": "subslide"
    },
    "tags": []
   },
   "outputs": [],
   "source": [
    "# remove stop words, lowercase the text\n",
    "stopwords = [\"the\", \"a\", \"no\", \"other\", \"we\", \"and\", \"of\",\"will\",\"is\",\"in\",\"our\",\"to\",\"you\",\"for\"]\n",
    "def removeStopWords(words, stopwords):\n",
    "    return [word.lower() for word in words if word.lower() not in stopwords]\n",
    "cleanwords = removeStopWords(words, stopwords)\n",
    "freqdict = freqDict(cleanwords)\n",
    "for word in sortDict(freqdict):\n",
    "    print (word[1], word[0])"
   ]
  },
  {
   "cell_type": "code",
   "execution_count": null,
   "metadata": {
    "pycharm": {
     "name": "#%%\n"
    },
    "scrolled": true
   },
   "outputs": [],
   "source": [
    "# see the contents\n",
    "content"
   ]
  },
  {
   "cell_type": "code",
   "execution_count": null,
   "metadata": {
    "pycharm": {
     "name": "#%%\n"
    }
   },
   "outputs": [],
   "source": [
    "# and list of words\n",
    "words = [word for word in content.lower().split(\" \") if word != \"\"]\n",
    "words"
   ]
  },
  {
   "cell_type": "code",
   "execution_count": null,
   "metadata": {
    "pycharm": {
     "name": "#%%\n"
    }
   },
   "outputs": [],
   "source": [
    "# and n grams of size 2\n",
    "ngrams = zip(*[words[i:] for i in range(2)])\n",
    "[\" \".join(ngram) for ngram in ngrams]"
   ]
  },
  {
   "cell_type": "code",
   "execution_count": null,
   "metadata": {
    "jupyter": {
     "outputs_hidden": true
    },
    "pycharm": {
     "name": "#%%\n"
    },
    "slideshow": {
     "slide_type": "subslide"
    },
    "tags": []
   },
   "outputs": [],
   "source": [
    "# put all together - generate n-grams from texts, here n = 4\n",
    "def getNgrams(text, n):\n",
    "    # lowercase the text\n",
    "    text = text.lower()\n",
    "    # create words from the text\n",
    "    words = [word for word in text.split(\" \") if word != \"\"]\n",
    "    ngrams = zip(*[words[i:] for i in range(n)])\n",
    "    return [\" \".join(ngram) for ngram in ngrams]\n",
    "getNgrams(content, 4)"
   ]
  },
  {
   "cell_type": "code",
   "execution_count": null,
   "metadata": {
    "pycharm": {
     "name": "#%%\n"
    },
    "slideshow": {
     "slide_type": "subslide"
    }
   },
   "outputs": [],
   "source": [
    "# Draw bar chart for the top n words, with stopwords\n",
    "import pandas as pd\n",
    "import matplotlib.pyplot as plt\n",
    "plt.figure(figsize=(30, 20)) \n",
    "plt.rcParams.update({'font.size': 22})\n",
    "df = pd.DataFrame({'words': words})\n",
    "df['frequency'] = 1\n",
    "# group rows by words, count the frequencies in each group\n",
    "# and sort by frequencies\n",
    "df = df.groupby('words').sum().sort_values('frequency', ascending=False)\n",
    "# draw the top n frequent words\n",
    "ndf = df.head(10)\n",
    "plt.bar(ndf.index, ndf.frequency, width=0.8, color='g')"
   ]
  },
  {
   "cell_type": "code",
   "execution_count": null,
   "metadata": {
    "pycharm": {
     "name": "#%%\n"
    },
    "slideshow": {
     "slide_type": "subslide"
    }
   },
   "outputs": [],
   "source": [
    "# Draw bar chart for the top n words, without stopwords\n",
    "from nltk.corpus import stopwords\n",
    "stopwords = set(stopwords.words('english'))\n",
    "df = pd.DataFrame({'words': removeStopWords(words, stopwords)})\n",
    "df['frequency'] = 1\n",
    "# group rows by words, count the frequencies in each group\n",
    "# and sort by frequencies\n",
    "df = df.groupby('words').sum().sort_values('frequency', ascending=False)\n",
    "# draw the top n frequent words\n",
    "ndf = df.head(10)\n",
    "# increase width of figure (so we can see the words clearly) and change font size\n",
    "plt.figure(figsize=(15,10))\n",
    "font = {'family' : 'monospace',\n",
    "        'weight' : 'bold',\n",
    "        'size'   : 12}\n",
    "plt.rc('font', **font)\n",
    "\n",
    "plt.bar(ndf.index, ndf.frequency, width=0.8, color='orange')"
   ]
  },
  {
   "cell_type": "markdown",
   "metadata": {
    "pycharm": {
     "name": "#%% md\n"
    },
    "slideshow": {
     "slide_type": "subslide"
    }
   },
   "source": [
    "##  <span style=\"color:red\"> Excercise 1 ( 4 pts)</span>\n",
    "1. Use the NLTK book corpus (`from nltk.corpus import inaugural`) to analyze the `Inaugural Address Corpus`. Which words are frequent for all inaugural address speech over time (since 1789)? For example if we compare the two words `america` and `citizen` with the list `[4,1,1,4]` and `[3,2,2,3]` respectively, we can tell that  `citizen` is more popular as it in average occurs more often each year. Draw a diagram which shows the frequency of the top 10 words over time. `inaugural.fileids()` will list all the inaugural texts. `inaugural.raw(fileids=inaugural.fileids()[0])` will give you the raw text for the first speech. Do not use the NLTK built-in methods.\n",
    "1. Improve the `getNgrams` function so that it will return also the frequencies of each n-grams in the range `1-->N` (sorted in descending order). Try to generate n-grams from 2-4 excluding unigrams (inclusive 2 and 4)?\n",
    "\n",
    "### Example\n",
    "The lazy dog jumps  123 <br>\n",
    "The lazy dog 320 <br>\n",
    "The lazy 589 <br>\n",
    "..."
   ]
  },
  {
   "cell_type": "code",
   "execution_count": 13,
   "metadata": {
    "pycharm": {
     "name": "#%%\n"
    }
   },
   "outputs": [
    {
     "data": {
      "image/png": "[encoded data removed]",
      "text/plain": [
       "<Figure size 3000x2000 with 1 Axes>"
      ]
     },
     "metadata": {},
     "output_type": "display_data"
    }
   ],
   "source": [
    "from nltk.corpus import inaugural\n",
    "freq = {}\n",
    "total = {}\n",
    "i = 0\n",
    "while i < len(inaugural.fileids()):\n",
    "    text = inaugural.raw(fileids=inaugural.fileids()[i])\n",
    "    words = [word for word in text.lower().split(\" \") if word != \"\"]\n",
    "    for word in words:\n",
    "        if word in freq:\n",
    "            freq[word][i] += 1\n",
    "            total[word] += 1\n",
    "        else: \n",
    "            freq[word] = [0]*len(inaugural.fileids())\n",
    "            total[word] = 1\n",
    "    i += 1\n",
    "fdist = FreqDist(total)\n",
    "\n",
    "import matplotlib.pyplot as plt\n",
    "plt.figure(figsize=(30, 20)) \n",
    "plt.rcParams.update({'font.size': 22})\n",
    "for word, _ in fdist.most_common(10):\n",
    "    plt.plot(freq[word], label = word)\n",
    "plt.legend()\n",
    "plt.show()\n",
    "\n",
    "    \n",
    "    \n",
    "    "
   ]
  },
  {
   "cell_type": "code",
   "execution_count": 14,
   "metadata": {
    "pycharm": {
     "name": "#%%\n"
    }
   },
   "outputs": [],
   "source": [
    "def getNgrams(text, n):\n",
    "    freq = {}\n",
    "    # lowercase the text\n",
    "    text = text.lower()\n",
    "    # create words from the text\n",
    "    words = [word for word in text.split(\" \") if word != \"\"]\n",
    "    ngrams = zip(*[words[i:] for i in range(n)])\n",
    "    ngrams = {\" \".join(ngram): 0 for ngram in ngrams}\n",
    "    for n in ngrams:\n",
    "        ngrams[n] += text.count(n)\n",
    "    return dict(sorted(ngrams.items(), key=lambda item: item[1], reverse=True))"
   ]
  },
  {
   "cell_type": "code",
   "execution_count": 15,
   "metadata": {
    "pycharm": {
     "name": "#%%\n"
    }
   },
   "outputs": [
    {
     "data": {
      "text/plain": [
       "{'of the': 23,\n",
       " 'to the': 14,\n",
       " 'in the': 11,\n",
       " 'or the': 9,\n",
       " 'which the': 8,\n",
       " 'by the': 8,\n",
       " 'which i': 7,\n",
       " 'for the': 7,\n",
       " 'and the': 7,\n",
       " 'on the': 6,\n",
       " 'of a': 6,\n",
       " 'at the': 6,\n",
       " 'of my': 5,\n",
       " 'my country': 5,\n",
       " 'ought to': 5,\n",
       " 'have been': 5,\n",
       " 'that the': 5,\n",
       " 'on a': 5,\n",
       " 'and a': 5,\n",
       " 'that i': 5,\n",
       " 'the present': 4,\n",
       " 'to be': 4,\n",
       " 'i have': 4,\n",
       " 'will be': 4,\n",
       " 'in which': 4,\n",
       " 'the public': 4,\n",
       " 'of an': 4,\n",
       " 'on which': 4,\n",
       " 'with the': 3,\n",
       " 'as the': 3,\n",
       " 'citizens a': 3,\n",
       " 'all i': 3,\n",
       " 'by which': 3,\n",
       " 'by a': 3,\n",
       " 'under which': 3,\n",
       " 'the character': 3,\n",
       " 'of their': 3,\n",
       " 'with a': 3,\n",
       " 'may be': 3,\n",
       " 'to you': 3,\n",
       " 'and of': 2,\n",
       " 'the house': 2,\n",
       " 'house of': 2,\n",
       " 'than that': 2,\n",
       " 'of which': 2,\n",
       " 'i was': 2,\n",
       " 'by my': 2,\n",
       " 'my country,': 2,\n",
       " 'can never': 2,\n",
       " 'from a': 2,\n",
       " 'a retreat': 2,\n",
       " 'retreat which': 2,\n",
       " 'in my': 2,\n",
       " 'with an': 2,\n",
       " 'as well': 2,\n",
       " 'well as': 2,\n",
       " 'to which': 2,\n",
       " 'be peculiarly': 2,\n",
       " 'in this': 2,\n",
       " 'i dare': 2,\n",
       " 'is that': 2,\n",
       " 'that it': 2,\n",
       " 'has been': 2,\n",
       " 'my duty': 2,\n",
       " 'of every': 2,\n",
       " 'or by': 2,\n",
       " 'my fellow': 2,\n",
       " 'which they': 2,\n",
       " 'the impressions': 2,\n",
       " 'to that': 2,\n",
       " 'and happiness': 2,\n",
       " 'the united': 2,\n",
       " 'united states': 2,\n",
       " 'to his': 2,\n",
       " 'the great': 2,\n",
       " 'i assure': 2,\n",
       " 'assure myself': 2,\n",
       " 'myself that': 2,\n",
       " 'less than': 2,\n",
       " 'those of': 2,\n",
       " 'fellow citizens': 2,\n",
       " 'can be': 2,\n",
       " 'they have': 2,\n",
       " 'and in': 2,\n",
       " 'the system': 2,\n",
       " 'the future': 2,\n",
       " 'you will': 2,\n",
       " 'that there': 2,\n",
       " 'under the': 2,\n",
       " 'free government': 2,\n",
       " 'the executive': 2,\n",
       " 'executive department': 2,\n",
       " 'to your': 2,\n",
       " 'which you': 2,\n",
       " 'it will': 2,\n",
       " 'them. in': 2,\n",
       " 'which ought': 2,\n",
       " 'of free': 2,\n",
       " 'on this': 2,\n",
       " 'nature an': 2,\n",
       " 'since the': 2,\n",
       " 'of government': 2,\n",
       " 'the american': 2,\n",
       " 'how far': 2,\n",
       " 'i shall': 2,\n",
       " 'to my': 2,\n",
       " 'for i': 2,\n",
       " 'the eve': 2,\n",
       " 'in it': 2,\n",
       " 'public good': 2,\n",
       " 'the occasion': 2,\n",
       " 'american people': 2,\n",
       " 'the wise': 2,\n",
       " 'fellow-citizens of': 1,\n",
       " 'the senate': 1,\n",
       " 'senate and': 1,\n",
       " 'of representatives:\\n\\namong': 1,\n",
       " 'representatives:\\n\\namong the': 1,\n",
       " 'the vicissitudes': 1,\n",
       " 'vicissitudes incident': 1,\n",
       " 'incident to': 1,\n",
       " 'to life': 1,\n",
       " 'life no': 1,\n",
       " 'no event': 1,\n",
       " 'event could': 1,\n",
       " 'could have': 1,\n",
       " 'have filled': 1,\n",
       " 'filled me': 1,\n",
       " 'me with': 1,\n",
       " 'with greater': 1,\n",
       " 'greater anxieties': 1,\n",
       " 'anxieties than': 1,\n",
       " 'that of': 1,\n",
       " 'the notification': 1,\n",
       " 'notification was': 1,\n",
       " 'was transmitted': 1,\n",
       " 'transmitted by': 1,\n",
       " 'by your': 1,\n",
       " 'your order,': 1,\n",
       " 'order, and': 1,\n",
       " 'and received': 1,\n",
       " 'received on': 1,\n",
       " 'the 14th': 1,\n",
       " '14th day': 1,\n",
       " 'day of': 1,\n",
       " 'present month.': 1,\n",
       " 'month. on': 1,\n",
       " 'the one': 1,\n",
       " 'one hand,': 1,\n",
       " 'hand, i': 1,\n",
       " 'was summoned': 1,\n",
       " 'summoned by': 1,\n",
       " 'country, whose': 1,\n",
       " 'whose voice': 1,\n",
       " 'voice i': 1,\n",
       " 'i can': 1,\n",
       " 'never hear': 1,\n",
       " 'hear but': 1,\n",
       " 'but with': 1,\n",
       " 'with veneration': 1,\n",
       " 'veneration and': 1,\n",
       " 'and love,': 1,\n",
       " 'love, from': 1,\n",
       " 'i had': 1,\n",
       " 'had chosen': 1,\n",
       " 'chosen with': 1,\n",
       " 'the fondest': 1,\n",
       " 'fondest predilection,': 1,\n",
       " 'predilection, and,': 1,\n",
       " 'and, in': 1,\n",
       " 'my flattering': 1,\n",
       " 'flattering hopes,': 1,\n",
       " 'hopes, with': 1,\n",
       " 'an immutable': 1,\n",
       " 'immutable decision,': 1,\n",
       " 'decision, as': 1,\n",
       " 'the asylum': 1,\n",
       " 'asylum of': 1,\n",
       " 'my declining': 1,\n",
       " 'declining years': 1,\n",
       " 'years --': 1,\n",
       " '-- a': 1,\n",
       " 'which was': 1,\n",
       " 'was rendered': 1,\n",
       " 'rendered every': 1,\n",
       " 'every day': 1,\n",
       " 'day more': 1,\n",
       " 'more necessary': 1,\n",
       " 'necessary as': 1,\n",
       " 'as more': 1,\n",
       " 'more dear': 1,\n",
       " 'dear to': 1,\n",
       " 'to me': 1,\n",
       " 'me by': 1,\n",
       " 'the addition': 1,\n",
       " 'addition of': 1,\n",
       " 'of habit': 1,\n",
       " 'habit to': 1,\n",
       " 'to inclination,': 1,\n",
       " 'inclination, and': 1,\n",
       " 'of frequent': 1,\n",
       " 'frequent interruptions': 1,\n",
       " 'interruptions in': 1,\n",
       " 'my health': 1,\n",
       " 'health to': 1,\n",
       " 'the gradual': 1,\n",
       " 'gradual waste': 1,\n",
       " 'waste committed': 1,\n",
       " 'committed on': 1,\n",
       " 'on it': 1,\n",
       " 'it by': 1,\n",
       " 'by time.': 1,\n",
       " 'time. on': 1,\n",
       " 'the other': 1,\n",
       " 'other hand,': 1,\n",
       " 'hand, the': 1,\n",
       " 'the magnitude': 1,\n",
       " 'magnitude and': 1,\n",
       " 'and difficulty': 1,\n",
       " 'difficulty of': 1,\n",
       " 'the trust': 1,\n",
       " 'trust to': 1,\n",
       " 'the voice': 1,\n",
       " 'voice of': 1,\n",
       " 'country called': 1,\n",
       " 'called me,': 1,\n",
       " 'me, being': 1,\n",
       " 'being sufficient': 1,\n",
       " 'sufficient to': 1,\n",
       " 'to awaken': 1,\n",
       " 'awaken in': 1,\n",
       " 'the wisest': 1,\n",
       " 'wisest and': 1,\n",
       " 'and most': 1,\n",
       " 'most experienced': 1,\n",
       " 'experienced of': 1,\n",
       " 'of her': 1,\n",
       " 'her citizens': 1,\n",
       " 'a distrustful': 1,\n",
       " 'distrustful scrutiny': 1,\n",
       " 'scrutiny into': 1,\n",
       " 'into his': 1,\n",
       " 'his qualifications,': 1,\n",
       " 'qualifications, could': 1,\n",
       " 'could not': 1,\n",
       " 'not but': 1,\n",
       " 'but overwhelm': 1,\n",
       " 'overwhelm with': 1,\n",
       " 'with despondence': 1,\n",
       " 'despondence one': 1,\n",
       " 'one who': 1,\n",
       " 'who (inheriting': 1,\n",
       " '(inheriting inferior': 1,\n",
       " 'inferior endowments': 1,\n",
       " 'endowments from': 1,\n",
       " 'from nature': 1,\n",
       " 'nature and': 1,\n",
       " 'and unpracticed': 1,\n",
       " 'unpracticed in': 1,\n",
       " 'the duties': 1,\n",
       " 'duties of': 1,\n",
       " 'of civil': 1,\n",
       " 'civil administration)': 1,\n",
       " 'administration) ought': 1,\n",
       " 'peculiarly conscious': 1,\n",
       " 'conscious of': 1,\n",
       " 'of his': 1,\n",
       " 'his own': 1,\n",
       " 'own deficiencies.': 1,\n",
       " 'deficiencies. in': 1,\n",
       " 'this conflict': 1,\n",
       " 'conflict of': 1,\n",
       " 'of emotions': 1,\n",
       " 'emotions all': 1,\n",
       " 'dare aver': 1,\n",
       " 'aver is': 1,\n",
       " 'it has': 1,\n",
       " 'been my': 1,\n",
       " 'my faithful': 1,\n",
       " 'faithful study': 1,\n",
       " 'study to': 1,\n",
       " 'to collect': 1,\n",
       " 'collect my': 1,\n",
       " 'duty from': 1,\n",
       " 'a just': 1,\n",
       " 'just appreciation': 1,\n",
       " 'appreciation of': 1,\n",
       " 'every circumstance': 1,\n",
       " 'circumstance by': 1,\n",
       " 'which it': 1,\n",
       " 'it might': 1,\n",
       " 'might be': 1,\n",
       " 'be affected.': 1,\n",
       " 'affected. all': 1,\n",
       " 'dare hope': 1,\n",
       " 'hope is': 1,\n",
       " 'that if,': 1,\n",
       " 'if, in': 1,\n",
       " 'in executing': 1,\n",
       " 'executing this': 1,\n",
       " 'this task,': 1,\n",
       " 'task, i': 1,\n",
       " 'been too': 1,\n",
       " 'too much': 1,\n",
       " 'much swayed': 1,\n",
       " 'swayed by': 1,\n",
       " 'a grateful': 1,\n",
       " 'grateful remembrance': 1,\n",
       " 'remembrance of': 1,\n",
       " 'of former': 1,\n",
       " 'former instances,': 1,\n",
       " 'instances, or': 1,\n",
       " 'by an': 1,\n",
       " 'an affectionate': 1,\n",
       " 'affectionate sensibility': 1,\n",
       " 'sensibility to': 1,\n",
       " 'to this': 1,\n",
       " 'this transcendent': 1,\n",
       " 'transcendent proof': 1,\n",
       " 'proof of': 1,\n",
       " 'the confidence': 1,\n",
       " 'confidence of': 1,\n",
       " 'fellow citizens,': 1,\n",
       " 'citizens, and': 1,\n",
       " 'and have': 1,\n",
       " 'have thence': 1,\n",
       " 'thence too': 1,\n",
       " 'too little': 1,\n",
       " 'little consulted': 1,\n",
       " 'consulted my': 1,\n",
       " 'my incapacity': 1,\n",
       " 'incapacity as': 1,\n",
       " 'as disinclination': 1,\n",
       " 'disinclination for': 1,\n",
       " 'the weighty': 1,\n",
       " 'weighty and': 1,\n",
       " 'and untried': 1,\n",
       " 'untried cares': 1,\n",
       " 'cares before': 1,\n",
       " 'before me,': 1,\n",
       " 'me, my': 1,\n",
       " 'my error': 1,\n",
       " 'error will': 1,\n",
       " 'be palliated': 1,\n",
       " 'palliated by': 1,\n",
       " 'the motives': 1,\n",
       " 'motives which': 1,\n",
       " 'which mislead': 1,\n",
       " 'mislead me,': 1,\n",
       " 'me, and': 1,\n",
       " 'and its': 1,\n",
       " 'its consequences': 1,\n",
       " 'consequences be': 1,\n",
       " 'be judged': 1,\n",
       " 'judged by': 1,\n",
       " 'country with': 1,\n",
       " 'with some': 1,\n",
       " 'some share': 1,\n",
       " 'share of': 1,\n",
       " 'the partiality': 1,\n",
       " 'partiality in': 1,\n",
       " 'they originated.\\n\\nsuch': 1,\n",
       " 'originated.\\n\\nsuch being': 1,\n",
       " 'being the': 1,\n",
       " 'impressions under': 1,\n",
       " 'i have,': 1,\n",
       " 'have, in': 1,\n",
       " 'in obedience': 1,\n",
       " 'obedience to': 1,\n",
       " 'public summons,': 1,\n",
       " 'summons, repaired': 1,\n",
       " 'repaired to': 1,\n",
       " 'present station,': 1,\n",
       " 'station, it': 1,\n",
       " 'it would': 1,\n",
       " 'would be': 1,\n",
       " 'peculiarly improper': 1,\n",
       " 'improper to': 1,\n",
       " 'to omit': 1,\n",
       " 'omit in': 1,\n",
       " 'this first': 1,\n",
       " 'first official': 1,\n",
       " 'official act': 1,\n",
       " 'act my': 1,\n",
       " 'my fervent': 1,\n",
       " 'fervent supplications': 1,\n",
       " 'supplications to': 1,\n",
       " 'that almighty': 1,\n",
       " 'almighty being': 1,\n",
       " 'being who': 1,\n",
       " 'who rules': 1,\n",
       " 'rules over': 1,\n",
       " 'over the': 1,\n",
       " 'the universe,': 1,\n",
       " 'universe, who': 1,\n",
       " 'who presides': 1,\n",
       " 'presides in': 1,\n",
       " 'the councils': 1,\n",
       " 'councils of': 1,\n",
       " 'of nations,': 1,\n",
       " 'nations, and': 1,\n",
       " 'and whose': 1,\n",
       " 'whose providential': 1,\n",
       " 'providential aids': 1,\n",
       " 'aids can': 1,\n",
       " 'can supply': 1,\n",
       " 'supply every': 1,\n",
       " 'every human': 1,\n",
       " 'human defect,': 1,\n",
       " 'defect, that': 1,\n",
       " 'that his': 1,\n",
       " 'his benediction': 1,\n",
       " 'benediction may': 1,\n",
       " 'may consecrate': 1,\n",
       " 'consecrate to': 1,\n",
       " 'the liberties': 1,\n",
       " 'liberties and': 1,\n",
       " 'happiness of': 1,\n",
       " 'the people': 1,\n",
       " 'people of': 1,\n",
       " 'states a': 1,\n",
       " 'a government': 1,\n",
       " 'government instituted': 1,\n",
       " 'instituted by': 1,\n",
       " 'by themselves': 1,\n",
       " 'themselves for': 1,\n",
       " 'for these': 1,\n",
       " 'these essential': 1,\n",
       " 'essential purposes,': 1,\n",
       " 'purposes, and': 1,\n",
       " 'and may': 1,\n",
       " 'may enable': 1,\n",
       " 'enable every': 1,\n",
       " 'every instrument': 1,\n",
       " 'instrument employed': 1,\n",
       " 'employed in': 1,\n",
       " 'in its': 1,\n",
       " 'its administration': 1,\n",
       " 'administration to': 1,\n",
       " 'to execute': 1,\n",
       " 'execute with': 1,\n",
       " 'with success': 1,\n",
       " 'success the': 1,\n",
       " 'the functions': 1,\n",
       " 'functions allotted': 1,\n",
       " 'allotted to': 1,\n",
       " 'his charge.': 1,\n",
       " 'charge. in': 1,\n",
       " 'in tendering': 1,\n",
       " 'tendering this': 1,\n",
       " 'this homage': 1,\n",
       " 'homage to': 1,\n",
       " 'great author': 1,\n",
       " 'author of': 1,\n",
       " 'every public': 1,\n",
       " 'public and': 1,\n",
       " 'and private': 1,\n",
       " 'private good,': 1,\n",
       " 'good, i': 1,\n",
       " 'it expresses': 1,\n",
       " 'expresses your': 1,\n",
       " 'your sentiments': 1,\n",
       " 'sentiments not': 1,\n",
       " 'not less': 1,\n",
       " 'than my': 1,\n",
       " 'my own,': 1,\n",
       " 'own, nor': 1,\n",
       " 'nor those': 1,\n",
       " 'citizens at': 1,\n",
       " 'at large': 1,\n",
       " 'large less': 1,\n",
       " 'than either.': 1,\n",
       " 'either. no': 1,\n",
       " 'no people': 1,\n",
       " 'people can': 1,\n",
       " 'be bound': 1,\n",
       " 'bound to': 1,\n",
       " 'to acknowledge': 1,\n",
       " 'acknowledge and': 1,\n",
       " 'and adore': 1,\n",
       " 'adore the': 1,\n",
       " 'the invisible': 1,\n",
       " 'invisible hand': 1,\n",
       " 'hand which': 1,\n",
       " 'which conducts': 1,\n",
       " 'conducts the': 1,\n",
       " 'the affairs': 1,\n",
       " 'affairs of': 1,\n",
       " 'of men': 1,\n",
       " 'men more': 1,\n",
       " 'more than': 1,\n",
       " 'than those': 1,\n",
       " 'united states.': 1,\n",
       " 'states. every': 1,\n",
       " 'every step': 1,\n",
       " 'step by': 1,\n",
       " 'have advanced': 1,\n",
       " 'advanced to': 1,\n",
       " 'character of': 1,\n",
       " 'an independent': 1,\n",
       " 'independent nation': 1,\n",
       " 'nation seems': 1,\n",
       " 'seems to': 1,\n",
       " 'to have': 1,\n",
       " 'been distinguished': 1,\n",
       " 'distinguished by': 1,\n",
       " 'by some': 1,\n",
       " 'some token': 1,\n",
       " 'token of': 1,\n",
       " 'of providential': 1,\n",
       " 'providential agency;': 1,\n",
       " 'agency; and': 1,\n",
       " 'the important': 1,\n",
       " 'important revolution': 1,\n",
       " 'revolution just': 1,\n",
       " 'just accomplished': 1,\n",
       " 'accomplished in': 1,\n",
       " 'system of': 1,\n",
       " 'their united': 1,\n",
       " 'united government': 1,\n",
       " 'government the': 1,\n",
       " 'the tranquil': 1,\n",
       " 'tranquil deliberations': 1,\n",
       " 'deliberations and': 1,\n",
       " 'and voluntary': 1,\n",
       " 'voluntary consent': 1,\n",
       " 'consent of': 1,\n",
       " 'of so': 1,\n",
       " 'so many': 1,\n",
       " 'many distinct': 1,\n",
       " 'distinct communities': 1,\n",
       " 'communities from': 1,\n",
       " 'from which': 1,\n",
       " 'the event': 1,\n",
       " 'event has': 1,\n",
       " 'has resulted': 1,\n",
       " 'resulted can': 1,\n",
       " 'can not': 1,\n",
       " 'not be': 1,\n",
       " 'be compared': 1,\n",
       " 'compared with': 1,\n",
       " 'the means': 1,\n",
       " 'means by': 1,\n",
       " 'which most': 1,\n",
       " 'most governments': 1,\n",
       " 'governments have': 1,\n",
       " 'been established': 1,\n",
       " 'established without': 1,\n",
       " 'without some': 1,\n",
       " 'some return': 1,\n",
       " 'return of': 1,\n",
       " 'of pious': 1,\n",
       " 'pious gratitude,': 1,\n",
       " 'gratitude, along': 1,\n",
       " 'along with': 1,\n",
       " 'an humble': 1,\n",
       " 'humble anticipation': 1,\n",
       " 'anticipation of': 1,\n",
       " 'future blessings': 1,\n",
       " 'blessings which': 1,\n",
       " 'the past': 1,\n",
       " 'past seem': 1,\n",
       " 'seem to': 1,\n",
       " 'to presage.': 1,\n",
       " 'presage. these': 1,\n",
       " 'these reflections,': 1,\n",
       " 'reflections, arising': 1,\n",
       " 'arising out': 1,\n",
       " 'out of': 1,\n",
       " 'present crisis,': 1,\n",
       " 'crisis, have': 1,\n",
       " 'have forced': 1,\n",
       " 'forced themselves': 1,\n",
       " 'themselves too': 1,\n",
       " 'too strongly': 1,\n",
       " 'strongly on': 1,\n",
       " 'on my': 1,\n",
       " 'my mind': 1,\n",
       " 'mind to': 1,\n",
       " 'be suppressed.': 1,\n",
       " 'suppressed. you': 1,\n",
       " 'will join': 1,\n",
       " 'join with': 1,\n",
       " 'with me,': 1,\n",
       " 'me, i': 1,\n",
       " 'i trust,': 1,\n",
       " 'trust, in': 1,\n",
       " 'in thinking': 1,\n",
       " 'thinking that': 1,\n",
       " 'there are': 1,\n",
       " 'are none': 1,\n",
       " 'none under': 1,\n",
       " 'the influence': 1,\n",
       " 'influence of': 1,\n",
       " 'the proceedings': 1,\n",
       " 'proceedings of': 1,\n",
       " 'a new': 1,\n",
       " 'new and': 1,\n",
       " 'and free': 1,\n",
       " 'government can': 1,\n",
       " 'can more': 1,\n",
       " 'more auspiciously': 1,\n",
       " 'auspiciously commence.\\n\\nby': 1,\n",
       " 'commence.\\n\\nby the': 1,\n",
       " 'the article': 1,\n",
       " 'article establishing': 1,\n",
       " 'establishing the': 1,\n",
       " 'department it': 1,\n",
       " 'it is': 1,\n",
       " 'is made': 1,\n",
       " 'made the': 1,\n",
       " 'the duty': 1,\n",
       " 'duty of': 1,\n",
       " 'the president': 1,\n",
       " 'president \"to': 1,\n",
       " '\"to recommend': 1,\n",
       " 'recommend to': 1,\n",
       " 'your consideration': 1,\n",
       " 'consideration such': 1,\n",
       " 'such measures': 1,\n",
       " 'measures as': 1,\n",
       " 'as he': 1,\n",
       " 'he shall': 1,\n",
       " 'shall judge': 1,\n",
       " 'judge necessary': 1,\n",
       " 'necessary and': 1,\n",
       " 'and expedient.\"': 1,\n",
       " 'expedient.\" the': 1,\n",
       " 'the circumstances': 1,\n",
       " 'circumstances under': 1,\n",
       " 'i now': 1,\n",
       " 'now meet': 1,\n",
       " 'meet you': 1,\n",
       " 'will acquit': 1,\n",
       " 'acquit me': 1,\n",
       " 'me from': 1,\n",
       " 'from entering': 1,\n",
       " 'entering into': 1,\n",
       " 'into that': 1,\n",
       " 'that subject': 1,\n",
       " 'subject further': 1,\n",
       " 'further than': 1,\n",
       " 'than to': 1,\n",
       " 'to refer': 1,\n",
       " 'refer to': 1,\n",
       " 'great constitutional': 1,\n",
       " 'constitutional charter': 1,\n",
       " 'charter under': 1,\n",
       " 'you are': 1,\n",
       " 'are assembled,': 1,\n",
       " 'assembled, and': 1,\n",
       " 'and which,': 1,\n",
       " 'which, in': 1,\n",
       " 'in defining': 1,\n",
       " 'defining your': 1,\n",
       " 'your powers,': 1,\n",
       " 'powers, designates': 1,\n",
       " 'designates the': 1,\n",
       " 'the objects': 1,\n",
       " 'objects to': 1,\n",
       " 'which your': 1,\n",
       " 'your attention': 1,\n",
       " 'attention is': 1,\n",
       " 'is to': 1,\n",
       " 'be given.': 1,\n",
       " 'given. it': 1,\n",
       " 'be more': 1,\n",
       " 'more consistent': 1,\n",
       " 'consistent with': 1,\n",
       " 'with those': 1,\n",
       " 'those circumstances,': 1,\n",
       " 'circumstances, and': 1,\n",
       " 'and far': 1,\n",
       " 'far more': 1,\n",
       " 'more congenial': 1,\n",
       " 'congenial with': 1,\n",
       " 'the feelings': 1,\n",
       " 'feelings which': 1,\n",
       " 'which actuate': 1,\n",
       " 'actuate me,': 1,\n",
       " 'me, to': 1,\n",
       " 'to substitute,': 1,\n",
       " 'substitute, in': 1,\n",
       " 'in place': 1,\n",
       " 'place of': 1,\n",
       " 'a recommendation': 1,\n",
       " 'recommendation of': 1,\n",
       " 'of particular': 1,\n",
       " 'particular measures,': 1,\n",
       " 'measures, the': 1,\n",
       " 'the tribute': 1,\n",
       " 'tribute that': 1,\n",
       " 'that is': 1,\n",
       " 'is due': 1,\n",
       " 'due to': 1,\n",
       " 'the talents,': 1,\n",
       " 'talents, the': 1,\n",
       " 'the rectitude,': 1,\n",
       " 'rectitude, and': 1,\n",
       " 'the patriotism': 1,\n",
       " 'patriotism which': 1,\n",
       " 'which adorn': 1,\n",
       " 'adorn the': 1,\n",
       " 'the characters': 1,\n",
       " 'characters selected': 1,\n",
       " 'selected to': 1,\n",
       " 'to devise': 1,\n",
       " 'devise and': 1,\n",
       " 'and adopt': 1,\n",
       " 'adopt them.': 1,\n",
       " 'in these': 1,\n",
       " 'these honorable': 1,\n",
       " 'honorable qualifications': 1,\n",
       " 'qualifications i': 1,\n",
       " 'i behold': 1,\n",
       " 'behold the': 1,\n",
       " 'the surest': 1,\n",
       " 'surest pledges': 1,\n",
       " 'pledges that': 1,\n",
       " 'that as': 1,\n",
       " 'as on': 1,\n",
       " 'on one': 1,\n",
       " 'one side': 1,\n",
       " 'side no': 1,\n",
       " 'no local': 1,\n",
       " 'local prejudices': 1,\n",
       " 'prejudices or': 1,\n",
       " 'or attachments,': 1,\n",
       " 'attachments, no': 1,\n",
       " 'no separate': 1,\n",
       " 'separate views': 1,\n",
       " 'views nor': 1,\n",
       " 'nor party': 1,\n",
       " 'party animosities,': 1,\n",
       " 'animosities, will': 1,\n",
       " 'will misdirect': 1,\n",
       " 'misdirect the': 1,\n",
       " 'the comprehensive': 1,\n",
       " 'comprehensive and': 1,\n",
       " 'and equal': 1,\n",
       " 'equal eye': 1,\n",
       " 'eye which': 1,\n",
       " 'to watch': 1,\n",
       " 'watch over': 1,\n",
       " 'over this': 1,\n",
       " 'this great': 1,\n",
       " 'great assemblage': 1,\n",
       " 'assemblage of': 1,\n",
       " 'of communities': 1,\n",
       " 'communities and': 1,\n",
       " 'and interests,': 1,\n",
       " 'interests, so,': 1,\n",
       " 'so, on': 1,\n",
       " 'on another,': 1,\n",
       " 'another, that': 1,\n",
       " 'the foundation': 1,\n",
       " 'foundation of': 1,\n",
       " 'of our': 1,\n",
       " 'our national': 1,\n",
       " 'national policy': 1,\n",
       " 'policy will': 1,\n",
       " 'be laid': 1,\n",
       " 'laid in': 1,\n",
       " 'the pure': 1,\n",
       " 'pure and': 1,\n",
       " 'and immutable': 1,\n",
       " 'immutable principles': 1,\n",
       " 'principles of': 1,\n",
       " 'of private': 1,\n",
       " 'private morality,': 1,\n",
       " 'morality, and': 1,\n",
       " 'the preeminence': 1,\n",
       " 'preeminence of': 1,\n",
       " 'government be': 1,\n",
       " 'be exemplified': 1,\n",
       " 'exemplified by': 1,\n",
       " 'by all': 1,\n",
       " 'all the': 1,\n",
       " 'the attributes': 1,\n",
       " 'attributes which': 1,\n",
       " 'which can': 1,\n",
       " 'can win': 1,\n",
       " 'win the': 1,\n",
       " 'the affections': 1,\n",
       " 'affections of': 1,\n",
       " 'of its': 1,\n",
       " 'its citizens': 1,\n",
       " 'citizens and': 1,\n",
       " 'and command': 1,\n",
       " 'command the': 1,\n",
       " 'the respect': 1,\n",
       " 'respect of': 1,\n",
       " 'the world.': 1,\n",
       " 'world. i': 1,\n",
       " 'i dwell': 1,\n",
       " 'dwell on': 1,\n",
       " 'this prospect': 1,\n",
       " 'prospect with': 1,\n",
       " 'with every': 1,\n",
       " 'every satisfaction': 1,\n",
       " 'satisfaction which': 1,\n",
       " 'which an': 1,\n",
       " 'an ardent': 1,\n",
       " 'ardent love': 1,\n",
       " 'love for': 1,\n",
       " 'for my': 1,\n",
       " 'country can': 1,\n",
       " 'can inspire,': 1,\n",
       " 'inspire, since': 1,\n",
       " 'since there': 1,\n",
       " 'there is': 1,\n",
       " 'is no': 1,\n",
       " 'no truth': 1,\n",
       " 'truth more': 1,\n",
       " 'more thoroughly': 1,\n",
       " 'thoroughly established': 1,\n",
       " 'established than': 1,\n",
       " 'there exists': 1,\n",
       " 'exists in': 1,\n",
       " 'the economy': 1,\n",
       " 'economy and': 1,\n",
       " 'and course': 1,\n",
       " 'course of': 1,\n",
       " 'of nature': 1,\n",
       " 'an indissoluble': 1,\n",
       " 'indissoluble union': 1,\n",
       " 'union between': 1,\n",
       " 'between virtue': 1,\n",
       " 'virtue and': 1,\n",
       " 'and happiness;': 1,\n",
       " 'happiness; between': 1,\n",
       " 'between duty': 1,\n",
       " 'duty and': 1,\n",
       " 'and advantage;': 1,\n",
       " 'advantage; between': 1,\n",
       " 'between the': 1,\n",
       " 'the genuine': 1,\n",
       " 'genuine maxims': 1,\n",
       " 'maxims of': 1,\n",
       " 'an honest': 1,\n",
       " 'honest and': 1,\n",
       " 'and magnanimous': 1,\n",
       " 'magnanimous policy': 1,\n",
       " 'policy and': 1,\n",
       " 'the solid': 1,\n",
       " 'solid rewards': 1,\n",
       " 'rewards of': 1,\n",
       " 'of public': 1,\n",
       " 'public prosperity': 1,\n",
       " 'prosperity and': 1,\n",
       " 'and felicity;': 1,\n",
       " 'felicity; since': 1,\n",
       " 'since we': 1,\n",
       " 'we ought': 1,\n",
       " 'be no': 1,\n",
       " 'no less': 1,\n",
       " 'less persuaded': 1,\n",
       " 'persuaded that': 1,\n",
       " 'the propitious': 1,\n",
       " 'propitious smiles': 1,\n",
       " 'smiles of': 1,\n",
       " 'of heaven': 1,\n",
       " 'heaven can': 1,\n",
       " 'never be': 1,\n",
       " 'be expected': 1,\n",
       " 'expected on': 1,\n",
       " 'a nation': 1,\n",
       " 'nation that': 1,\n",
       " 'that disregards': 1,\n",
       " 'disregards the': 1,\n",
       " 'the eternal': 1,\n",
       " 'eternal rules': 1,\n",
       " 'rules of': 1,\n",
       " 'of order': 1,\n",
       " 'order and': 1,\n",
       " 'and right': 1,\n",
       " 'right which': 1,\n",
       " 'which heaven': 1,\n",
       " 'heaven itself': 1,\n",
       " 'itself has': 1,\n",
       " 'has ordained;': 1,\n",
       " 'ordained; and': 1,\n",
       " 'and since': 1,\n",
       " 'the preservation': 1,\n",
       " 'preservation of': 1,\n",
       " 'the sacred': 1,\n",
       " 'sacred fire': 1,\n",
       " 'fire of': 1,\n",
       " 'of liberty': 1,\n",
       " 'liberty and': 1,\n",
       " 'the destiny': 1,\n",
       " 'destiny of': 1,\n",
       " 'the republican': 1,\n",
       " 'republican model': 1,\n",
       " 'model of': 1,\n",
       " 'government are': 1,\n",
       " 'are justly': 1,\n",
       " 'justly considered,': 1,\n",
       " 'considered, perhaps,': 1,\n",
       " 'perhaps, as': 1,\n",
       " 'as deeply,': 1,\n",
       " 'deeply, as': 1,\n",
       " 'as finally,': 1,\n",
       " 'finally, staked': 1,\n",
       " 'staked on': 1,\n",
       " 'the experiment': 1,\n",
       " 'experiment entrusted': 1,\n",
       " 'entrusted to': 1,\n",
       " 'the hands': 1,\n",
       " 'hands of': 1,\n",
       " 'american people.\\n\\nbesides': 1,\n",
       " 'people.\\n\\nbesides the': 1,\n",
       " 'the ordinary': 1,\n",
       " 'ordinary objects': 1,\n",
       " 'objects submitted': 1,\n",
       " 'submitted to': 1,\n",
       " 'your care,': 1,\n",
       " 'care, it': 1,\n",
       " 'will remain': 1,\n",
       " 'remain with': 1,\n",
       " 'with your': 1,\n",
       " 'your judgment': 1,\n",
       " 'judgment to': 1,\n",
       " 'to decide': 1,\n",
       " 'decide how': 1,\n",
       " 'far an': 1,\n",
       " 'an exercise': 1,\n",
       " 'exercise of': 1,\n",
       " 'the occasional': 1,\n",
       " 'occasional power': 1,\n",
       " 'power delegated': 1,\n",
       " 'delegated by': 1,\n",
       " 'the fifth': 1,\n",
       " 'fifth article': 1,\n",
       " 'article of': 1,\n",
       " 'the constitution': 1,\n",
       " 'constitution is': 1,\n",
       " 'is rendered': 1,\n",
       " 'rendered expedient': 1,\n",
       " 'expedient at': 1,\n",
       " 'present juncture': 1,\n",
       " 'juncture by': 1,\n",
       " 'the nature': 1,\n",
       " 'nature of': 1,\n",
       " 'of objections': 1,\n",
       " 'objections which': 1,\n",
       " 'which have': 1,\n",
       " 'been urged': 1,\n",
       " 'urged against': 1,\n",
       " 'against the': 1,\n",
       " 'the system,': 1,\n",
       " 'system, or': 1,\n",
       " 'the degree': 1,\n",
       " 'degree of': 1,\n",
       " 'of inquietude': 1,\n",
       " 'inquietude which': 1,\n",
       " 'which has': 1,\n",
       " 'has given': 1,\n",
       " 'given birth': 1,\n",
       " 'birth to': 1,\n",
       " 'to them.': 1,\n",
       " 'them. instead': 1,\n",
       " 'instead of': 1,\n",
       " 'of undertaking': 1,\n",
       " 'undertaking particular': 1,\n",
       " 'particular recommendations': 1,\n",
       " 'recommendations on': 1,\n",
       " 'this subject,': 1,\n",
       " 'subject, in': 1,\n",
       " 'i could': 1,\n",
       " 'could be': 1,\n",
       " 'be guided': 1,\n",
       " 'guided by': 1,\n",
       " 'by no': 1,\n",
       " 'no lights': 1,\n",
       " 'lights derived': 1,\n",
       " 'derived from': 1,\n",
       " 'from official': 1,\n",
       " 'official opportunities,': 1,\n",
       " 'opportunities, i': 1,\n",
       " 'shall again': 1,\n",
       " 'again give': 1,\n",
       " 'give way': 1,\n",
       " 'way to': 1,\n",
       " 'my entire': 1,\n",
       " 'entire confidence': 1,\n",
       " 'confidence in': 1,\n",
       " 'in your': 1,\n",
       " 'your discernment': 1,\n",
       " 'discernment and': 1,\n",
       " 'and pursuit': 1,\n",
       " 'pursuit of': 1,\n",
       " 'public good;': 1,\n",
       " 'good; for': 1,\n",
       " 'that whilst': 1,\n",
       " 'whilst you': 1,\n",
       " 'you carefully': 1,\n",
       " 'carefully avoid': 1,\n",
       " 'avoid every': 1,\n",
       " 'every alteration': 1,\n",
       " ...}"
      ]
     },
     "execution_count": 15,
     "metadata": {},
     "output_type": "execute_result"
    }
   ],
   "source": [
    "getNgrams(inaugural.raw(fileids=inaugural.fileids()[0]),2)"
   ]
  },
  {
   "cell_type": "code",
   "execution_count": 16,
   "metadata": {
    "pycharm": {
     "name": "#%%\n"
    }
   },
   "outputs": [
    {
     "data": {
      "text/plain": [
       "{'in which i': 3,\n",
       " 'the house of': 2,\n",
       " 'of which the': 2,\n",
       " 'of the present': 2,\n",
       " 'a retreat which': 2,\n",
       " 'as well as': 2,\n",
       " 'of my country': 2,\n",
       " 'ought to be': 2,\n",
       " 'all i dare': 2,\n",
       " 'of my fellow': 2,\n",
       " 'by my country': 2,\n",
       " 'under which i': 2,\n",
       " 'of the united': 2,\n",
       " 'the united states': 2,\n",
       " 'to the great': 2,\n",
       " 'i assure myself': 2,\n",
       " 'assure myself that': 2,\n",
       " 'my fellow citizens': 2,\n",
       " 'the executive department': 2,\n",
       " 'which ought to': 2,\n",
       " 'the public good': 2,\n",
       " 'the american people': 2,\n",
       " 'fellow-citizens of the': 1,\n",
       " 'of the senate': 1,\n",
       " 'the senate and': 1,\n",
       " 'senate and of': 1,\n",
       " 'and of the': 1,\n",
       " 'of the house': 1,\n",
       " 'house of representatives:\\n\\namong': 1,\n",
       " 'of representatives:\\n\\namong the': 1,\n",
       " 'representatives:\\n\\namong the vicissitudes': 1,\n",
       " 'the vicissitudes incident': 1,\n",
       " 'vicissitudes incident to': 1,\n",
       " 'incident to life': 1,\n",
       " 'to life no': 1,\n",
       " 'life no event': 1,\n",
       " 'no event could': 1,\n",
       " 'event could have': 1,\n",
       " 'could have filled': 1,\n",
       " 'have filled me': 1,\n",
       " 'filled me with': 1,\n",
       " 'me with greater': 1,\n",
       " 'with greater anxieties': 1,\n",
       " 'greater anxieties than': 1,\n",
       " 'anxieties than that': 1,\n",
       " 'than that of': 1,\n",
       " 'that of which': 1,\n",
       " 'which the notification': 1,\n",
       " 'the notification was': 1,\n",
       " 'notification was transmitted': 1,\n",
       " 'was transmitted by': 1,\n",
       " 'transmitted by your': 1,\n",
       " 'by your order,': 1,\n",
       " 'your order, and': 1,\n",
       " 'order, and received': 1,\n",
       " 'and received on': 1,\n",
       " 'received on the': 1,\n",
       " 'on the 14th': 1,\n",
       " 'the 14th day': 1,\n",
       " '14th day of': 1,\n",
       " 'day of the': 1,\n",
       " 'the present month.': 1,\n",
       " 'present month. on': 1,\n",
       " 'month. on the': 1,\n",
       " 'on the one': 1,\n",
       " 'the one hand,': 1,\n",
       " 'one hand, i': 1,\n",
       " 'hand, i was': 1,\n",
       " 'i was summoned': 1,\n",
       " 'was summoned by': 1,\n",
       " 'summoned by my': 1,\n",
       " 'by my country,': 1,\n",
       " 'my country, whose': 1,\n",
       " 'country, whose voice': 1,\n",
       " 'whose voice i': 1,\n",
       " 'voice i can': 1,\n",
       " 'i can never': 1,\n",
       " 'can never hear': 1,\n",
       " 'never hear but': 1,\n",
       " 'hear but with': 1,\n",
       " 'but with veneration': 1,\n",
       " 'with veneration and': 1,\n",
       " 'veneration and love,': 1,\n",
       " 'and love, from': 1,\n",
       " 'love, from a': 1,\n",
       " 'from a retreat': 1,\n",
       " 'retreat which i': 1,\n",
       " 'which i had': 1,\n",
       " 'i had chosen': 1,\n",
       " 'had chosen with': 1,\n",
       " 'chosen with the': 1,\n",
       " 'with the fondest': 1,\n",
       " 'the fondest predilection,': 1,\n",
       " 'fondest predilection, and,': 1,\n",
       " 'predilection, and, in': 1,\n",
       " 'and, in my': 1,\n",
       " 'in my flattering': 1,\n",
       " 'my flattering hopes,': 1,\n",
       " 'flattering hopes, with': 1,\n",
       " 'hopes, with an': 1,\n",
       " 'with an immutable': 1,\n",
       " 'an immutable decision,': 1,\n",
       " 'immutable decision, as': 1,\n",
       " 'decision, as the': 1,\n",
       " 'as the asylum': 1,\n",
       " 'the asylum of': 1,\n",
       " 'asylum of my': 1,\n",
       " 'of my declining': 1,\n",
       " 'my declining years': 1,\n",
       " 'declining years --': 1,\n",
       " 'years -- a': 1,\n",
       " '-- a retreat': 1,\n",
       " 'retreat which was': 1,\n",
       " 'which was rendered': 1,\n",
       " 'was rendered every': 1,\n",
       " 'rendered every day': 1,\n",
       " 'every day more': 1,\n",
       " 'day more necessary': 1,\n",
       " 'more necessary as': 1,\n",
       " 'necessary as well': 1,\n",
       " 'well as more': 1,\n",
       " 'as more dear': 1,\n",
       " 'more dear to': 1,\n",
       " 'dear to me': 1,\n",
       " 'to me by': 1,\n",
       " 'me by the': 1,\n",
       " 'by the addition': 1,\n",
       " 'the addition of': 1,\n",
       " 'addition of habit': 1,\n",
       " 'of habit to': 1,\n",
       " 'habit to inclination,': 1,\n",
       " 'to inclination, and': 1,\n",
       " 'inclination, and of': 1,\n",
       " 'and of frequent': 1,\n",
       " 'of frequent interruptions': 1,\n",
       " 'frequent interruptions in': 1,\n",
       " 'interruptions in my': 1,\n",
       " 'in my health': 1,\n",
       " 'my health to': 1,\n",
       " 'health to the': 1,\n",
       " 'to the gradual': 1,\n",
       " 'the gradual waste': 1,\n",
       " 'gradual waste committed': 1,\n",
       " 'waste committed on': 1,\n",
       " 'committed on it': 1,\n",
       " 'on it by': 1,\n",
       " 'it by time.': 1,\n",
       " 'by time. on': 1,\n",
       " 'time. on the': 1,\n",
       " 'on the other': 1,\n",
       " 'the other hand,': 1,\n",
       " 'other hand, the': 1,\n",
       " 'hand, the magnitude': 1,\n",
       " 'the magnitude and': 1,\n",
       " 'magnitude and difficulty': 1,\n",
       " 'and difficulty of': 1,\n",
       " 'difficulty of the': 1,\n",
       " 'of the trust': 1,\n",
       " 'the trust to': 1,\n",
       " 'trust to which': 1,\n",
       " 'to which the': 1,\n",
       " 'which the voice': 1,\n",
       " 'the voice of': 1,\n",
       " 'voice of my': 1,\n",
       " 'my country called': 1,\n",
       " 'country called me,': 1,\n",
       " 'called me, being': 1,\n",
       " 'me, being sufficient': 1,\n",
       " 'being sufficient to': 1,\n",
       " 'sufficient to awaken': 1,\n",
       " 'to awaken in': 1,\n",
       " 'awaken in the': 1,\n",
       " 'in the wisest': 1,\n",
       " 'the wisest and': 1,\n",
       " 'wisest and most': 1,\n",
       " 'and most experienced': 1,\n",
       " 'most experienced of': 1,\n",
       " 'experienced of her': 1,\n",
       " 'of her citizens': 1,\n",
       " 'her citizens a': 1,\n",
       " 'citizens a distrustful': 1,\n",
       " 'a distrustful scrutiny': 1,\n",
       " 'distrustful scrutiny into': 1,\n",
       " 'scrutiny into his': 1,\n",
       " 'into his qualifications,': 1,\n",
       " 'his qualifications, could': 1,\n",
       " 'qualifications, could not': 1,\n",
       " 'could not but': 1,\n",
       " 'not but overwhelm': 1,\n",
       " 'but overwhelm with': 1,\n",
       " 'overwhelm with despondence': 1,\n",
       " 'with despondence one': 1,\n",
       " 'despondence one who': 1,\n",
       " 'one who (inheriting': 1,\n",
       " 'who (inheriting inferior': 1,\n",
       " '(inheriting inferior endowments': 1,\n",
       " 'inferior endowments from': 1,\n",
       " 'endowments from nature': 1,\n",
       " 'from nature and': 1,\n",
       " 'nature and unpracticed': 1,\n",
       " 'and unpracticed in': 1,\n",
       " 'unpracticed in the': 1,\n",
       " 'in the duties': 1,\n",
       " 'the duties of': 1,\n",
       " 'duties of civil': 1,\n",
       " 'of civil administration)': 1,\n",
       " 'civil administration) ought': 1,\n",
       " 'administration) ought to': 1,\n",
       " 'to be peculiarly': 1,\n",
       " 'be peculiarly conscious': 1,\n",
       " 'peculiarly conscious of': 1,\n",
       " 'conscious of his': 1,\n",
       " 'of his own': 1,\n",
       " 'his own deficiencies.': 1,\n",
       " 'own deficiencies. in': 1,\n",
       " 'deficiencies. in this': 1,\n",
       " 'in this conflict': 1,\n",
       " 'this conflict of': 1,\n",
       " 'conflict of emotions': 1,\n",
       " 'of emotions all': 1,\n",
       " 'emotions all i': 1,\n",
       " 'i dare aver': 1,\n",
       " 'dare aver is': 1,\n",
       " 'aver is that': 1,\n",
       " 'is that it': 1,\n",
       " 'that it has': 1,\n",
       " 'it has been': 1,\n",
       " 'has been my': 1,\n",
       " 'been my faithful': 1,\n",
       " 'my faithful study': 1,\n",
       " 'faithful study to': 1,\n",
       " 'study to collect': 1,\n",
       " 'to collect my': 1,\n",
       " 'collect my duty': 1,\n",
       " 'my duty from': 1,\n",
       " 'duty from a': 1,\n",
       " 'from a just': 1,\n",
       " 'a just appreciation': 1,\n",
       " 'just appreciation of': 1,\n",
       " 'appreciation of every': 1,\n",
       " 'of every circumstance': 1,\n",
       " 'every circumstance by': 1,\n",
       " 'circumstance by which': 1,\n",
       " 'by which it': 1,\n",
       " 'which it might': 1,\n",
       " 'it might be': 1,\n",
       " 'might be affected.': 1,\n",
       " 'be affected. all': 1,\n",
       " 'affected. all i': 1,\n",
       " 'i dare hope': 1,\n",
       " 'dare hope is': 1,\n",
       " 'hope is that': 1,\n",
       " 'is that if,': 1,\n",
       " 'that if, in': 1,\n",
       " 'if, in executing': 1,\n",
       " 'in executing this': 1,\n",
       " 'executing this task,': 1,\n",
       " 'this task, i': 1,\n",
       " 'task, i have': 1,\n",
       " 'i have been': 1,\n",
       " 'have been too': 1,\n",
       " 'been too much': 1,\n",
       " 'too much swayed': 1,\n",
       " 'much swayed by': 1,\n",
       " 'swayed by a': 1,\n",
       " 'by a grateful': 1,\n",
       " 'a grateful remembrance': 1,\n",
       " 'grateful remembrance of': 1,\n",
       " 'remembrance of former': 1,\n",
       " 'of former instances,': 1,\n",
       " 'former instances, or': 1,\n",
       " 'instances, or by': 1,\n",
       " 'or by an': 1,\n",
       " 'by an affectionate': 1,\n",
       " 'an affectionate sensibility': 1,\n",
       " 'affectionate sensibility to': 1,\n",
       " 'sensibility to this': 1,\n",
       " 'to this transcendent': 1,\n",
       " 'this transcendent proof': 1,\n",
       " 'transcendent proof of': 1,\n",
       " 'proof of the': 1,\n",
       " 'of the confidence': 1,\n",
       " 'the confidence of': 1,\n",
       " 'confidence of my': 1,\n",
       " 'my fellow citizens,': 1,\n",
       " 'fellow citizens, and': 1,\n",
       " 'citizens, and have': 1,\n",
       " 'and have thence': 1,\n",
       " 'have thence too': 1,\n",
       " 'thence too little': 1,\n",
       " 'too little consulted': 1,\n",
       " 'little consulted my': 1,\n",
       " 'consulted my incapacity': 1,\n",
       " 'my incapacity as': 1,\n",
       " 'incapacity as well': 1,\n",
       " 'well as disinclination': 1,\n",
       " 'as disinclination for': 1,\n",
       " 'disinclination for the': 1,\n",
       " 'for the weighty': 1,\n",
       " 'the weighty and': 1,\n",
       " 'weighty and untried': 1,\n",
       " 'and untried cares': 1,\n",
       " 'untried cares before': 1,\n",
       " 'cares before me,': 1,\n",
       " 'before me, my': 1,\n",
       " 'me, my error': 1,\n",
       " 'my error will': 1,\n",
       " 'error will be': 1,\n",
       " 'will be palliated': 1,\n",
       " 'be palliated by': 1,\n",
       " 'palliated by the': 1,\n",
       " 'by the motives': 1,\n",
       " 'the motives which': 1,\n",
       " 'motives which mislead': 1,\n",
       " 'which mislead me,': 1,\n",
       " 'mislead me, and': 1,\n",
       " 'me, and its': 1,\n",
       " 'and its consequences': 1,\n",
       " 'its consequences be': 1,\n",
       " 'consequences be judged': 1,\n",
       " 'be judged by': 1,\n",
       " 'judged by my': 1,\n",
       " 'my country with': 1,\n",
       " 'country with some': 1,\n",
       " 'with some share': 1,\n",
       " 'some share of': 1,\n",
       " 'share of the': 1,\n",
       " 'of the partiality': 1,\n",
       " 'the partiality in': 1,\n",
       " 'partiality in which': 1,\n",
       " 'in which they': 1,\n",
       " 'which they originated.\\n\\nsuch': 1,\n",
       " 'they originated.\\n\\nsuch being': 1,\n",
       " 'originated.\\n\\nsuch being the': 1,\n",
       " 'being the impressions': 1,\n",
       " 'the impressions under': 1,\n",
       " 'impressions under which': 1,\n",
       " 'which i have,': 1,\n",
       " 'i have, in': 1,\n",
       " 'have, in obedience': 1,\n",
       " 'in obedience to': 1,\n",
       " 'obedience to the': 1,\n",
       " 'to the public': 1,\n",
       " 'the public summons,': 1,\n",
       " 'public summons, repaired': 1,\n",
       " 'summons, repaired to': 1,\n",
       " 'repaired to the': 1,\n",
       " 'to the present': 1,\n",
       " 'the present station,': 1,\n",
       " 'present station, it': 1,\n",
       " 'station, it would': 1,\n",
       " 'it would be': 1,\n",
       " 'would be peculiarly': 1,\n",
       " 'be peculiarly improper': 1,\n",
       " 'peculiarly improper to': 1,\n",
       " 'improper to omit': 1,\n",
       " 'to omit in': 1,\n",
       " 'omit in this': 1,\n",
       " 'in this first': 1,\n",
       " 'this first official': 1,\n",
       " 'first official act': 1,\n",
       " 'official act my': 1,\n",
       " 'act my fervent': 1,\n",
       " 'my fervent supplications': 1,\n",
       " 'fervent supplications to': 1,\n",
       " 'supplications to that': 1,\n",
       " 'to that almighty': 1,\n",
       " 'that almighty being': 1,\n",
       " 'almighty being who': 1,\n",
       " 'being who rules': 1,\n",
       " 'who rules over': 1,\n",
       " 'rules over the': 1,\n",
       " 'over the universe,': 1,\n",
       " 'the universe, who': 1,\n",
       " 'universe, who presides': 1,\n",
       " 'who presides in': 1,\n",
       " 'presides in the': 1,\n",
       " 'in the councils': 1,\n",
       " 'the councils of': 1,\n",
       " 'councils of nations,': 1,\n",
       " 'of nations, and': 1,\n",
       " 'nations, and whose': 1,\n",
       " 'and whose providential': 1,\n",
       " 'whose providential aids': 1,\n",
       " 'providential aids can': 1,\n",
       " 'aids can supply': 1,\n",
       " 'can supply every': 1,\n",
       " 'supply every human': 1,\n",
       " 'every human defect,': 1,\n",
       " 'human defect, that': 1,\n",
       " 'defect, that his': 1,\n",
       " 'that his benediction': 1,\n",
       " 'his benediction may': 1,\n",
       " 'benediction may consecrate': 1,\n",
       " 'may consecrate to': 1,\n",
       " 'consecrate to the': 1,\n",
       " 'to the liberties': 1,\n",
       " 'the liberties and': 1,\n",
       " 'liberties and happiness': 1,\n",
       " 'and happiness of': 1,\n",
       " 'happiness of the': 1,\n",
       " 'of the people': 1,\n",
       " 'the people of': 1,\n",
       " 'people of the': 1,\n",
       " 'united states a': 1,\n",
       " 'states a government': 1,\n",
       " 'a government instituted': 1,\n",
       " 'government instituted by': 1,\n",
       " 'instituted by themselves': 1,\n",
       " 'by themselves for': 1,\n",
       " 'themselves for these': 1,\n",
       " 'for these essential': 1,\n",
       " 'these essential purposes,': 1,\n",
       " 'essential purposes, and': 1,\n",
       " 'purposes, and may': 1,\n",
       " 'and may enable': 1,\n",
       " 'may enable every': 1,\n",
       " 'enable every instrument': 1,\n",
       " 'every instrument employed': 1,\n",
       " 'instrument employed in': 1,\n",
       " 'employed in its': 1,\n",
       " 'in its administration': 1,\n",
       " 'its administration to': 1,\n",
       " 'administration to execute': 1,\n",
       " 'to execute with': 1,\n",
       " 'execute with success': 1,\n",
       " 'with success the': 1,\n",
       " 'success the functions': 1,\n",
       " 'the functions allotted': 1,\n",
       " 'functions allotted to': 1,\n",
       " 'allotted to his': 1,\n",
       " 'to his charge.': 1,\n",
       " 'his charge. in': 1,\n",
       " 'charge. in tendering': 1,\n",
       " 'in tendering this': 1,\n",
       " 'tendering this homage': 1,\n",
       " 'this homage to': 1,\n",
       " 'homage to the': 1,\n",
       " 'the great author': 1,\n",
       " 'great author of': 1,\n",
       " 'author of every': 1,\n",
       " 'of every public': 1,\n",
       " 'every public and': 1,\n",
       " 'public and private': 1,\n",
       " 'and private good,': 1,\n",
       " 'private good, i': 1,\n",
       " 'good, i assure': 1,\n",
       " 'myself that it': 1,\n",
       " 'that it expresses': 1,\n",
       " 'it expresses your': 1,\n",
       " 'expresses your sentiments': 1,\n",
       " 'your sentiments not': 1,\n",
       " 'sentiments not less': 1,\n",
       " 'not less than': 1,\n",
       " 'less than my': 1,\n",
       " 'than my own,': 1,\n",
       " 'my own, nor': 1,\n",
       " 'own, nor those': 1,\n",
       " 'nor those of': 1,\n",
       " 'those of my': 1,\n",
       " 'fellow citizens at': 1,\n",
       " 'citizens at large': 1,\n",
       " 'at large less': 1,\n",
       " 'large less than': 1,\n",
       " 'less than either.': 1,\n",
       " 'than either. no': 1,\n",
       " 'either. no people': 1,\n",
       " 'no people can': 1,\n",
       " 'people can be': 1,\n",
       " 'can be bound': 1,\n",
       " 'be bound to': 1,\n",
       " 'bound to acknowledge': 1,\n",
       " 'to acknowledge and': 1,\n",
       " 'acknowledge and adore': 1,\n",
       " 'and adore the': 1,\n",
       " 'adore the invisible': 1,\n",
       " 'the invisible hand': 1,\n",
       " 'invisible hand which': 1,\n",
       " 'hand which conducts': 1,\n",
       " 'which conducts the': 1,\n",
       " 'conducts the affairs': 1,\n",
       " 'the affairs of': 1,\n",
       " 'affairs of men': 1,\n",
       " 'of men more': 1,\n",
       " 'men more than': 1,\n",
       " 'more than those': 1,\n",
       " 'than those of': 1,\n",
       " 'those of the': 1,\n",
       " 'the united states.': 1,\n",
       " 'united states. every': 1,\n",
       " 'states. every step': 1,\n",
       " 'every step by': 1,\n",
       " 'step by which': 1,\n",
       " 'by which they': 1,\n",
       " 'which they have': 1,\n",
       " 'they have advanced': 1,\n",
       " 'have advanced to': 1,\n",
       " 'advanced to the': 1,\n",
       " 'to the character': 1,\n",
       " 'the character of': 1,\n",
       " 'character of an': 1,\n",
       " 'of an independent': 1,\n",
       " 'an independent nation': 1,\n",
       " 'independent nation seems': 1,\n",
       " 'nation seems to': 1,\n",
       " 'seems to have': 1,\n",
       " 'to have been': 1,\n",
       " 'have been distinguished': 1,\n",
       " 'been distinguished by': 1,\n",
       " 'distinguished by some': 1,\n",
       " 'by some token': 1,\n",
       " 'some token of': 1,\n",
       " 'token of providential': 1,\n",
       " 'of providential agency;': 1,\n",
       " 'providential agency; and': 1,\n",
       " 'agency; and in': 1,\n",
       " 'and in the': 1,\n",
       " 'in the important': 1,\n",
       " 'the important revolution': 1,\n",
       " 'important revolution just': 1,\n",
       " 'revolution just accomplished': 1,\n",
       " 'just accomplished in': 1,\n",
       " 'accomplished in the': 1,\n",
       " 'in the system': 1,\n",
       " 'the system of': 1,\n",
       " 'system of their': 1,\n",
       " 'of their united': 1,\n",
       " 'their united government': 1,\n",
       " 'united government the': 1,\n",
       " 'government the tranquil': 1,\n",
       " 'the tranquil deliberations': 1,\n",
       " 'tranquil deliberations and': 1,\n",
       " 'deliberations and voluntary': 1,\n",
       " 'and voluntary consent': 1,\n",
       " 'voluntary consent of': 1,\n",
       " 'consent of so': 1,\n",
       " 'of so many': 1,\n",
       " 'so many distinct': 1,\n",
       " 'many distinct communities': 1,\n",
       " 'distinct communities from': 1,\n",
       " 'communities from which': 1,\n",
       " 'from which the': 1,\n",
       " 'which the event': 1,\n",
       " 'the event has': 1,\n",
       " 'event has resulted': 1,\n",
       " 'has resulted can': 1,\n",
       " 'resulted can not': 1,\n",
       " 'can not be': 1,\n",
       " 'not be compared': 1,\n",
       " 'be compared with': 1,\n",
       " 'compared with the': 1,\n",
       " 'with the means': 1,\n",
       " 'the means by': 1,\n",
       " 'means by which': 1,\n",
       " 'by which most': 1,\n",
       " 'which most governments': 1,\n",
       " 'most governments have': 1,\n",
       " 'governments have been': 1,\n",
       " 'have been established': 1,\n",
       " 'been established without': 1,\n",
       " 'established without some': 1,\n",
       " 'without some return': 1,\n",
       " 'some return of': 1,\n",
       " 'return of pious': 1,\n",
       " 'of pious gratitude,': 1,\n",
       " 'pious gratitude, along': 1,\n",
       " 'gratitude, along with': 1,\n",
       " 'along with an': 1,\n",
       " 'with an humble': 1,\n",
       " 'an humble anticipation': 1,\n",
       " 'humble anticipation of': 1,\n",
       " 'anticipation of the': 1,\n",
       " 'of the future': 1,\n",
       " 'the future blessings': 1,\n",
       " 'future blessings which': 1,\n",
       " 'blessings which the': 1,\n",
       " 'which the past': 1,\n",
       " 'the past seem': 1,\n",
       " 'past seem to': 1,\n",
       " 'seem to presage.': 1,\n",
       " 'to presage. these': 1,\n",
       " 'presage. these reflections,': 1,\n",
       " 'these reflections, arising': 1,\n",
       " 'reflections, arising out': 1,\n",
       " 'arising out of': 1,\n",
       " 'out of the': 1,\n",
       " 'the present crisis,': 1,\n",
       " 'present crisis, have': 1,\n",
       " 'crisis, have forced': 1,\n",
       " 'have forced themselves': 1,\n",
       " 'forced themselves too': 1,\n",
       " 'themselves too strongly': 1,\n",
       " 'too strongly on': 1,\n",
       " 'strongly on my': 1,\n",
       " 'on my mind': 1,\n",
       " 'my mind to': 1,\n",
       " 'mind to be': 1,\n",
       " 'to be suppressed.': 1,\n",
       " 'be suppressed. you': 1,\n",
       " 'suppressed. you will': 1,\n",
       " 'you will join': 1,\n",
       " 'will join with': 1,\n",
       " 'join with me,': 1,\n",
       " 'with me, i': 1,\n",
       " 'me, i trust,': 1,\n",
       " 'i trust, in': 1,\n",
       " 'trust, in thinking': 1,\n",
       " 'in thinking that': 1,\n",
       " 'thinking that there': 1,\n",
       " 'that there are': 1,\n",
       " 'there are none': 1,\n",
       " 'are none under': 1,\n",
       " 'none under the': 1,\n",
       " 'under the influence': 1,\n",
       " 'the influence of': 1,\n",
       " 'influence of which': 1,\n",
       " 'which the proceedings': 1,\n",
       " 'the proceedings of': 1,\n",
       " 'proceedings of a': 1,\n",
       " 'of a new': 1,\n",
       " 'a new and': 1,\n",
       " 'new and free': 1,\n",
       " 'and free government': 1,\n",
       " 'free government can': 1,\n",
       " 'government can more': 1,\n",
       " 'can more auspiciously': 1,\n",
       " 'more auspiciously commence.\\n\\nby': 1,\n",
       " 'auspiciously commence.\\n\\nby the': 1,\n",
       " 'commence.\\n\\nby the article': 1,\n",
       " 'the article establishing': 1,\n",
       " 'article establishing the': 1,\n",
       " 'establishing the executive': 1,\n",
       " 'executive department it': 1,\n",
       " 'department it is': 1,\n",
       " 'it is made': 1,\n",
       " 'is made the': 1,\n",
       " 'made the duty': 1,\n",
       " 'the duty of': 1,\n",
       " 'duty of the': 1,\n",
       " 'of the president': 1,\n",
       " 'the president \"to': 1,\n",
       " 'president \"to recommend': 1,\n",
       " '\"to recommend to': 1,\n",
       " 'recommend to your': 1,\n",
       " 'to your consideration': 1,\n",
       " 'your consideration such': 1,\n",
       " 'consideration such measures': 1,\n",
       " 'such measures as': 1,\n",
       " 'measures as he': 1,\n",
       " 'as he shall': 1,\n",
       " 'he shall judge': 1,\n",
       " 'shall judge necessary': 1,\n",
       " 'judge necessary and': 1,\n",
       " 'necessary and expedient.\"': 1,\n",
       " 'and expedient.\" the': 1,\n",
       " 'expedient.\" the circumstances': 1,\n",
       " 'the circumstances under': 1,\n",
       " 'circumstances under which': 1,\n",
       " 'which i now': 1,\n",
       " 'i now meet': 1,\n",
       " 'now meet you': 1,\n",
       " 'meet you will': 1,\n",
       " 'you will acquit': 1,\n",
       " 'will acquit me': 1,\n",
       " 'acquit me from': 1,\n",
       " 'me from entering': 1,\n",
       " 'from entering into': 1,\n",
       " 'entering into that': 1,\n",
       " 'into that subject': 1,\n",
       " 'that subject further': 1,\n",
       " 'subject further than': 1,\n",
       " 'further than to': 1,\n",
       " 'than to refer': 1,\n",
       " 'to refer to': 1,\n",
       " 'refer to the': 1,\n",
       " 'the great constitutional': 1,\n",
       " 'great constitutional charter': 1,\n",
       " 'constitutional charter under': 1,\n",
       " 'charter under which': 1,\n",
       " 'under which you': 1,\n",
       " 'which you are': 1,\n",
       " 'you are assembled,': 1,\n",
       " 'are assembled, and': 1,\n",
       " 'assembled, and which,': 1,\n",
       " 'and which, in': 1,\n",
       " 'which, in defining': 1,\n",
       " 'in defining your': 1,\n",
       " 'defining your powers,': 1,\n",
       " 'your powers, designates': 1,\n",
       " 'powers, designates the': 1,\n",
       " 'designates the objects': 1,\n",
       " 'the objects to': 1,\n",
       " 'objects to which': 1,\n",
       " 'to which your': 1,\n",
       " 'which your attention': 1,\n",
       " 'your attention is': 1,\n",
       " 'attention is to': 1,\n",
       " 'is to be': 1,\n",
       " 'to be given.': 1,\n",
       " 'be given. it': 1,\n",
       " 'given. it will': 1,\n",
       " 'it will be': 1,\n",
       " 'will be more': 1,\n",
       " 'be more consistent': 1,\n",
       " 'more consistent with': 1,\n",
       " 'consistent with those': 1,\n",
       " 'with those circumstances,': 1,\n",
       " 'those circumstances, and': 1,\n",
       " 'circumstances, and far': 1,\n",
       " 'and far more': 1,\n",
       " 'far more congenial': 1,\n",
       " 'more congenial with': 1,\n",
       " 'congenial with the': 1,\n",
       " 'with the feelings': 1,\n",
       " 'the feelings which': 1,\n",
       " 'feelings which actuate': 1,\n",
       " 'which actuate me,': 1,\n",
       " 'actuate me, to': 1,\n",
       " 'me, to substitute,': 1,\n",
       " 'to substitute, in': 1,\n",
       " 'substitute, in place': 1,\n",
       " 'in place of': 1,\n",
       " 'place of a': 1,\n",
       " 'of a recommendation': 1,\n",
       " 'a recommendation of': 1,\n",
       " 'recommendation of particular': 1,\n",
       " 'of particular measures,': 1,\n",
       " 'particular measures, the': 1,\n",
       " 'measures, the tribute': 1,\n",
       " 'the tribute that': 1,\n",
       " 'tribute that is': 1,\n",
       " 'that is due': 1,\n",
       " 'is due to': 1,\n",
       " 'due to the': 1,\n",
       " 'to the talents,': 1,\n",
       " 'the talents, the': 1,\n",
       " 'talents, the rectitude,': 1,\n",
       " 'the rectitude, and': 1,\n",
       " 'rectitude, and the': 1,\n",
       " 'and the patriotism': 1,\n",
       " 'the patriotism which': 1,\n",
       " 'patriotism which adorn': 1,\n",
       " 'which adorn the': 1,\n",
       " 'adorn the characters': 1,\n",
       " 'the characters selected': 1,\n",
       " 'characters selected to': 1,\n",
       " 'selected to devise': 1,\n",
       " 'to devise and': 1,\n",
       " 'devise and adopt': 1,\n",
       " 'and adopt them.': 1,\n",
       " 'adopt them. in': 1,\n",
       " 'them. in these': 1,\n",
       " 'in these honorable': 1,\n",
       " 'these honorable qualifications': 1,\n",
       " 'honorable qualifications i': 1,\n",
       " 'qualifications i behold': 1,\n",
       " 'i behold the': 1,\n",
       " 'behold the surest': 1,\n",
       " 'the surest pledges': 1,\n",
       " 'surest pledges that': 1,\n",
       " 'pledges that as': 1,\n",
       " 'that as on': 1,\n",
       " 'as on one': 1,\n",
       " 'on one side': 1,\n",
       " 'one side no': 1,\n",
       " 'side no local': 1,\n",
       " 'no local prejudices': 1,\n",
       " 'local prejudices or': 1,\n",
       " 'prejudices or attachments,': 1,\n",
       " 'or attachments, no': 1,\n",
       " 'attachments, no separate': 1,\n",
       " 'no separate views': 1,\n",
       " 'separate views nor': 1,\n",
       " 'views nor party': 1,\n",
       " 'nor party animosities,': 1,\n",
       " 'party animosities, will': 1,\n",
       " 'animosities, will misdirect': 1,\n",
       " 'will misdirect the': 1,\n",
       " 'misdirect the comprehensive': 1,\n",
       " 'the comprehensive and': 1,\n",
       " 'comprehensive and equal': 1,\n",
       " 'and equal eye': 1,\n",
       " 'equal eye which': 1,\n",
       " 'eye which ought': 1,\n",
       " 'ought to watch': 1,\n",
       " 'to watch over': 1,\n",
       " 'watch over this': 1,\n",
       " 'over this great': 1,\n",
       " 'this great assemblage': 1,\n",
       " 'great assemblage of': 1,\n",
       " 'assemblage of communities': 1,\n",
       " 'of communities and': 1,\n",
       " 'communities and interests,': 1,\n",
       " 'and interests, so,': 1,\n",
       " 'interests, so, on': 1,\n",
       " 'so, on another,': 1,\n",
       " 'on another, that': 1,\n",
       " 'another, that the': 1,\n",
       " 'that the foundation': 1,\n",
       " 'the foundation of': 1,\n",
       " 'foundation of our': 1,\n",
       " 'of our national': 1,\n",
       " 'our national policy': 1,\n",
       " 'national policy will': 1,\n",
       " 'policy will be': 1,\n",
       " 'will be laid': 1,\n",
       " 'be laid in': 1,\n",
       " 'laid in the': 1,\n",
       " 'in the pure': 1,\n",
       " 'the pure and': 1,\n",
       " 'pure and immutable': 1,\n",
       " 'and immutable principles': 1,\n",
       " 'immutable principles of': 1,\n",
       " 'principles of private': 1,\n",
       " 'of private morality,': 1,\n",
       " 'private morality, and': 1,\n",
       " 'morality, and the': 1,\n",
       " 'and the preeminence': 1,\n",
       " 'the preeminence of': 1,\n",
       " 'preeminence of free': 1,\n",
       " 'of free government': 1,\n",
       " 'free government be': 1,\n",
       " 'government be exemplified': 1,\n",
       " 'be exemplified by': 1,\n",
       " 'exemplified by all': 1,\n",
       " 'by all the': 1,\n",
       " 'all the attributes': 1,\n",
       " 'the attributes which': 1,\n",
       " 'attributes which can': 1,\n",
       " 'which can win': 1,\n",
       " 'can win the': 1,\n",
       " 'win the affections': 1,\n",
       " 'the affections of': 1,\n",
       " 'affections of its': 1,\n",
       " 'of its citizens': 1,\n",
       " 'its citizens and': 1,\n",
       " 'citizens and command': 1,\n",
       " 'and command the': 1,\n",
       " 'command the respect': 1,\n",
       " 'the respect of': 1,\n",
       " 'respect of the': 1,\n",
       " 'of the world.': 1,\n",
       " 'the world. i': 1,\n",
       " 'world. i dwell': 1,\n",
       " 'i dwell on': 1,\n",
       " 'dwell on this': 1,\n",
       " 'on this prospect': 1,\n",
       " 'this prospect with': 1,\n",
       " 'prospect with every': 1,\n",
       " 'with every satisfaction': 1,\n",
       " 'every satisfaction which': 1,\n",
       " 'satisfaction which an': 1,\n",
       " 'which an ardent': 1,\n",
       " 'an ardent love': 1,\n",
       " 'ardent love for': 1,\n",
       " 'love for my': 1,\n",
       " 'for my country': 1,\n",
       " 'my country can': 1,\n",
       " 'country can inspire,': 1,\n",
       " 'can inspire, since': 1,\n",
       " 'inspire, since there': 1,\n",
       " 'since there is': 1,\n",
       " 'there is no': 1,\n",
       " 'is no truth': 1,\n",
       " 'no truth more': 1,\n",
       " 'truth more thoroughly': 1,\n",
       " 'more thoroughly established': 1,\n",
       " 'thoroughly established than': 1,\n",
       " 'established than that': 1,\n",
       " 'than that there': 1,\n",
       " 'that there exists': 1,\n",
       " 'there exists in': 1,\n",
       " 'exists in the': 1,\n",
       " 'in the economy': 1,\n",
       " 'the economy and': 1,\n",
       " 'economy and course': 1,\n",
       " 'and course of': 1,\n",
       " 'course of nature': 1,\n",
       " 'of nature an': 1,\n",
       " 'nature an indissoluble': 1,\n",
       " 'an indissoluble union': 1,\n",
       " 'indissoluble union between': 1,\n",
       " 'union between virtue': 1,\n",
       " 'between virtue and': 1,\n",
       " 'virtue and happiness;': 1,\n",
       " 'and happiness; between': 1,\n",
       " 'happiness; between duty': 1,\n",
       " 'between duty and': 1,\n",
       " 'duty and advantage;': 1,\n",
       " 'and advantage; between': 1,\n",
       " 'advantage; between the': 1,\n",
       " 'between the genuine': 1,\n",
       " 'the genuine maxims': 1,\n",
       " 'genuine maxims of': 1,\n",
       " 'maxims of an': 1,\n",
       " 'of an honest': 1,\n",
       " 'an honest and': 1,\n",
       " 'honest and magnanimous': 1,\n",
       " 'and magnanimous policy': 1,\n",
       " 'magnanimous policy and': 1,\n",
       " 'policy and the': 1,\n",
       " 'and the solid': 1,\n",
       " 'the solid rewards': 1,\n",
       " 'solid rewards of': 1,\n",
       " 'rewards of public': 1,\n",
       " 'of public prosperity': 1,\n",
       " 'public prosperity and': 1,\n",
       " 'prosperity and felicity;': 1,\n",
       " 'and felicity; since': 1,\n",
       " 'felicity; since we': 1,\n",
       " 'since we ought': 1,\n",
       " 'we ought to': 1,\n",
       " 'to be no': 1,\n",
       " 'be no less': 1,\n",
       " 'no less persuaded': 1,\n",
       " 'less persuaded that': 1,\n",
       " 'persuaded that the': 1,\n",
       " 'that the propitious': 1,\n",
       " 'the propitious smiles': 1,\n",
       " 'propitious smiles of': 1,\n",
       " 'smiles of heaven': 1,\n",
       " 'of heaven can': 1,\n",
       " 'heaven can never': 1,\n",
       " 'can never be': 1,\n",
       " 'never be expected': 1,\n",
       " 'be expected on': 1,\n",
       " 'expected on a': 1,\n",
       " 'on a nation': 1,\n",
       " 'a nation that': 1,\n",
       " 'nation that disregards': 1,\n",
       " 'that disregards the': 1,\n",
       " 'disregards the eternal': 1,\n",
       " 'the eternal rules': 1,\n",
       " 'eternal rules of': 1,\n",
       " 'rules of order': 1,\n",
       " 'of order and': 1,\n",
       " 'order and right': 1,\n",
       " 'and right which': 1,\n",
       " 'right which heaven': 1,\n",
       " 'which heaven itself': 1,\n",
       " 'heaven itself has': 1,\n",
       " 'itself has ordained;': 1,\n",
       " 'has ordained; and': 1,\n",
       " 'ordained; and since': 1,\n",
       " 'and since the': 1,\n",
       " 'since the preservation': 1,\n",
       " 'the preservation of': 1,\n",
       " 'preservation of the': 1,\n",
       " 'of the sacred': 1,\n",
       " 'the sacred fire': 1,\n",
       " 'sacred fire of': 1,\n",
       " 'fire of liberty': 1,\n",
       " 'of liberty and': 1,\n",
       " 'liberty and the': 1,\n",
       " 'and the destiny': 1,\n",
       " 'the destiny of': 1,\n",
       " 'destiny of the': 1,\n",
       " 'of the republican': 1,\n",
       " 'the republican model': 1,\n",
       " 'republican model of': 1,\n",
       " 'model of government': 1,\n",
       " 'of government are': 1,\n",
       " 'government are justly': 1,\n",
       " 'are justly considered,': 1,\n",
       " 'justly considered, perhaps,': 1,\n",
       " 'considered, perhaps, as': 1,\n",
       " 'perhaps, as deeply,': 1,\n",
       " 'as deeply, as': 1,\n",
       " 'deeply, as finally,': 1,\n",
       " 'as finally, staked': 1,\n",
       " 'finally, staked on': 1,\n",
       " 'staked on the': 1,\n",
       " 'on the experiment': 1,\n",
       " 'the experiment entrusted': 1,\n",
       " 'experiment entrusted to': 1,\n",
       " 'entrusted to the': 1,\n",
       " 'to the hands': 1,\n",
       " 'the hands of': 1,\n",
       " 'hands of the': 1,\n",
       " 'of the american': 1,\n",
       " 'the american people.\\n\\nbesides': 1,\n",
       " 'american people.\\n\\nbesides the': 1,\n",
       " 'people.\\n\\nbesides the ordinary': 1,\n",
       " 'the ordinary objects': 1,\n",
       " 'ordinary objects submitted': 1,\n",
       " 'objects submitted to': 1,\n",
       " 'submitted to your': 1,\n",
       " 'to your care,': 1,\n",
       " 'your care, it': 1,\n",
       " 'care, it will': 1,\n",
       " 'it will remain': 1,\n",
       " 'will remain with': 1,\n",
       " 'remain with your': 1,\n",
       " 'with your judgment': 1,\n",
       " 'your judgment to': 1,\n",
       " 'judgment to decide': 1,\n",
       " 'to decide how': 1,\n",
       " 'decide how far': 1,\n",
       " 'how far an': 1,\n",
       " 'far an exercise': 1,\n",
       " ...}"
      ]
     },
     "execution_count": 16,
     "metadata": {},
     "output_type": "execute_result"
    }
   ],
   "source": [
    "getNgrams(inaugural.raw(fileids=inaugural.fileids()[0]),3)"
   ]
  },
  {
   "cell_type": "code",
   "execution_count": 17,
   "metadata": {
    "pycharm": {
     "name": "#%%\n"
    }
   },
   "outputs": [
    {
     "data": {
      "text/plain": [
       "{'of the united states': 2,\n",
       " 'i assure myself that': 2,\n",
       " 'of my fellow citizens': 2,\n",
       " 'fellow-citizens of the senate': 1,\n",
       " 'of the senate and': 1,\n",
       " 'the senate and of': 1,\n",
       " 'senate and of the': 1,\n",
       " 'and of the house': 1,\n",
       " 'of the house of': 1,\n",
       " 'the house of representatives:\\n\\namong': 1,\n",
       " 'house of representatives:\\n\\namong the': 1,\n",
       " 'of representatives:\\n\\namong the vicissitudes': 1,\n",
       " 'representatives:\\n\\namong the vicissitudes incident': 1,\n",
       " 'the vicissitudes incident to': 1,\n",
       " 'vicissitudes incident to life': 1,\n",
       " 'incident to life no': 1,\n",
       " 'to life no event': 1,\n",
       " 'life no event could': 1,\n",
       " 'no event could have': 1,\n",
       " 'event could have filled': 1,\n",
       " 'could have filled me': 1,\n",
       " 'have filled me with': 1,\n",
       " 'filled me with greater': 1,\n",
       " 'me with greater anxieties': 1,\n",
       " 'with greater anxieties than': 1,\n",
       " 'greater anxieties than that': 1,\n",
       " 'anxieties than that of': 1,\n",
       " 'than that of which': 1,\n",
       " 'that of which the': 1,\n",
       " 'of which the notification': 1,\n",
       " 'which the notification was': 1,\n",
       " 'the notification was transmitted': 1,\n",
       " 'notification was transmitted by': 1,\n",
       " 'was transmitted by your': 1,\n",
       " 'transmitted by your order,': 1,\n",
       " 'by your order, and': 1,\n",
       " 'your order, and received': 1,\n",
       " 'order, and received on': 1,\n",
       " 'and received on the': 1,\n",
       " 'received on the 14th': 1,\n",
       " 'on the 14th day': 1,\n",
       " 'the 14th day of': 1,\n",
       " '14th day of the': 1,\n",
       " 'day of the present': 1,\n",
       " 'of the present month.': 1,\n",
       " 'the present month. on': 1,\n",
       " 'present month. on the': 1,\n",
       " 'month. on the one': 1,\n",
       " 'on the one hand,': 1,\n",
       " 'the one hand, i': 1,\n",
       " 'one hand, i was': 1,\n",
       " 'hand, i was summoned': 1,\n",
       " 'i was summoned by': 1,\n",
       " 'was summoned by my': 1,\n",
       " 'summoned by my country,': 1,\n",
       " 'by my country, whose': 1,\n",
       " 'my country, whose voice': 1,\n",
       " 'country, whose voice i': 1,\n",
       " 'whose voice i can': 1,\n",
       " 'voice i can never': 1,\n",
       " 'i can never hear': 1,\n",
       " 'can never hear but': 1,\n",
       " 'never hear but with': 1,\n",
       " 'hear but with veneration': 1,\n",
       " 'but with veneration and': 1,\n",
       " 'with veneration and love,': 1,\n",
       " 'veneration and love, from': 1,\n",
       " 'and love, from a': 1,\n",
       " 'love, from a retreat': 1,\n",
       " 'from a retreat which': 1,\n",
       " 'a retreat which i': 1,\n",
       " 'retreat which i had': 1,\n",
       " 'which i had chosen': 1,\n",
       " 'i had chosen with': 1,\n",
       " 'had chosen with the': 1,\n",
       " 'chosen with the fondest': 1,\n",
       " 'with the fondest predilection,': 1,\n",
       " 'the fondest predilection, and,': 1,\n",
       " 'fondest predilection, and, in': 1,\n",
       " 'predilection, and, in my': 1,\n",
       " 'and, in my flattering': 1,\n",
       " 'in my flattering hopes,': 1,\n",
       " 'my flattering hopes, with': 1,\n",
       " 'flattering hopes, with an': 1,\n",
       " 'hopes, with an immutable': 1,\n",
       " 'with an immutable decision,': 1,\n",
       " 'an immutable decision, as': 1,\n",
       " 'immutable decision, as the': 1,\n",
       " 'decision, as the asylum': 1,\n",
       " 'as the asylum of': 1,\n",
       " 'the asylum of my': 1,\n",
       " 'asylum of my declining': 1,\n",
       " 'of my declining years': 1,\n",
       " 'my declining years --': 1,\n",
       " 'declining years -- a': 1,\n",
       " 'years -- a retreat': 1,\n",
       " '-- a retreat which': 1,\n",
       " 'a retreat which was': 1,\n",
       " 'retreat which was rendered': 1,\n",
       " 'which was rendered every': 1,\n",
       " 'was rendered every day': 1,\n",
       " 'rendered every day more': 1,\n",
       " 'every day more necessary': 1,\n",
       " 'day more necessary as': 1,\n",
       " 'more necessary as well': 1,\n",
       " 'necessary as well as': 1,\n",
       " 'as well as more': 1,\n",
       " 'well as more dear': 1,\n",
       " 'as more dear to': 1,\n",
       " 'more dear to me': 1,\n",
       " 'dear to me by': 1,\n",
       " 'to me by the': 1,\n",
       " 'me by the addition': 1,\n",
       " 'by the addition of': 1,\n",
       " 'the addition of habit': 1,\n",
       " 'addition of habit to': 1,\n",
       " 'of habit to inclination,': 1,\n",
       " 'habit to inclination, and': 1,\n",
       " 'to inclination, and of': 1,\n",
       " 'inclination, and of frequent': 1,\n",
       " 'and of frequent interruptions': 1,\n",
       " 'of frequent interruptions in': 1,\n",
       " 'frequent interruptions in my': 1,\n",
       " 'interruptions in my health': 1,\n",
       " 'in my health to': 1,\n",
       " 'my health to the': 1,\n",
       " 'health to the gradual': 1,\n",
       " 'to the gradual waste': 1,\n",
       " 'the gradual waste committed': 1,\n",
       " 'gradual waste committed on': 1,\n",
       " 'waste committed on it': 1,\n",
       " 'committed on it by': 1,\n",
       " 'on it by time.': 1,\n",
       " 'it by time. on': 1,\n",
       " 'by time. on the': 1,\n",
       " 'time. on the other': 1,\n",
       " 'on the other hand,': 1,\n",
       " 'the other hand, the': 1,\n",
       " 'other hand, the magnitude': 1,\n",
       " 'hand, the magnitude and': 1,\n",
       " 'the magnitude and difficulty': 1,\n",
       " 'magnitude and difficulty of': 1,\n",
       " 'and difficulty of the': 1,\n",
       " 'difficulty of the trust': 1,\n",
       " 'of the trust to': 1,\n",
       " 'the trust to which': 1,\n",
       " 'trust to which the': 1,\n",
       " 'to which the voice': 1,\n",
       " 'which the voice of': 1,\n",
       " 'the voice of my': 1,\n",
       " 'voice of my country': 1,\n",
       " 'of my country called': 1,\n",
       " 'my country called me,': 1,\n",
       " 'country called me, being': 1,\n",
       " 'called me, being sufficient': 1,\n",
       " 'me, being sufficient to': 1,\n",
       " 'being sufficient to awaken': 1,\n",
       " 'sufficient to awaken in': 1,\n",
       " 'to awaken in the': 1,\n",
       " 'awaken in the wisest': 1,\n",
       " 'in the wisest and': 1,\n",
       " 'the wisest and most': 1,\n",
       " 'wisest and most experienced': 1,\n",
       " 'and most experienced of': 1,\n",
       " 'most experienced of her': 1,\n",
       " 'experienced of her citizens': 1,\n",
       " 'of her citizens a': 1,\n",
       " 'her citizens a distrustful': 1,\n",
       " 'citizens a distrustful scrutiny': 1,\n",
       " 'a distrustful scrutiny into': 1,\n",
       " 'distrustful scrutiny into his': 1,\n",
       " 'scrutiny into his qualifications,': 1,\n",
       " 'into his qualifications, could': 1,\n",
       " 'his qualifications, could not': 1,\n",
       " 'qualifications, could not but': 1,\n",
       " 'could not but overwhelm': 1,\n",
       " 'not but overwhelm with': 1,\n",
       " 'but overwhelm with despondence': 1,\n",
       " 'overwhelm with despondence one': 1,\n",
       " 'with despondence one who': 1,\n",
       " 'despondence one who (inheriting': 1,\n",
       " 'one who (inheriting inferior': 1,\n",
       " 'who (inheriting inferior endowments': 1,\n",
       " '(inheriting inferior endowments from': 1,\n",
       " 'inferior endowments from nature': 1,\n",
       " 'endowments from nature and': 1,\n",
       " 'from nature and unpracticed': 1,\n",
       " 'nature and unpracticed in': 1,\n",
       " 'and unpracticed in the': 1,\n",
       " 'unpracticed in the duties': 1,\n",
       " 'in the duties of': 1,\n",
       " 'the duties of civil': 1,\n",
       " 'duties of civil administration)': 1,\n",
       " 'of civil administration) ought': 1,\n",
       " 'civil administration) ought to': 1,\n",
       " 'administration) ought to be': 1,\n",
       " 'ought to be peculiarly': 1,\n",
       " 'to be peculiarly conscious': 1,\n",
       " 'be peculiarly conscious of': 1,\n",
       " 'peculiarly conscious of his': 1,\n",
       " 'conscious of his own': 1,\n",
       " 'of his own deficiencies.': 1,\n",
       " 'his own deficiencies. in': 1,\n",
       " 'own deficiencies. in this': 1,\n",
       " 'deficiencies. in this conflict': 1,\n",
       " 'in this conflict of': 1,\n",
       " 'this conflict of emotions': 1,\n",
       " 'conflict of emotions all': 1,\n",
       " 'of emotions all i': 1,\n",
       " 'emotions all i dare': 1,\n",
       " 'all i dare aver': 1,\n",
       " 'i dare aver is': 1,\n",
       " 'dare aver is that': 1,\n",
       " 'aver is that it': 1,\n",
       " 'is that it has': 1,\n",
       " 'that it has been': 1,\n",
       " 'it has been my': 1,\n",
       " 'has been my faithful': 1,\n",
       " 'been my faithful study': 1,\n",
       " 'my faithful study to': 1,\n",
       " 'faithful study to collect': 1,\n",
       " 'study to collect my': 1,\n",
       " 'to collect my duty': 1,\n",
       " 'collect my duty from': 1,\n",
       " 'my duty from a': 1,\n",
       " 'duty from a just': 1,\n",
       " 'from a just appreciation': 1,\n",
       " 'a just appreciation of': 1,\n",
       " 'just appreciation of every': 1,\n",
       " 'appreciation of every circumstance': 1,\n",
       " 'of every circumstance by': 1,\n",
       " 'every circumstance by which': 1,\n",
       " 'circumstance by which it': 1,\n",
       " 'by which it might': 1,\n",
       " 'which it might be': 1,\n",
       " 'it might be affected.': 1,\n",
       " 'might be affected. all': 1,\n",
       " 'be affected. all i': 1,\n",
       " 'affected. all i dare': 1,\n",
       " 'all i dare hope': 1,\n",
       " 'i dare hope is': 1,\n",
       " 'dare hope is that': 1,\n",
       " 'hope is that if,': 1,\n",
       " 'is that if, in': 1,\n",
       " 'that if, in executing': 1,\n",
       " 'if, in executing this': 1,\n",
       " 'in executing this task,': 1,\n",
       " 'executing this task, i': 1,\n",
       " 'this task, i have': 1,\n",
       " 'task, i have been': 1,\n",
       " 'i have been too': 1,\n",
       " 'have been too much': 1,\n",
       " 'been too much swayed': 1,\n",
       " 'too much swayed by': 1,\n",
       " 'much swayed by a': 1,\n",
       " 'swayed by a grateful': 1,\n",
       " 'by a grateful remembrance': 1,\n",
       " 'a grateful remembrance of': 1,\n",
       " 'grateful remembrance of former': 1,\n",
       " 'remembrance of former instances,': 1,\n",
       " 'of former instances, or': 1,\n",
       " 'former instances, or by': 1,\n",
       " 'instances, or by an': 1,\n",
       " 'or by an affectionate': 1,\n",
       " 'by an affectionate sensibility': 1,\n",
       " 'an affectionate sensibility to': 1,\n",
       " 'affectionate sensibility to this': 1,\n",
       " 'sensibility to this transcendent': 1,\n",
       " 'to this transcendent proof': 1,\n",
       " 'this transcendent proof of': 1,\n",
       " 'transcendent proof of the': 1,\n",
       " 'proof of the confidence': 1,\n",
       " 'of the confidence of': 1,\n",
       " 'the confidence of my': 1,\n",
       " 'confidence of my fellow': 1,\n",
       " 'of my fellow citizens,': 1,\n",
       " 'my fellow citizens, and': 1,\n",
       " 'fellow citizens, and have': 1,\n",
       " 'citizens, and have thence': 1,\n",
       " 'and have thence too': 1,\n",
       " 'have thence too little': 1,\n",
       " 'thence too little consulted': 1,\n",
       " 'too little consulted my': 1,\n",
       " 'little consulted my incapacity': 1,\n",
       " 'consulted my incapacity as': 1,\n",
       " 'my incapacity as well': 1,\n",
       " 'incapacity as well as': 1,\n",
       " 'as well as disinclination': 1,\n",
       " 'well as disinclination for': 1,\n",
       " 'as disinclination for the': 1,\n",
       " 'disinclination for the weighty': 1,\n",
       " 'for the weighty and': 1,\n",
       " 'the weighty and untried': 1,\n",
       " 'weighty and untried cares': 1,\n",
       " 'and untried cares before': 1,\n",
       " 'untried cares before me,': 1,\n",
       " 'cares before me, my': 1,\n",
       " 'before me, my error': 1,\n",
       " 'me, my error will': 1,\n",
       " 'my error will be': 1,\n",
       " 'error will be palliated': 1,\n",
       " 'will be palliated by': 1,\n",
       " 'be palliated by the': 1,\n",
       " 'palliated by the motives': 1,\n",
       " 'by the motives which': 1,\n",
       " 'the motives which mislead': 1,\n",
       " 'motives which mislead me,': 1,\n",
       " 'which mislead me, and': 1,\n",
       " 'mislead me, and its': 1,\n",
       " 'me, and its consequences': 1,\n",
       " 'and its consequences be': 1,\n",
       " 'its consequences be judged': 1,\n",
       " 'consequences be judged by': 1,\n",
       " 'be judged by my': 1,\n",
       " 'judged by my country': 1,\n",
       " 'by my country with': 1,\n",
       " 'my country with some': 1,\n",
       " 'country with some share': 1,\n",
       " 'with some share of': 1,\n",
       " 'some share of the': 1,\n",
       " 'share of the partiality': 1,\n",
       " 'of the partiality in': 1,\n",
       " 'the partiality in which': 1,\n",
       " 'partiality in which they': 1,\n",
       " 'in which they originated.\\n\\nsuch': 1,\n",
       " 'which they originated.\\n\\nsuch being': 1,\n",
       " 'they originated.\\n\\nsuch being the': 1,\n",
       " 'originated.\\n\\nsuch being the impressions': 1,\n",
       " 'being the impressions under': 1,\n",
       " 'the impressions under which': 1,\n",
       " 'impressions under which i': 1,\n",
       " 'under which i have,': 1,\n",
       " 'which i have, in': 1,\n",
       " 'i have, in obedience': 1,\n",
       " 'have, in obedience to': 1,\n",
       " 'in obedience to the': 1,\n",
       " 'obedience to the public': 1,\n",
       " 'to the public summons,': 1,\n",
       " 'the public summons, repaired': 1,\n",
       " 'public summons, repaired to': 1,\n",
       " 'summons, repaired to the': 1,\n",
       " 'repaired to the present': 1,\n",
       " 'to the present station,': 1,\n",
       " 'the present station, it': 1,\n",
       " 'present station, it would': 1,\n",
       " 'station, it would be': 1,\n",
       " 'it would be peculiarly': 1,\n",
       " 'would be peculiarly improper': 1,\n",
       " 'be peculiarly improper to': 1,\n",
       " 'peculiarly improper to omit': 1,\n",
       " 'improper to omit in': 1,\n",
       " 'to omit in this': 1,\n",
       " 'omit in this first': 1,\n",
       " 'in this first official': 1,\n",
       " 'this first official act': 1,\n",
       " 'first official act my': 1,\n",
       " 'official act my fervent': 1,\n",
       " 'act my fervent supplications': 1,\n",
       " 'my fervent supplications to': 1,\n",
       " 'fervent supplications to that': 1,\n",
       " 'supplications to that almighty': 1,\n",
       " 'to that almighty being': 1,\n",
       " 'that almighty being who': 1,\n",
       " 'almighty being who rules': 1,\n",
       " 'being who rules over': 1,\n",
       " 'who rules over the': 1,\n",
       " 'rules over the universe,': 1,\n",
       " 'over the universe, who': 1,\n",
       " 'the universe, who presides': 1,\n",
       " 'universe, who presides in': 1,\n",
       " 'who presides in the': 1,\n",
       " 'presides in the councils': 1,\n",
       " 'in the councils of': 1,\n",
       " 'the councils of nations,': 1,\n",
       " 'councils of nations, and': 1,\n",
       " 'of nations, and whose': 1,\n",
       " 'nations, and whose providential': 1,\n",
       " 'and whose providential aids': 1,\n",
       " 'whose providential aids can': 1,\n",
       " 'providential aids can supply': 1,\n",
       " 'aids can supply every': 1,\n",
       " 'can supply every human': 1,\n",
       " 'supply every human defect,': 1,\n",
       " 'every human defect, that': 1,\n",
       " 'human defect, that his': 1,\n",
       " 'defect, that his benediction': 1,\n",
       " 'that his benediction may': 1,\n",
       " 'his benediction may consecrate': 1,\n",
       " 'benediction may consecrate to': 1,\n",
       " 'may consecrate to the': 1,\n",
       " 'consecrate to the liberties': 1,\n",
       " 'to the liberties and': 1,\n",
       " 'the liberties and happiness': 1,\n",
       " 'liberties and happiness of': 1,\n",
       " 'and happiness of the': 1,\n",
       " 'happiness of the people': 1,\n",
       " 'of the people of': 1,\n",
       " 'the people of the': 1,\n",
       " 'people of the united': 1,\n",
       " 'the united states a': 1,\n",
       " 'united states a government': 1,\n",
       " 'states a government instituted': 1,\n",
       " 'a government instituted by': 1,\n",
       " 'government instituted by themselves': 1,\n",
       " 'instituted by themselves for': 1,\n",
       " 'by themselves for these': 1,\n",
       " 'themselves for these essential': 1,\n",
       " 'for these essential purposes,': 1,\n",
       " 'these essential purposes, and': 1,\n",
       " 'essential purposes, and may': 1,\n",
       " 'purposes, and may enable': 1,\n",
       " 'and may enable every': 1,\n",
       " 'may enable every instrument': 1,\n",
       " 'enable every instrument employed': 1,\n",
       " 'every instrument employed in': 1,\n",
       " 'instrument employed in its': 1,\n",
       " 'employed in its administration': 1,\n",
       " 'in its administration to': 1,\n",
       " 'its administration to execute': 1,\n",
       " 'administration to execute with': 1,\n",
       " 'to execute with success': 1,\n",
       " 'execute with success the': 1,\n",
       " 'with success the functions': 1,\n",
       " 'success the functions allotted': 1,\n",
       " 'the functions allotted to': 1,\n",
       " 'functions allotted to his': 1,\n",
       " 'allotted to his charge.': 1,\n",
       " 'to his charge. in': 1,\n",
       " 'his charge. in tendering': 1,\n",
       " 'charge. in tendering this': 1,\n",
       " 'in tendering this homage': 1,\n",
       " 'tendering this homage to': 1,\n",
       " 'this homage to the': 1,\n",
       " 'homage to the great': 1,\n",
       " 'to the great author': 1,\n",
       " 'the great author of': 1,\n",
       " 'great author of every': 1,\n",
       " 'author of every public': 1,\n",
       " 'of every public and': 1,\n",
       " 'every public and private': 1,\n",
       " 'public and private good,': 1,\n",
       " 'and private good, i': 1,\n",
       " 'private good, i assure': 1,\n",
       " 'good, i assure myself': 1,\n",
       " 'assure myself that it': 1,\n",
       " 'myself that it expresses': 1,\n",
       " 'that it expresses your': 1,\n",
       " 'it expresses your sentiments': 1,\n",
       " 'expresses your sentiments not': 1,\n",
       " 'your sentiments not less': 1,\n",
       " 'sentiments not less than': 1,\n",
       " 'not less than my': 1,\n",
       " 'less than my own,': 1,\n",
       " 'than my own, nor': 1,\n",
       " 'my own, nor those': 1,\n",
       " 'own, nor those of': 1,\n",
       " 'nor those of my': 1,\n",
       " 'those of my fellow': 1,\n",
       " 'my fellow citizens at': 1,\n",
       " 'fellow citizens at large': 1,\n",
       " 'citizens at large less': 1,\n",
       " 'at large less than': 1,\n",
       " 'large less than either.': 1,\n",
       " 'less than either. no': 1,\n",
       " 'than either. no people': 1,\n",
       " 'either. no people can': 1,\n",
       " 'no people can be': 1,\n",
       " 'people can be bound': 1,\n",
       " 'can be bound to': 1,\n",
       " 'be bound to acknowledge': 1,\n",
       " 'bound to acknowledge and': 1,\n",
       " 'to acknowledge and adore': 1,\n",
       " 'acknowledge and adore the': 1,\n",
       " 'and adore the invisible': 1,\n",
       " 'adore the invisible hand': 1,\n",
       " 'the invisible hand which': 1,\n",
       " 'invisible hand which conducts': 1,\n",
       " 'hand which conducts the': 1,\n",
       " 'which conducts the affairs': 1,\n",
       " 'conducts the affairs of': 1,\n",
       " 'the affairs of men': 1,\n",
       " 'affairs of men more': 1,\n",
       " 'of men more than': 1,\n",
       " 'men more than those': 1,\n",
       " 'more than those of': 1,\n",
       " 'than those of the': 1,\n",
       " 'those of the united': 1,\n",
       " 'of the united states.': 1,\n",
       " 'the united states. every': 1,\n",
       " 'united states. every step': 1,\n",
       " 'states. every step by': 1,\n",
       " 'every step by which': 1,\n",
       " 'step by which they': 1,\n",
       " 'by which they have': 1,\n",
       " 'which they have advanced': 1,\n",
       " 'they have advanced to': 1,\n",
       " 'have advanced to the': 1,\n",
       " 'advanced to the character': 1,\n",
       " 'to the character of': 1,\n",
       " 'the character of an': 1,\n",
       " 'character of an independent': 1,\n",
       " 'of an independent nation': 1,\n",
       " 'an independent nation seems': 1,\n",
       " 'independent nation seems to': 1,\n",
       " 'nation seems to have': 1,\n",
       " 'seems to have been': 1,\n",
       " 'to have been distinguished': 1,\n",
       " 'have been distinguished by': 1,\n",
       " 'been distinguished by some': 1,\n",
       " 'distinguished by some token': 1,\n",
       " 'by some token of': 1,\n",
       " 'some token of providential': 1,\n",
       " 'token of providential agency;': 1,\n",
       " 'of providential agency; and': 1,\n",
       " 'providential agency; and in': 1,\n",
       " 'agency; and in the': 1,\n",
       " 'and in the important': 1,\n",
       " 'in the important revolution': 1,\n",
       " 'the important revolution just': 1,\n",
       " 'important revolution just accomplished': 1,\n",
       " 'revolution just accomplished in': 1,\n",
       " 'just accomplished in the': 1,\n",
       " 'accomplished in the system': 1,\n",
       " 'in the system of': 1,\n",
       " 'the system of their': 1,\n",
       " 'system of their united': 1,\n",
       " 'of their united government': 1,\n",
       " 'their united government the': 1,\n",
       " 'united government the tranquil': 1,\n",
       " 'government the tranquil deliberations': 1,\n",
       " 'the tranquil deliberations and': 1,\n",
       " 'tranquil deliberations and voluntary': 1,\n",
       " 'deliberations and voluntary consent': 1,\n",
       " 'and voluntary consent of': 1,\n",
       " 'voluntary consent of so': 1,\n",
       " 'consent of so many': 1,\n",
       " 'of so many distinct': 1,\n",
       " 'so many distinct communities': 1,\n",
       " 'many distinct communities from': 1,\n",
       " 'distinct communities from which': 1,\n",
       " 'communities from which the': 1,\n",
       " 'from which the event': 1,\n",
       " 'which the event has': 1,\n",
       " 'the event has resulted': 1,\n",
       " 'event has resulted can': 1,\n",
       " 'has resulted can not': 1,\n",
       " 'resulted can not be': 1,\n",
       " 'can not be compared': 1,\n",
       " 'not be compared with': 1,\n",
       " 'be compared with the': 1,\n",
       " 'compared with the means': 1,\n",
       " 'with the means by': 1,\n",
       " 'the means by which': 1,\n",
       " 'means by which most': 1,\n",
       " 'by which most governments': 1,\n",
       " 'which most governments have': 1,\n",
       " 'most governments have been': 1,\n",
       " 'governments have been established': 1,\n",
       " 'have been established without': 1,\n",
       " 'been established without some': 1,\n",
       " 'established without some return': 1,\n",
       " 'without some return of': 1,\n",
       " 'some return of pious': 1,\n",
       " 'return of pious gratitude,': 1,\n",
       " 'of pious gratitude, along': 1,\n",
       " 'pious gratitude, along with': 1,\n",
       " 'gratitude, along with an': 1,\n",
       " 'along with an humble': 1,\n",
       " 'with an humble anticipation': 1,\n",
       " 'an humble anticipation of': 1,\n",
       " 'humble anticipation of the': 1,\n",
       " 'anticipation of the future': 1,\n",
       " 'of the future blessings': 1,\n",
       " 'the future blessings which': 1,\n",
       " 'future blessings which the': 1,\n",
       " 'blessings which the past': 1,\n",
       " 'which the past seem': 1,\n",
       " 'the past seem to': 1,\n",
       " 'past seem to presage.': 1,\n",
       " 'seem to presage. these': 1,\n",
       " 'to presage. these reflections,': 1,\n",
       " 'presage. these reflections, arising': 1,\n",
       " 'these reflections, arising out': 1,\n",
       " 'reflections, arising out of': 1,\n",
       " 'arising out of the': 1,\n",
       " 'out of the present': 1,\n",
       " 'of the present crisis,': 1,\n",
       " 'the present crisis, have': 1,\n",
       " 'present crisis, have forced': 1,\n",
       " 'crisis, have forced themselves': 1,\n",
       " 'have forced themselves too': 1,\n",
       " 'forced themselves too strongly': 1,\n",
       " 'themselves too strongly on': 1,\n",
       " 'too strongly on my': 1,\n",
       " 'strongly on my mind': 1,\n",
       " 'on my mind to': 1,\n",
       " 'my mind to be': 1,\n",
       " 'mind to be suppressed.': 1,\n",
       " 'to be suppressed. you': 1,\n",
       " 'be suppressed. you will': 1,\n",
       " 'suppressed. you will join': 1,\n",
       " 'you will join with': 1,\n",
       " 'will join with me,': 1,\n",
       " 'join with me, i': 1,\n",
       " 'with me, i trust,': 1,\n",
       " 'me, i trust, in': 1,\n",
       " 'i trust, in thinking': 1,\n",
       " 'trust, in thinking that': 1,\n",
       " 'in thinking that there': 1,\n",
       " 'thinking that there are': 1,\n",
       " 'that there are none': 1,\n",
       " 'there are none under': 1,\n",
       " 'are none under the': 1,\n",
       " 'none under the influence': 1,\n",
       " 'under the influence of': 1,\n",
       " 'the influence of which': 1,\n",
       " 'influence of which the': 1,\n",
       " 'of which the proceedings': 1,\n",
       " 'which the proceedings of': 1,\n",
       " 'the proceedings of a': 1,\n",
       " 'proceedings of a new': 1,\n",
       " 'of a new and': 1,\n",
       " 'a new and free': 1,\n",
       " 'new and free government': 1,\n",
       " 'and free government can': 1,\n",
       " 'free government can more': 1,\n",
       " 'government can more auspiciously': 1,\n",
       " 'can more auspiciously commence.\\n\\nby': 1,\n",
       " 'more auspiciously commence.\\n\\nby the': 1,\n",
       " 'auspiciously commence.\\n\\nby the article': 1,\n",
       " 'commence.\\n\\nby the article establishing': 1,\n",
       " 'the article establishing the': 1,\n",
       " 'article establishing the executive': 1,\n",
       " 'establishing the executive department': 1,\n",
       " 'the executive department it': 1,\n",
       " 'executive department it is': 1,\n",
       " 'department it is made': 1,\n",
       " 'it is made the': 1,\n",
       " 'is made the duty': 1,\n",
       " 'made the duty of': 1,\n",
       " 'the duty of the': 1,\n",
       " 'duty of the president': 1,\n",
       " 'of the president \"to': 1,\n",
       " 'the president \"to recommend': 1,\n",
       " 'president \"to recommend to': 1,\n",
       " '\"to recommend to your': 1,\n",
       " 'recommend to your consideration': 1,\n",
       " 'to your consideration such': 1,\n",
       " 'your consideration such measures': 1,\n",
       " 'consideration such measures as': 1,\n",
       " 'such measures as he': 1,\n",
       " 'measures as he shall': 1,\n",
       " 'as he shall judge': 1,\n",
       " 'he shall judge necessary': 1,\n",
       " 'shall judge necessary and': 1,\n",
       " 'judge necessary and expedient.\"': 1,\n",
       " 'necessary and expedient.\" the': 1,\n",
       " 'and expedient.\" the circumstances': 1,\n",
       " 'expedient.\" the circumstances under': 1,\n",
       " 'the circumstances under which': 1,\n",
       " 'circumstances under which i': 1,\n",
       " 'under which i now': 1,\n",
       " 'which i now meet': 1,\n",
       " 'i now meet you': 1,\n",
       " 'now meet you will': 1,\n",
       " 'meet you will acquit': 1,\n",
       " 'you will acquit me': 1,\n",
       " 'will acquit me from': 1,\n",
       " 'acquit me from entering': 1,\n",
       " 'me from entering into': 1,\n",
       " 'from entering into that': 1,\n",
       " 'entering into that subject': 1,\n",
       " 'into that subject further': 1,\n",
       " 'that subject further than': 1,\n",
       " 'subject further than to': 1,\n",
       " 'further than to refer': 1,\n",
       " 'than to refer to': 1,\n",
       " 'to refer to the': 1,\n",
       " 'refer to the great': 1,\n",
       " 'to the great constitutional': 1,\n",
       " 'the great constitutional charter': 1,\n",
       " 'great constitutional charter under': 1,\n",
       " 'constitutional charter under which': 1,\n",
       " 'charter under which you': 1,\n",
       " 'under which you are': 1,\n",
       " 'which you are assembled,': 1,\n",
       " 'you are assembled, and': 1,\n",
       " 'are assembled, and which,': 1,\n",
       " 'assembled, and which, in': 1,\n",
       " 'and which, in defining': 1,\n",
       " 'which, in defining your': 1,\n",
       " 'in defining your powers,': 1,\n",
       " 'defining your powers, designates': 1,\n",
       " 'your powers, designates the': 1,\n",
       " 'powers, designates the objects': 1,\n",
       " 'designates the objects to': 1,\n",
       " 'the objects to which': 1,\n",
       " 'objects to which your': 1,\n",
       " 'to which your attention': 1,\n",
       " 'which your attention is': 1,\n",
       " 'your attention is to': 1,\n",
       " 'attention is to be': 1,\n",
       " 'is to be given.': 1,\n",
       " 'to be given. it': 1,\n",
       " 'be given. it will': 1,\n",
       " 'given. it will be': 1,\n",
       " 'it will be more': 1,\n",
       " 'will be more consistent': 1,\n",
       " 'be more consistent with': 1,\n",
       " 'more consistent with those': 1,\n",
       " 'consistent with those circumstances,': 1,\n",
       " 'with those circumstances, and': 1,\n",
       " 'those circumstances, and far': 1,\n",
       " 'circumstances, and far more': 1,\n",
       " 'and far more congenial': 1,\n",
       " 'far more congenial with': 1,\n",
       " 'more congenial with the': 1,\n",
       " 'congenial with the feelings': 1,\n",
       " 'with the feelings which': 1,\n",
       " 'the feelings which actuate': 1,\n",
       " 'feelings which actuate me,': 1,\n",
       " 'which actuate me, to': 1,\n",
       " 'actuate me, to substitute,': 1,\n",
       " 'me, to substitute, in': 1,\n",
       " 'to substitute, in place': 1,\n",
       " 'substitute, in place of': 1,\n",
       " 'in place of a': 1,\n",
       " 'place of a recommendation': 1,\n",
       " 'of a recommendation of': 1,\n",
       " 'a recommendation of particular': 1,\n",
       " 'recommendation of particular measures,': 1,\n",
       " 'of particular measures, the': 1,\n",
       " 'particular measures, the tribute': 1,\n",
       " 'measures, the tribute that': 1,\n",
       " 'the tribute that is': 1,\n",
       " 'tribute that is due': 1,\n",
       " 'that is due to': 1,\n",
       " 'is due to the': 1,\n",
       " 'due to the talents,': 1,\n",
       " 'to the talents, the': 1,\n",
       " 'the talents, the rectitude,': 1,\n",
       " 'talents, the rectitude, and': 1,\n",
       " 'the rectitude, and the': 1,\n",
       " 'rectitude, and the patriotism': 1,\n",
       " 'and the patriotism which': 1,\n",
       " 'the patriotism which adorn': 1,\n",
       " 'patriotism which adorn the': 1,\n",
       " 'which adorn the characters': 1,\n",
       " 'adorn the characters selected': 1,\n",
       " 'the characters selected to': 1,\n",
       " 'characters selected to devise': 1,\n",
       " 'selected to devise and': 1,\n",
       " 'to devise and adopt': 1,\n",
       " 'devise and adopt them.': 1,\n",
       " 'and adopt them. in': 1,\n",
       " 'adopt them. in these': 1,\n",
       " 'them. in these honorable': 1,\n",
       " 'in these honorable qualifications': 1,\n",
       " 'these honorable qualifications i': 1,\n",
       " 'honorable qualifications i behold': 1,\n",
       " 'qualifications i behold the': 1,\n",
       " 'i behold the surest': 1,\n",
       " 'behold the surest pledges': 1,\n",
       " 'the surest pledges that': 1,\n",
       " 'surest pledges that as': 1,\n",
       " 'pledges that as on': 1,\n",
       " 'that as on one': 1,\n",
       " 'as on one side': 1,\n",
       " 'on one side no': 1,\n",
       " 'one side no local': 1,\n",
       " 'side no local prejudices': 1,\n",
       " 'no local prejudices or': 1,\n",
       " 'local prejudices or attachments,': 1,\n",
       " 'prejudices or attachments, no': 1,\n",
       " 'or attachments, no separate': 1,\n",
       " 'attachments, no separate views': 1,\n",
       " 'no separate views nor': 1,\n",
       " 'separate views nor party': 1,\n",
       " 'views nor party animosities,': 1,\n",
       " 'nor party animosities, will': 1,\n",
       " 'party animosities, will misdirect': 1,\n",
       " 'animosities, will misdirect the': 1,\n",
       " 'will misdirect the comprehensive': 1,\n",
       " 'misdirect the comprehensive and': 1,\n",
       " 'the comprehensive and equal': 1,\n",
       " 'comprehensive and equal eye': 1,\n",
       " 'and equal eye which': 1,\n",
       " 'equal eye which ought': 1,\n",
       " 'eye which ought to': 1,\n",
       " 'which ought to watch': 1,\n",
       " 'ought to watch over': 1,\n",
       " 'to watch over this': 1,\n",
       " 'watch over this great': 1,\n",
       " 'over this great assemblage': 1,\n",
       " 'this great assemblage of': 1,\n",
       " 'great assemblage of communities': 1,\n",
       " 'assemblage of communities and': 1,\n",
       " 'of communities and interests,': 1,\n",
       " 'communities and interests, so,': 1,\n",
       " 'and interests, so, on': 1,\n",
       " 'interests, so, on another,': 1,\n",
       " 'so, on another, that': 1,\n",
       " 'on another, that the': 1,\n",
       " 'another, that the foundation': 1,\n",
       " 'that the foundation of': 1,\n",
       " 'the foundation of our': 1,\n",
       " 'foundation of our national': 1,\n",
       " 'of our national policy': 1,\n",
       " 'our national policy will': 1,\n",
       " 'national policy will be': 1,\n",
       " 'policy will be laid': 1,\n",
       " 'will be laid in': 1,\n",
       " 'be laid in the': 1,\n",
       " 'laid in the pure': 1,\n",
       " 'in the pure and': 1,\n",
       " 'the pure and immutable': 1,\n",
       " 'pure and immutable principles': 1,\n",
       " 'and immutable principles of': 1,\n",
       " 'immutable principles of private': 1,\n",
       " 'principles of private morality,': 1,\n",
       " 'of private morality, and': 1,\n",
       " 'private morality, and the': 1,\n",
       " 'morality, and the preeminence': 1,\n",
       " 'and the preeminence of': 1,\n",
       " 'the preeminence of free': 1,\n",
       " 'preeminence of free government': 1,\n",
       " 'of free government be': 1,\n",
       " 'free government be exemplified': 1,\n",
       " 'government be exemplified by': 1,\n",
       " 'be exemplified by all': 1,\n",
       " 'exemplified by all the': 1,\n",
       " 'by all the attributes': 1,\n",
       " 'all the attributes which': 1,\n",
       " 'the attributes which can': 1,\n",
       " 'attributes which can win': 1,\n",
       " 'which can win the': 1,\n",
       " 'can win the affections': 1,\n",
       " 'win the affections of': 1,\n",
       " 'the affections of its': 1,\n",
       " 'affections of its citizens': 1,\n",
       " 'of its citizens and': 1,\n",
       " 'its citizens and command': 1,\n",
       " 'citizens and command the': 1,\n",
       " 'and command the respect': 1,\n",
       " 'command the respect of': 1,\n",
       " 'the respect of the': 1,\n",
       " 'respect of the world.': 1,\n",
       " 'of the world. i': 1,\n",
       " 'the world. i dwell': 1,\n",
       " 'world. i dwell on': 1,\n",
       " 'i dwell on this': 1,\n",
       " 'dwell on this prospect': 1,\n",
       " 'on this prospect with': 1,\n",
       " 'this prospect with every': 1,\n",
       " 'prospect with every satisfaction': 1,\n",
       " 'with every satisfaction which': 1,\n",
       " 'every satisfaction which an': 1,\n",
       " 'satisfaction which an ardent': 1,\n",
       " 'which an ardent love': 1,\n",
       " 'an ardent love for': 1,\n",
       " 'ardent love for my': 1,\n",
       " 'love for my country': 1,\n",
       " 'for my country can': 1,\n",
       " 'my country can inspire,': 1,\n",
       " 'country can inspire, since': 1,\n",
       " 'can inspire, since there': 1,\n",
       " 'inspire, since there is': 1,\n",
       " 'since there is no': 1,\n",
       " 'there is no truth': 1,\n",
       " 'is no truth more': 1,\n",
       " 'no truth more thoroughly': 1,\n",
       " 'truth more thoroughly established': 1,\n",
       " 'more thoroughly established than': 1,\n",
       " 'thoroughly established than that': 1,\n",
       " 'established than that there': 1,\n",
       " 'than that there exists': 1,\n",
       " 'that there exists in': 1,\n",
       " 'there exists in the': 1,\n",
       " 'exists in the economy': 1,\n",
       " 'in the economy and': 1,\n",
       " 'the economy and course': 1,\n",
       " 'economy and course of': 1,\n",
       " 'and course of nature': 1,\n",
       " 'course of nature an': 1,\n",
       " 'of nature an indissoluble': 1,\n",
       " 'nature an indissoluble union': 1,\n",
       " 'an indissoluble union between': 1,\n",
       " 'indissoluble union between virtue': 1,\n",
       " 'union between virtue and': 1,\n",
       " 'between virtue and happiness;': 1,\n",
       " 'virtue and happiness; between': 1,\n",
       " 'and happiness; between duty': 1,\n",
       " 'happiness; between duty and': 1,\n",
       " 'between duty and advantage;': 1,\n",
       " 'duty and advantage; between': 1,\n",
       " 'and advantage; between the': 1,\n",
       " 'advantage; between the genuine': 1,\n",
       " 'between the genuine maxims': 1,\n",
       " 'the genuine maxims of': 1,\n",
       " 'genuine maxims of an': 1,\n",
       " 'maxims of an honest': 1,\n",
       " 'of an honest and': 1,\n",
       " 'an honest and magnanimous': 1,\n",
       " 'honest and magnanimous policy': 1,\n",
       " 'and magnanimous policy and': 1,\n",
       " 'magnanimous policy and the': 1,\n",
       " 'policy and the solid': 1,\n",
       " 'and the solid rewards': 1,\n",
       " 'the solid rewards of': 1,\n",
       " 'solid rewards of public': 1,\n",
       " 'rewards of public prosperity': 1,\n",
       " 'of public prosperity and': 1,\n",
       " 'public prosperity and felicity;': 1,\n",
       " 'prosperity and felicity; since': 1,\n",
       " 'and felicity; since we': 1,\n",
       " 'felicity; since we ought': 1,\n",
       " 'since we ought to': 1,\n",
       " 'we ought to be': 1,\n",
       " 'ought to be no': 1,\n",
       " 'to be no less': 1,\n",
       " 'be no less persuaded': 1,\n",
       " 'no less persuaded that': 1,\n",
       " 'less persuaded that the': 1,\n",
       " 'persuaded that the propitious': 1,\n",
       " 'that the propitious smiles': 1,\n",
       " 'the propitious smiles of': 1,\n",
       " 'propitious smiles of heaven': 1,\n",
       " 'smiles of heaven can': 1,\n",
       " 'of heaven can never': 1,\n",
       " 'heaven can never be': 1,\n",
       " 'can never be expected': 1,\n",
       " 'never be expected on': 1,\n",
       " 'be expected on a': 1,\n",
       " 'expected on a nation': 1,\n",
       " 'on a nation that': 1,\n",
       " 'a nation that disregards': 1,\n",
       " 'nation that disregards the': 1,\n",
       " 'that disregards the eternal': 1,\n",
       " 'disregards the eternal rules': 1,\n",
       " 'the eternal rules of': 1,\n",
       " 'eternal rules of order': 1,\n",
       " 'rules of order and': 1,\n",
       " 'of order and right': 1,\n",
       " 'order and right which': 1,\n",
       " 'and right which heaven': 1,\n",
       " 'right which heaven itself': 1,\n",
       " 'which heaven itself has': 1,\n",
       " 'heaven itself has ordained;': 1,\n",
       " 'itself has ordained; and': 1,\n",
       " 'has ordained; and since': 1,\n",
       " 'ordained; and since the': 1,\n",
       " 'and since the preservation': 1,\n",
       " 'since the preservation of': 1,\n",
       " 'the preservation of the': 1,\n",
       " 'preservation of the sacred': 1,\n",
       " 'of the sacred fire': 1,\n",
       " 'the sacred fire of': 1,\n",
       " 'sacred fire of liberty': 1,\n",
       " 'fire of liberty and': 1,\n",
       " 'of liberty and the': 1,\n",
       " 'liberty and the destiny': 1,\n",
       " 'and the destiny of': 1,\n",
       " 'the destiny of the': 1,\n",
       " 'destiny of the republican': 1,\n",
       " 'of the republican model': 1,\n",
       " 'the republican model of': 1,\n",
       " 'republican model of government': 1,\n",
       " 'model of government are': 1,\n",
       " 'of government are justly': 1,\n",
       " 'government are justly considered,': 1,\n",
       " 'are justly considered, perhaps,': 1,\n",
       " 'justly considered, perhaps, as': 1,\n",
       " 'considered, perhaps, as deeply,': 1,\n",
       " 'perhaps, as deeply, as': 1,\n",
       " 'as deeply, as finally,': 1,\n",
       " 'deeply, as finally, staked': 1,\n",
       " 'as finally, staked on': 1,\n",
       " 'finally, staked on the': 1,\n",
       " 'staked on the experiment': 1,\n",
       " 'on the experiment entrusted': 1,\n",
       " 'the experiment entrusted to': 1,\n",
       " 'experiment entrusted to the': 1,\n",
       " 'entrusted to the hands': 1,\n",
       " 'to the hands of': 1,\n",
       " 'the hands of the': 1,\n",
       " 'hands of the american': 1,\n",
       " 'of the american people.\\n\\nbesides': 1,\n",
       " 'the american people.\\n\\nbesides the': 1,\n",
       " 'american people.\\n\\nbesides the ordinary': 1,\n",
       " 'people.\\n\\nbesides the ordinary objects': 1,\n",
       " 'the ordinary objects submitted': 1,\n",
       " 'ordinary objects submitted to': 1,\n",
       " 'objects submitted to your': 1,\n",
       " 'submitted to your care,': 1,\n",
       " 'to your care, it': 1,\n",
       " 'your care, it will': 1,\n",
       " 'care, it will remain': 1,\n",
       " 'it will remain with': 1,\n",
       " 'will remain with your': 1,\n",
       " 'remain with your judgment': 1,\n",
       " ...}"
      ]
     },
     "execution_count": 17,
     "metadata": {},
     "output_type": "execute_result"
    }
   ],
   "source": [
    "getNgrams(inaugural.raw(fileids=inaugural.fileids()[0]),4)"
   ]
  },
  {
   "cell_type": "markdown",
   "metadata": {
    "pycharm": {
     "name": "#%% md\n"
    },
    "slideshow": {
     "slide_type": "slide"
    }
   },
   "source": [
    "## <span style=\"color:blue\">Word Similarity</span>\n",
    "NLTK provides a simple text similarity function that shows which words are used in a similar context"
   ]
  },
  {
   "cell_type": "code",
   "execution_count": null,
   "metadata": {
    "pycharm": {
     "name": "#%%\n"
    },
    "slideshow": {
     "slide_type": "subslide"
    }
   },
   "outputs": [],
   "source": [
    "# Show text concordance for the word \"frightened\"\n",
    "text1.concordance('frightened')"
   ]
  },
  {
   "cell_type": "code",
   "execution_count": null,
   "metadata": {
    "pycharm": {
     "name": "#%%\n"
    },
    "slideshow": {
     "slide_type": "subslide"
    }
   },
   "outputs": [],
   "source": [
    "# show words that are used in a similar cotntext as \"frightened\"\n",
    "text1.similar(\"frightened\")"
   ]
  },
  {
   "cell_type": "code",
   "execution_count": null,
   "metadata": {
    "pycharm": {
     "name": "#%%\n"
    },
    "scrolled": true,
    "slideshow": {
     "slide_type": "subslide"
    }
   },
   "outputs": [],
   "source": [
    "text1.concordance('racing')"
   ]
  },
  {
   "cell_type": "markdown",
   "metadata": {
    "pycharm": {
     "name": "#%% md\n"
    },
    "slideshow": {
     "slide_type": "slide"
    }
   },
   "source": [
    "## <span style=\"color:blue\">Dispersion plot</span>\n",
    "The  <span style=\"color:blue\">dispersion plot</span> is helpful to determine the location of a word in a sequence of text sentences. It shows the spread of any particular word across the whole text. In the plot, the x axis represents the <span style=\"color:blue\">narrative time </span> measured by the number of words in the text. Also, when the desired word appears in the text a black vertical line is plotted, otherwise it remains blank (white line)."
   ]
  },
  {
   "cell_type": "code",
   "execution_count": null,
   "metadata": {
    "pycharm": {
     "name": "#%%\n"
    },
    "slideshow": {
     "slide_type": "subslide"
    }
   },
   "outputs": [],
   "source": [
    "text4.dispersion_plot(['America', 'citizen', 'terrorism', 'family'])"
   ]
  },
  {
   "cell_type": "code",
   "execution_count": null,
   "metadata": {
    "pycharm": {
     "name": "#%%\n"
    },
    "slideshow": {
     "slide_type": "subslide"
    }
   },
   "outputs": [],
   "source": [
    "# Dispersion plot from bible text\n",
    "lines = []\n",
    "with open(\"data/kjvdat.txt\",'r') as bib_file:\n",
    "    for line in bib_file:\n",
    "        lines.append(line.split('| ')[1][:-2])\n",
    "\n",
    "bib_tokens = nltk.word_tokenize(' '.join(lines).lower())\n",
    "bib_text = nltk.Text(bib_tokens)\n",
    "bib_text.dispersion_plot(['god', 'satan', 'moses', 'jesus', 'elisha'])"
   ]
  },
  {
   "cell_type": "code",
   "execution_count": null,
   "metadata": {
    "pycharm": {
     "name": "#%%\n"
    },
    "slideshow": {
     "slide_type": "subslide"
    }
   },
   "outputs": [],
   "source": [
    "# Dispersion plot from quran text\n",
    "lines = []\n",
    "with open(\"data/en.sahih.txt\",'r') as qur_file:\n",
    "    for line in qur_file:\n",
    "        lines.append(line.split('|')[2])\n",
    "\n",
    "qur_tokens = nltk.word_tokenize(' '.join(lines).lower())\n",
    "qur_text = nltk.Text(qur_tokens)\n",
    "qur_text.dispersion_plot(['god', 'satan', 'moses', 'jesus', 'elisha'])"
   ]
  },
  {
   "cell_type": "markdown",
   "metadata": {
    "pycharm": {
     "name": "#%% md\n"
    },
    "slideshow": {
     "slide_type": "slide"
    }
   },
   "source": [
    "## <span style=\"color:blue\">Word clouds</span>\n",
    "Word cloud or tag cloud represents the frequency or importance of each word in a corpus."
   ]
  },
  {
   "cell_type": "code",
   "execution_count": null,
   "metadata": {
    "pycharm": {
     "name": "#%%\n"
    }
   },
   "outputs": [],
   "source": [
    "!pip install wordcloud"
   ]
  },
  {
   "cell_type": "code",
   "execution_count": null,
   "metadata": {
    "pycharm": {
     "name": "#%%\n"
    }
   },
   "outputs": [],
   "source": []
  },
  {
   "cell_type": "code",
   "execution_count": null,
   "metadata": {
    "pycharm": {
     "name": "#%%\n"
    },
    "slideshow": {
     "slide_type": "subslide"
    }
   },
   "outputs": [],
   "source": [
    "from wordcloud import WordCloud\n",
    "import matplotlib.pyplot as plt\n",
    "%matplotlib inline\n",
    "wordcloud = WordCloud().generate(content)\n",
    "plt.imshow(wordcloud, interpolation='bilinear')\n",
    "plt.axis(\"off\")\n",
    "plt.show()"
   ]
  },
  {
   "cell_type": "code",
   "execution_count": null,
   "metadata": {
    "pycharm": {
     "name": "#%%\n"
    },
    "slideshow": {
     "slide_type": "subslide"
    }
   },
   "outputs": [],
   "source": [
    "# get the german stopwords from NLTK\n",
    "from nltk.corpus import stopwords\n",
    "stopwords = stopwords.words('german')\n",
    "content = open(\"data/deu.txt\").read()\n",
    "words = content.split(\" \")\n",
    "cleanwords = removeStopWords(words, stopwords)\n",
    "\n",
    "freqdict = freqDict(cleanwords)\n",
    "# Build a dictionary of word:frequency pairs\n",
    "d ={}\n",
    "for word in sortDict(freqdict):\n",
    "    d[word[1]] =word[0]\n",
    "wordcloud = WordCloud()\n",
    "# Create Word cloud from dictionaries based on frequencies\n",
    "wordcloud.generate_from_frequencies(frequencies=d)\n",
    "plt.figure()\n",
    "plt.imshow(wordcloud, interpolation=\"bilinear\")\n",
    "plt.axis(\"off\")\n",
    "plt.show()"
   ]
  },
  {
   "cell_type": "markdown",
   "metadata": {
    "pycharm": {
     "name": "#%% md\n"
    },
    "slideshow": {
     "slide_type": "slide"
    }
   },
   "source": [
    "## Introduction to Numpy and Pandas\n",
    "## <span style=\"color:blue\">Numpy</span>\n",
    "Numpy provides math and data manipulations using an ndarray (n dimensional array) objects."
   ]
  },
  {
   "cell_type": "code",
   "execution_count": null,
   "metadata": {
    "pycharm": {
     "name": "#%%\n"
    },
    "slideshow": {
     "slide_type": "subslide"
    }
   },
   "outputs": [],
   "source": [
    "# create numpy array \n",
    "import numpy as np\n",
    "list1 = [0,1,2,3,4]\n",
    "listnp = np.array(list1)\n",
    "print(listnp)\n",
    "print(\"types of listnp:\",type(listnp))"
   ]
  },
  {
   "cell_type": "code",
   "execution_count": null,
   "metadata": {
    "pycharm": {
     "name": "#%%\n"
    },
    "slideshow": {
     "slide_type": "subslide"
    }
   },
   "outputs": [],
   "source": [
    "# add 2 to each memebrs of the array\n",
    "listnp +=  2\n",
    "print(listnp)"
   ]
  },
  {
   "cell_type": "code",
   "execution_count": null,
   "metadata": {
    "pycharm": {
     "name": "#%%\n"
    },
    "slideshow": {
     "slide_type": "subslide"
    }
   },
   "outputs": [],
   "source": [
    "# Create a 2d array from a list of lists\n",
    "list2 = [[0,1,2], [3,4,5], [6,7,8]]\n",
    "listnp2 = np.array(list2)\n",
    "print(listnp2)\n",
    "print(\"shapes:\",listnp2.shape)\n",
    "print(\"dimesnion:\",listnp2.ndim)\n",
    "print(\"total number of items:\",listnp2.size)"
   ]
  },
  {
   "cell_type": "code",
   "execution_count": null,
   "metadata": {
    "pycharm": {
     "name": "#%%\n"
    },
    "slideshow": {
     "slide_type": "subslide"
    }
   },
   "outputs": [],
   "source": [
    "print(\"all:\",listnp2)\n",
    "# Extract the first 2 rows and columns\n",
    "print(\"first 2:\",listnp2[:2, :2])"
   ]
  },
  {
   "cell_type": "code",
   "execution_count": null,
   "metadata": {
    "pycharm": {
     "name": "#%%\n"
    },
    "slideshow": {
     "slide_type": "subslide"
    }
   },
   "outputs": [],
   "source": [
    "# Reverse only the row positions\n",
    "listnp2[::-1, ]"
   ]
  },
  {
   "cell_type": "code",
   "execution_count": null,
   "metadata": {
    "pycharm": {
     "name": "#%%\n"
    },
    "slideshow": {
     "slide_type": "subslide"
    }
   },
   "outputs": [],
   "source": [
    "# Reverse the row and column positions\n",
    "listnp2[::-1, ::-1]"
   ]
  },
  {
   "cell_type": "code",
   "execution_count": null,
   "metadata": {
    "pycharm": {
     "name": "#%%\n"
    },
    "slideshow": {
     "slide_type": "subslide"
    }
   },
   "outputs": [],
   "source": [
    "# mean, max and min\n",
    "print(\"Mean value is: \", listnp2.mean())\n",
    "print(\"Max value is: \", listnp2.max())\n",
    "print(\"Min value is: \", listnp2.min())\n",
    "# Row wise and column wise min\n",
    "print(\"Column wise minimum: \", np.amin(listnp2, axis=0))\n",
    "print(\"Row wise minimum: \", np.amin(listnp2, axis=1))"
   ]
  },
  {
   "cell_type": "code",
   "execution_count": null,
   "metadata": {
    "pycharm": {
     "name": "#%%\n"
    },
    "slideshow": {
     "slide_type": "subslide"
    }
   },
   "outputs": [],
   "source": [
    "# Add new row\n",
    "newrow = [9,10,11]\n",
    "listnp3 = np.vstack([listnp2, newrow])\n",
    "print (listnp3)\n",
    "print (listnp3.shape)\n",
    "# Reshape a 4x4 array to 3x4 array\n",
    "print(listnp3.reshape(3, 4))"
   ]
  },
  {
   "cell_type": "code",
   "execution_count": null,
   "metadata": {
    "pycharm": {
     "name": "#%%\n"
    },
    "slideshow": {
     "slide_type": "subslide"
    }
   },
   "outputs": [],
   "source": [
    "# create 0 to 4 (size of 5)\n",
    "print(np.arange(5))  \n",
    "# 0 to 9\n",
    "print(np.arange(0, 10))  \n",
    "# 0 to 9 with step of 2\n",
    "print(np.arange(0, 10, 2))  \n",
    "# 10 to 1, decreasing order\n",
    "print(np.arange(10, 0, -1))"
   ]
  },
  {
   "cell_type": "code",
   "execution_count": null,
   "metadata": {
    "pycharm": {
     "name": "#%%\n"
    },
    "slideshow": {
     "slide_type": "subslide"
    }
   },
   "outputs": [],
   "source": [
    "# arry of zeros\n",
    "print(np.zeros([2,2]))\n",
    "\n",
    "# array of one\n",
    "print(np.ones([2,2,3]))"
   ]
  },
  {
   "cell_type": "code",
   "execution_count": null,
   "metadata": {
    "pycharm": {
     "name": "#%%\n"
    },
    "slideshow": {
     "slide_type": "subslide"
    }
   },
   "outputs": [],
   "source": [
    "# Random numbers between [0,1) of shape 2,2\n",
    "print(\"1.\", np.random.rand(2,2))\n",
    "# Normal distribution with mean=0 and variance=1 of shape 2,2\n",
    "print(\"2.\", np.random.randn(2,2))\n",
    "# Random integers between [0, 10) of shape 2,2\n",
    "print(\"3.\", np.random.randint(0, 10, size=[2,2]))\n",
    "# One random number between [0,1)\n",
    "print(\"4.\", np.random.random())\n",
    "# Random numbers between [0,1) of shape 2,2\n",
    "print(\"5.\", np.random.random(size=[2,2])) # same as np.random.rand(2,2)\n",
    "# Pick 10 items from a given list, with equal probability\n",
    "print(\"6.\", np.random.choice(['a', 'e', 'i', 'o', 'u'], size=10))  \n",
    "# Pick 10 items from a given list with a predefined probability 'p'\n",
    "print(\"7.\", np.random.choice(['a', 'e', 'i', 'o', 'u'], size=10, p=[0.3, .1, 0.1, 0.4, 0.1]))"
   ]
  },
  {
   "cell_type": "code",
   "execution_count": null,
   "metadata": {
    "pycharm": {
     "name": "#%%\n"
    },
    "slideshow": {
     "slide_type": "subslide"
    }
   },
   "outputs": [],
   "source": [
    "\n",
    "## Set the random seed == same random nubers will be generated if the process repeated\n",
    "np.random.seed(100)\n",
    "# Create random integers of size 10 between [0,10)\n",
    "listnp4 = np.random.randint(0, 10, size=10)\n",
    "print(listnp4)"
   ]
  },
  {
   "cell_type": "code",
   "execution_count": null,
   "metadata": {
    "pycharm": {
     "name": "#%%\n"
    },
    "slideshow": {
     "slide_type": "subslide"
    }
   },
   "outputs": [],
   "source": [
    "# concatenating columnwise\n",
    "a = np.zeros([4, 4])\n",
    "b = np.ones([4, 4])\n",
    "# Vertical Stack Equivalents (Row wise)\n",
    "print(\"using concatenate\", np.concatenate([a, b], axis=0))\n",
    "print(\"using vstack\",np.vstack([a,b]))\n",
    "np.r_[a,b]  # concatenation along the first axis."
   ]
  },
  {
   "cell_type": "code",
   "execution_count": null,
   "metadata": {
    "pycharm": {
     "name": "#%%\n"
    },
    "slideshow": {
     "slide_type": "subslide"
    }
   },
   "outputs": [],
   "source": [
    "# Coliumn wise stacking\n",
    "print(\"using concatenate\",np.concatenate([a, b], axis=1))\n",
    "print(\"using vstack\", np.hstack([a,b]))\n",
    "np.c_[a,b]"
   ]
  },
  {
   "cell_type": "code",
   "execution_count": null,
   "metadata": {
    "pycharm": {
     "name": "#%%\n"
    },
    "slideshow": {
     "slide_type": "subslide"
    }
   },
   "outputs": [],
   "source": [
    "# Import data from csv file (url)\n",
    "path = 'https://raw.githubusercontent.com/selva86/datasets/master/Auto.csv'\n",
    "data = np.genfromtxt(path, delimiter=',', dtype='f, d, f, f, f, f, d, d, U50', names=True)\n",
    "print(\"Headers:\",data.dtype.names)\n",
    "data[:3]  # see first 3 rows"
   ]
  },
  {
   "cell_type": "code",
   "execution_count": null,
   "metadata": {
    "pycharm": {
     "name": "#%%\n"
    },
    "slideshow": {
     "slide_type": "subslide"
    }
   },
   "outputs": [],
   "source": [
    "# Save the array as a csv file\n",
    "with open('data/Auto_out.csv', 'wb') as f:\n",
    "    np.savetxt(f, data, delimiter=\",\", header=','.join(data.dtype.names), fmt='%s')"
   ]
  },
  {
   "cell_type": "markdown",
   "metadata": {
    "pycharm": {
     "name": "#%% md\n"
    },
    "slideshow": {
     "slide_type": "slide"
    }
   },
   "source": [
    "##  Text to vector - one-hot encoding\n",
    "One hot encoding convert categorical data to a numeric value. For example, if you have the category as \"cat dog mouse\" This can be represented as `[1 0 0] [0 1 0] [0 0 1]` where the first index is for cat and the last for mouse."
   ]
  },
  {
   "cell_type": "code",
   "execution_count": null,
   "metadata": {
    "pycharm": {
     "name": "#%%\n"
    },
    "slideshow": {
     "slide_type": "subslide"
    }
   },
   "outputs": [],
   "source": [
    "# change texts to a one hot encoding\n",
    "sent = \"Can I eat the Pizza? said the man\".lower()\n",
    "words = set(sent.split())\n",
    "word_indexs = {}\n",
    "for i, word in enumerate(words):\n",
    "        word_indexs[word] = i\n",
    "print(word_indexs)\n",
    "word_vectors = [word_indexs[word] for word in sent.split()]\n",
    "one_hot_encodings = np.eye(len(words))[word_vectors]\n",
    "print(one_hot_encodings)"
   ]
  },
  {
   "cell_type": "code",
   "execution_count": null,
   "metadata": {
    "pycharm": {
     "name": "#%%\n"
    },
    "slideshow": {
     "slide_type": "subslide"
    }
   },
   "outputs": [],
   "source": [
    "# compute sentence similarity\n",
    "sent1 = \"I love Pizza\" # [1 1 1 0] vocabs = I, love, pizza, hate , Here hate is absent hence 0\n",
    "sent2 = \"I hate Pizza\" # [1 0 1 1 1]\n",
    "vec1 = np.array([1, 1, 1, 0])\n",
    "vec2 = np.array([1, 0, 1, 1])\n",
    "print(\"similarity=\", np.round(np.dot(vec1,vec2) / (np.sqrt(np.dot(vec1,vec1)) + np.sqrt(np.dot(vec2,vec2))), 2))"
   ]
  },
  {
   "cell_type": "markdown",
   "metadata": {
    "pycharm": {
     "name": "#%% md\n"
    },
    "slideshow": {
     "slide_type": "slide"
    }
   },
   "source": [
    "##  <span style=\"color:red\"> Excercise 2 ( 6 pts)</span>\n",
    "1.  Write a program that will produce one-hot encoding for sentences in a large corpus (use the NLTK books corpus). Before computing the one-hot encoding of sentences 1) remove stop words (you can use the builtin stopwords list in NLTK), and 2) compute the total number of unique words that is used to compute the size of the one-hot encoding vectors.\n",
    "1. Using the one-hot encoding, write a program that is used to find the most similar sentence for a given input sentence. How do you handle out-of-vocabulary words in the input sentences, i.e if the input sentence contains words that do not occur while training the one-hot encoding?"
   ]
  },
  {
   "cell_type": "code",
   "execution_count": 18,
   "metadata": {
    "pycharm": {
     "name": "#%%\n"
    }
   },
   "outputs": [],
   "source": [
    "import numpy as np\n",
    "from nltk.book import *\n",
    "from nltk.corpus import stopwords\n",
    "\n",
    "\n",
    "def removeStopWords(words, stopwords):\n",
    "    return [word.lower() for word in words if word.lower() not in stopwords]"
   ]
  },
  {
   "cell_type": "code",
   "execution_count": 19,
   "metadata": {
    "pycharm": {
     "name": "#%%\n"
    }
   },
   "outputs": [
    {
     "name": "stdout",
     "output_type": "stream",
     "text": [
      "Total number of unique words: 17079\n"
     ]
    }
   ],
   "source": [
    "# 2.1\n",
    "# Remove stop words\n",
    "stop_words = set(stopwords.words('english'))\n",
    "sentences = gutenberg.sents(\"melville-moby_dick.txt\")\n",
    "sentences = [removeStopWords(sentence, stop_words) for sentence in sentences]\n",
    "# Compute the total number of unique words\n",
    "word_idx = {word: idx for idx, word in enumerate(list(set(word for sentence in sentences for word in sentence)))}\n",
    "print(\"Total number of unique words:\", len(word_idx))"
   ]
  },
  {
   "cell_type": "code",
   "execution_count": 21,
   "metadata": {
    "pycharm": {
     "name": "#%%\n"
    }
   },
   "outputs": [
    {
     "name": "stdout",
     "output_type": "stream",
     "text": [
      "Enter a sentence: Today I almost had a panic attack, which isn't ideal\n",
      "Out-of-vocabulary word: attack,\n",
      "Most similar sentence: though many natural objects , whiteness refiningly enhances beauty , imparting special virtue , marbles , japonicas , pearls ; though various nations way recognised certain royal preeminence hue ; even barbaric , grand old kings pegu placing title \" lord white elephants \" magniloquent ascriptions dominion ; modern kings siam unfurling snow - white quadruped royal standard ; hanoverian flag bearing one figure snow - white charger ; great austrian empire , caesarian , heir overlording rome , imperial colour imperial hue ; though pre - eminence applies human race , giving white man ideal mastership every dusky tribe ; though , besides , , whiteness even made significant gladness , among romans white stone marked joyful day ; though mortal sympathies symbolizings , hue made emblem many touching , noble things -- innocence brides , benignity age ; though among red men america giving white belt wampum deepest pledge honour ; though many climes , whiteness typifies majesty justice ermine judge , contributes daily state kings queens drawn milk - white steeds ; though even higher mysteries august religions made symbol divine spotlessness power ; persian fire worshippers , white forked flame held holiest altar ; greek mythologies , great jove made incarnate snow - white bull ; though noble iroquois , midwinter sacrifice sacred white dog far holiest festival theology , spotless , faithful creature held purest envoy could send great spirit annual tidings fidelity ; though directly latin word white , christian priests derive name one part sacred vesture , alb tunic , worn beneath cassock ; though among holy pomps romish faith , white specially employed celebration passion lord ; though vision st . john , white robes given redeemed , four - - twenty elders stand clothed white great - white throne , holy one sitteth white like wool ; yet accumulated associations , whatever sweet , honourable , sublime , yet lurks elusive something innermost idea hue , strikes panic soul redness affrights blood .\n"
     ]
    }
   ],
   "source": [
    "# 2.2\n",
    "# Compute the one-hot encoding for each sentence\n",
    "one_hot_encodings = []\n",
    "for sentence in sentences:\n",
    "    one_hot_encoding = np.zeros(len(word_idx))\n",
    "    for word in sentence:\n",
    "        one_hot_encoding[word_idx[word]] = 1\n",
    "    one_hot_encodings.append(one_hot_encoding)\n",
    "# Enter a sentence and one-hot encode it, ignore out-of-vocabulary words\n",
    "input_sentence = input(\"Enter a sentence: \")\n",
    "input_sentence = removeStopWords(input_sentence.split(), stop_words)\n",
    "input_one_hot_encoding = np.zeros(len(word_idx))\n",
    "for word in input_sentence:\n",
    "    if word in word_idx:\n",
    "        input_one_hot_encoding[word_idx[word]] = 1\n",
    "    else:\n",
    "        print(\"Out-of-vocabulary word:\", word)\n",
    "# Calculate the most similar sentence\n",
    "most_similar_sentence = sentences[0]\n",
    "most_similar_sentence_one_hot_encoding = one_hot_encodings[0]\n",
    "most_similar_sentence_score = np.dot(input_one_hot_encoding, most_similar_sentence_one_hot_encoding)\n",
    "for i in range(1, len(sentences)):\n",
    "    sentence = sentences[i]\n",
    "    sentence_one_hot_encoding = one_hot_encodings[i]\n",
    "    sentence_score = np.dot(input_one_hot_encoding, sentence_one_hot_encoding)\n",
    "    if sentence_score > most_similar_sentence_score:\n",
    "        most_similar_sentence = sentence\n",
    "        most_similar_sentence_one_hot_encoding = sentence_one_hot_encoding\n",
    "        most_similar_sentence_score = sentence_score\n",
    "print(\"Most similar sentence:\", \" \".join(most_similar_sentence))\n"
   ]
  },
  {
   "cell_type": "markdown",
   "metadata": {
    "pycharm": {
     "name": "#%% md\n"
    },
    "slideshow": {
     "slide_type": "slide"
    }
   },
   "source": [
    "## Reading and plotting using <span class=\"girk\">pandas and Seaborn</span>"
   ]
  },
  {
   "cell_type": "code",
   "execution_count": null,
   "metadata": {
    "pycharm": {
     "name": "#%%\n"
    },
    "scrolled": true,
    "slideshow": {
     "slide_type": "subslide"
    }
   },
   "outputs": [],
   "source": [
    "# Read the auto_csv file we wrote to the file system earlier\n",
    "import pandas as pd\n",
    "df = pd.read_csv(\"data/Auto_out.csv\")\n",
    "df"
   ]
  },
  {
   "cell_type": "code",
   "execution_count": null,
   "metadata": {
    "pycharm": {
     "name": "#%%\n"
    },
    "slideshow": {
     "slide_type": "subslide"
    }
   },
   "outputs": [],
   "source": [
    "!pip install cufflinks --upgrade"
   ]
  },
  {
   "cell_type": "code",
   "execution_count": null,
   "metadata": {
    "pycharm": {
     "name": "#%%\n"
    },
    "slideshow": {
     "slide_type": "subslide"
    }
   },
   "outputs": [],
   "source": [
    "# A productivity tool that binds pandas and plotly.\n",
    "import cufflinks as cf\n",
    "cf.go_offline()\n",
    "cf.set_config_file(offline=False, world_readable=True)\n",
    "df['horsepower'].iplot(\n",
    "    kind='hist',\n",
    "    bins=50,\n",
    "    xTitle='HP',\n",
    "    linecolor='black',\n",
    "    yTitle='count',\n",
    "    title='HP distribution')"
   ]
  },
  {
   "cell_type": "code",
   "execution_count": null,
   "metadata": {
    "pycharm": {
     "name": "#%%\n"
    },
    "slideshow": {
     "slide_type": "subslide"
    }
   },
   "outputs": [],
   "source": [
    "!pip install seaborn"
   ]
  },
  {
   "cell_type": "markdown",
   "metadata": {
    "pycharm": {
     "name": "#%% md\n"
    },
    "slideshow": {
     "slide_type": "-"
    }
   },
   "source": [
    "# Vizualization of the `Predicting Upvotes` Dataset \n",
    "An online question and answer platform has hired you as a data scientist to identify the best question authors on the platform. This identification will bring more insight into increasing the user engagement. Given the tag of the question, number of views received, number of answers, username and reputation of the question author, the problem requires you to predict the upvote count that the question will receive.\n",
    "\n",
    "See details [here](https://github.com/lawrence2269/Upvotes)\n",
    "\n",
    "|Variable|\tDefinition|\n",
    "| :--- | :--- |\n",
    "|ID |\tQuestion ID |\n",
    "|Tag |\tAnonymised tags representing question category|\n",
    "|Reputation\t| Reputation score of question author|\n",
    "|Answers\t| Number of times question has been answered|\n",
    "|Username |\tAnonymised user id of question author|\n",
    "|Views |\tNumber of times question has been viewed|\n",
    "|Upvotes\t | (Target) Number of upvotes for the question|\n"
   ]
  },
  {
   "cell_type": "code",
   "execution_count": null,
   "metadata": {
    "pycharm": {
     "name": "#%%\n"
    },
    "slideshow": {
     "slide_type": "subslide"
    }
   },
   "outputs": [],
   "source": [
    "import numpy as np\n",
    "import matplotlib.pyplot as plt\n",
    "import seaborn as sns\n",
    "import pandas as pd\n",
    "from scipy import stats"
   ]
  },
  {
   "cell_type": "code",
   "execution_count": null,
   "metadata": {
    "pycharm": {
     "name": "#%%\n"
    },
    "slideshow": {
     "slide_type": "subslide"
    }
   },
   "outputs": [],
   "source": [
    "# Use the 'Predict Number of Upvotes' dataset: \n",
    "# https://datahack.analyticsvidhya.com/contest/enigma-codefest-machine-learning-1/\n",
    "#It deals with problem of predicting the upvote count for a queries posted and identify \n",
    "# the parameters that affect it the most.\n",
    "df = pd.read_csv(\"data/train_upvotes.csv\")\n",
    "df.head()"
   ]
  },
  {
   "cell_type": "code",
   "execution_count": null,
   "metadata": {
    "pycharm": {
     "name": "#%%\n"
    },
    "slideshow": {
     "slide_type": "subslide"
    }
   },
   "outputs": [],
   "source": [
    "#scatter plot to show relationship between views and upvotes\n",
    "sns.relplot(x=\"Views\", y=\"Upvotes\", data = df)"
   ]
  },
  {
   "cell_type": "code",
   "execution_count": null,
   "metadata": {
    "pycharm": {
     "name": "#%%\n"
    },
    "slideshow": {
     "slide_type": "subslide"
    }
   },
   "outputs": [],
   "source": [
    "# See the tag associated with the data with a color attached to the points\n",
    "sns.relplot(x=\"Views\", y=\"Upvotes\", hue = \"Tag\", data = df)\n"
   ]
  },
  {
   "cell_type": "code",
   "execution_count": null,
   "metadata": {
    "pycharm": {
     "name": "#%%\n"
    },
    "slideshow": {
     "slide_type": "subslide"
    }
   },
   "outputs": [],
   "source": [
    "sns.relplot(x=\"Views\", y=\"Upvotes\", hue = \"Answers\", data = df);"
   ]
  },
  {
   "cell_type": "code",
   "execution_count": null,
   "metadata": {
    "pycharm": {
     "name": "#%%\n"
    },
    "slideshow": {
     "slide_type": "subslide"
    }
   },
   "outputs": [],
   "source": [
    "# Food servers's tips in a restuarant, which factor is important?..\n",
    "tips = sns.load_dataset(\"tips\")\n",
    "tips"
   ]
  },
  {
   "cell_type": "code",
   "execution_count": null,
   "metadata": {
    "pycharm": {
     "name": "#%%\n"
    },
    "slideshow": {
     "slide_type": "subslide"
    }
   },
   "outputs": [],
   "source": [
    "#visualize a linear relationship as determined through regression using the regplot and lmplot functions\n",
    "sns.regplot(x=\"total_bill\", y=\"tip\", data=tips);"
   ]
  },
  {
   "cell_type": "code",
   "execution_count": null,
   "metadata": {
    "pycharm": {
     "name": "#%%\n"
    },
    "slideshow": {
     "slide_type": "subslide"
    }
   },
   "outputs": [],
   "source": [
    "sns.lmplot(x=\"total_bill\", y=\"tip\", data=tips);"
   ]
  },
  {
   "cell_type": "code",
   "execution_count": null,
   "metadata": {
    "pycharm": {
     "name": "#%%\n"
    },
    "slideshow": {
     "slide_type": "subslide"
    }
   },
   "outputs": [],
   "source": [
    "# Categorical onto a FaceGrid\n",
    "sns.catplot(x=\"sex\", y=\"tip\", jitter = False, data=tips)"
   ]
  },
  {
   "cell_type": "code",
   "execution_count": null,
   "metadata": {
    "pycharm": {
     "name": "#%%\n"
    },
    "slideshow": {
     "slide_type": "subslide"
    }
   },
   "outputs": [],
   "source": [
    "sns.catplot(x=\"sex\", y=\"total_bill\", jitter = False, data=tips)"
   ]
  },
  {
   "cell_type": "code",
   "execution_count": null,
   "metadata": {
    "pycharm": {
     "name": "#%%\n"
    },
    "slideshow": {
     "slide_type": "subslide"
    }
   },
   "outputs": [],
   "source": [
    "sns.catplot(x=\"time\", y=\"tip\", jitter = False, data=tips)"
   ]
  },
  {
   "cell_type": "code",
   "execution_count": null,
   "metadata": {
    "pycharm": {
     "name": "#%%\n"
    },
    "slideshow": {
     "slide_type": "subslide"
    }
   },
   "outputs": [],
   "source": [
    "sns.catplot(x=\"smoker\", y=\"total_bill\", jitter = False, data=tips)"
   ]
  },
  {
   "attachments": {
    "palette.png": {
     "image/png": "[encoded data removed]"
    }
   },
   "cell_type": "markdown",
   "metadata": {
    "pycharm": {
     "name": "#%% md\n"
    },
    "slideshow": {
     "slide_type": "slide"
    }
   },
   "source": [
    "## <span style=\"color:blue\">Heat Map</span>\n",
    "A heat map (or heatmap) is a graphical representation of data where the individual values contained in a matrix are represented as colors.\n",
    "\n",
    "You can use sequential color palettes which are suited to ordered data that progress from low to high (gradient). The palettes names are : Blues, BuGn, BuPu, GnBu, Greens, Greys, Oranges, OrRd, PuBu, PuBuGn, PuRd, Purples, RdPu, Reds, YlGn, YlGnBu YlOrBr, YlOrRd.\n",
    "![palette.png](attachment:palette.png)"
   ]
  },
  {
   "cell_type": "code",
   "execution_count": null,
   "metadata": {
    "pycharm": {
     "name": "#%%\n"
    },
    "slideshow": {
     "slide_type": "subslide"
    }
   },
   "outputs": [],
   "source": [
    "%matplotlib inline\n",
    "import matplotlib.pyplot as plt\n",
    "import pandas as pd\n",
    "df = pd.DataFrame([[10, 20, 30, 40], [7, 14, 21, 28], [55, 15, 8, 12],\n",
    "                    [15, 14, 1, 8]],\n",
    "                  columns=['Apple', 'Orange', 'Banana', 'Pear'],\n",
    "                  index=['Grp1', 'Grp2', 'Grp3', 'Grp4']\n",
    "                  )\n",
    "plt.imshow(df, cmap=\"YlGnBu\")\n",
    "plt.colorbar()\n",
    "plt.xticks(range(len(df)),df.columns, rotation=20)\n",
    "plt.yticks(range(len(df)),df.index)\n",
    "plt.show()"
   ]
  },
  {
   "cell_type": "code",
   "execution_count": null,
   "metadata": {
    "pycharm": {
     "name": "#%%\n"
    },
    "slideshow": {
     "slide_type": "subslide"
    }
   },
   "outputs": [],
   "source": [
    "import seaborn as sns\n",
    "import pandas as pd\n",
    "import numpy as np\n",
    " \n",
    "# Create a sample dataset \n",
    "df = pd.DataFrame(np.random.random((10,10)), columns=[\"a\",\"b\",\"c\",\"d\",\"e\",\"f\",\"g\",\"h\",\"i\",\"j\"])\n",
    "# plot using a color palette\n",
    "#chose one of them below\n",
    "#sns.heatmap(df, cmap=\"YlGnBu\")\n",
    "#sns.heatmap(df, cmap=\"Blues\")\n",
    "#sns.heatmap(df, cmap=\"BuPu\")\n",
    "sns.heatmap(df, cmap=\"Greens\")\n",
    " \n",
    "#add this after your favorite color to show the plot\n",
    "plt.show()"
   ]
  },
  {
   "cell_type": "markdown",
   "metadata": {
    "pycharm": {
     "name": "#%% md\n"
    },
    "slideshow": {
     "slide_type": "slide"
    }
   },
   "source": [
    "## Resources\n",
    "* [Text concordance](https://orange3-text.readthedocs.io/en/latest/widgets/concordance.html)\n",
    "* [Data Analysis and Visualization for Text Data](https://towardsdatascience.com/a-complete-exploratory-data-analysis-and-visualization-for-text-data-29fb1b96fb6a)\n",
    "* [Heatmap Seaborn](https://likegeeks.com/seaborn-heatmap-tutorial/)\n",
    "* [Heatmap Seaborn 2](https://stackabuse.com/seaborn-library-for-data-visualization-in-python-part-2/)\n",
    "* [Word cloud](https://www.datacamp.com/community/tutorials/wordcloud-python)\n",
    "* [Word Cloud 2](https://www.datacamp.com/community/tutorials/wordcloud-python)\n",
    "* [Word Frequencies](https://programminghistorian.org/en/lessons/counting-frequencies)\n",
    "* [Seaborn](https://www.analyticsvidhya.com/blog/2019/09/comprehensive-data-visualization-guide-seaborn-python/)\n",
    "* [seaborn tutorial](https://www.analyticsvidhya.com/blog/2019/09/comprehensive-data-visualization-guide-seaborn-python/)"
   ]
  },
  {
   "cell_type": "code",
   "execution_count": null,
   "metadata": {
    "pycharm": {
     "name": "#%%\n"
    }
   },
   "outputs": [],
   "source": []
  },
  {
   "cell_type": "code",
   "execution_count": null,
   "metadata": {},
   "outputs": [],
   "source": []
  },
  {
   "cell_type": "code",
   "execution_count": null,
   "metadata": {},
   "outputs": [],
   "source": []
  },
  {
   "cell_type": "code",
   "execution_count": null,
   "metadata": {},
   "outputs": [],
   "source": []
  }
 ],
 "metadata": {
  "kernelspec": {
   "display_name": "Python 3 (ipykernel)",
   "language": "python",
   "name": "python3"
  },
  "language_info": {
   "codemirror_mode": {
    "name": "ipython",
    "version": 3
   },
   "file_extension": ".py",
   "mimetype": "text/x-python",
   "name": "python",
   "nbconvert_exporter": "python",
   "pygments_lexer": "ipython3",
   "version": "3.9.13"
  }
 },
 "nbformat": 4,
 "nbformat_minor": 4
}
